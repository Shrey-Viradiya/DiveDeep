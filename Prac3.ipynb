{
  "nbformat": 4,
  "nbformat_minor": 0,
  "metadata": {
    "colab": {
      "name": "Prac3.ipynb",
      "provenance": [],
      "collapsed_sections": [],
      "authorship_tag": "ABX9TyPirVfS1haN0QKKXhUaLQrW",
      "include_colab_link": true
    },
    "kernelspec": {
      "name": "python3",
      "display_name": "Python 3"
    },
    "accelerator": "GPU"
  },
  "cells": [
    {
      "cell_type": "markdown",
      "metadata": {
        "id": "view-in-github",
        "colab_type": "text"
      },
      "source": [
        "<a href=\"https://colab.research.google.com/github/Shrey-Viradiya/DiveDeep/blob/master/Prac3.ipynb\" target=\"_parent\"><img src=\"https://colab.research.google.com/assets/colab-badge.svg\" alt=\"Open In Colab\"/></a>"
      ]
    },
    {
      "cell_type": "markdown",
      "metadata": {
        "id": "xZjju-JjtPQV"
      },
      "source": [
        "# Practical 3"
      ]
    },
    {
      "cell_type": "code",
      "metadata": {
        "colab": {
          "base_uri": "https://localhost:8080/"
        },
        "id": "rqzBEQFTM8W7",
        "outputId": "2228fa99-ae1a-4509-9148-d84c77ed5ea9"
      },
      "source": [
        "!nvidia-smi"
      ],
      "execution_count": null,
      "outputs": [
        {
          "output_type": "stream",
          "text": [
            "Mon Jan 25 09:48:20 2021       \n",
            "+-----------------------------------------------------------------------------+\n",
            "| NVIDIA-SMI 460.32.03    Driver Version: 418.67       CUDA Version: 10.1     |\n",
            "|-------------------------------+----------------------+----------------------+\n",
            "| GPU  Name        Persistence-M| Bus-Id        Disp.A | Volatile Uncorr. ECC |\n",
            "| Fan  Temp  Perf  Pwr:Usage/Cap|         Memory-Usage | GPU-Util  Compute M. |\n",
            "|                               |                      |               MIG M. |\n",
            "|===============================+======================+======================|\n",
            "|   0  Tesla T4            Off  | 00000000:00:04.0 Off |                    0 |\n",
            "| N/A   49C    P8    10W /  70W |      0MiB / 15079MiB |      0%      Default |\n",
            "|                               |                      |                 ERR! |\n",
            "+-------------------------------+----------------------+----------------------+\n",
            "                                                                               \n",
            "+-----------------------------------------------------------------------------+\n",
            "| Processes:                                                                  |\n",
            "|  GPU   GI   CI        PID   Type   Process name                  GPU Memory |\n",
            "|        ID   ID                                                   Usage      |\n",
            "|=============================================================================|\n",
            "|  No running processes found                                                 |\n",
            "+-----------------------------------------------------------------------------+\n"
          ],
          "name": "stdout"
        }
      ]
    },
    {
      "cell_type": "markdown",
      "metadata": {
        "id": "9A4ELRAEtUtb"
      },
      "source": [
        "### Shrey Viradiya\r\n",
        "### 18BCE259"
      ]
    },
    {
      "cell_type": "code",
      "metadata": {
        "id": "88sJENyNs6_x"
      },
      "source": [
        "import tensorflow as tf\r\n",
        "import matplotlib.pyplot as plt\r\n",
        "from tensorflow.keras.datasets import mnist\r\n",
        "import sklearn.metrics"
      ],
      "execution_count": null,
      "outputs": []
    },
    {
      "cell_type": "code",
      "metadata": {
        "id": "nymLHkerwkFX"
      },
      "source": [
        "def plot_image(image):\r\n",
        "    plt.imshow(image.squeeze(), cmap=plt.cm.binary, interpolation=\"nearest\")\r\n",
        "    plt.axis(\"off\")\r\n",
        "\r\n",
        "def plot_color_image(image):\r\n",
        "    plt.imshow(image.squeeze(), interpolation=\"nearest\")\r\n",
        "    plt.axis(\"off\")"
      ],
      "execution_count": null,
      "outputs": []
    },
    {
      "cell_type": "code",
      "metadata": {
        "id": "BgWRy3_BxTvW"
      },
      "source": [
        "(train_images, train_labels), (test_images, test_labels) = mnist.load_data()\r\n",
        "train_labels = tf.keras.utils.to_categorical(train_labels)\r\n",
        "test_labels = tf.keras.utils.to_categorical(test_labels)\r\n",
        "\r\n",
        "train_images = train_images.reshape(-1, 28, 28, 1)\r\n",
        "test_images = test_images.reshape(-1, 28, 28, 1)\r\n",
        "train_labels = train_labels.reshape(-1, 1, 1, 10)\r\n",
        "test_labels = test_labels.reshape(-1, 1, 1, 10)\r\n",
        "\r\n",
        "valid_images, valid_labels, test_images, test_labels = test_images[0:1000], test_labels[0:1000], test_images[1000:], test_labels[1000:]"
      ],
      "execution_count": null,
      "outputs": []
    },
    {
      "cell_type": "code",
      "metadata": {
        "colab": {
          "base_uri": "https://localhost:8080/"
        },
        "id": "Fyb6OqxUxVMG",
        "outputId": "5aff5ff7-e1b9-4eba-a46d-7a05725a27be"
      },
      "source": [
        "train_images.shape"
      ],
      "execution_count": null,
      "outputs": [
        {
          "output_type": "execute_result",
          "data": {
            "text/plain": [
              "(60000, 28, 28, 1)"
            ]
          },
          "metadata": {
            "tags": []
          },
          "execution_count": 5
        }
      ]
    },
    {
      "cell_type": "code",
      "metadata": {
        "colab": {
          "base_uri": "https://localhost:8080/"
        },
        "id": "AC8BoSNcxckp",
        "outputId": "36ffcf14-6b3a-4dc5-80f5-e36138f14ef2"
      },
      "source": [
        "len(train_labels)"
      ],
      "execution_count": null,
      "outputs": [
        {
          "output_type": "execute_result",
          "data": {
            "text/plain": [
              "60000"
            ]
          },
          "metadata": {
            "tags": []
          },
          "execution_count": 6
        }
      ]
    },
    {
      "cell_type": "code",
      "metadata": {
        "colab": {
          "base_uri": "https://localhost:8080/"
        },
        "id": "d4Z26uUaxeDt",
        "outputId": "19af23c5-bd49-4922-db33-cb91a7fef38a"
      },
      "source": [
        "train_labels"
      ],
      "execution_count": null,
      "outputs": [
        {
          "output_type": "execute_result",
          "data": {
            "text/plain": [
              "array([[[[0., 0., 0., ..., 0., 0., 0.]]],\n",
              "\n",
              "\n",
              "       [[[1., 0., 0., ..., 0., 0., 0.]]],\n",
              "\n",
              "\n",
              "       [[[0., 0., 0., ..., 0., 0., 0.]]],\n",
              "\n",
              "\n",
              "       ...,\n",
              "\n",
              "\n",
              "       [[[0., 0., 0., ..., 0., 0., 0.]]],\n",
              "\n",
              "\n",
              "       [[[0., 0., 0., ..., 0., 0., 0.]]],\n",
              "\n",
              "\n",
              "       [[[0., 0., 0., ..., 0., 1., 0.]]]], dtype=float32)"
            ]
          },
          "metadata": {
            "tags": []
          },
          "execution_count": 7
        }
      ]
    },
    {
      "cell_type": "code",
      "metadata": {
        "colab": {
          "base_uri": "https://localhost:8080/"
        },
        "id": "sg_tVd0uxfw1",
        "outputId": "f77bca22-ae07-4ccc-dbea-c6b30555df87"
      },
      "source": [
        "train_labels.shape"
      ],
      "execution_count": null,
      "outputs": [
        {
          "output_type": "execute_result",
          "data": {
            "text/plain": [
              "(60000, 1, 1, 10)"
            ]
          },
          "metadata": {
            "tags": []
          },
          "execution_count": 8
        }
      ]
    },
    {
      "cell_type": "code",
      "metadata": {
        "colab": {
          "base_uri": "https://localhost:8080/"
        },
        "id": "Z_Eh4f99xhTM",
        "outputId": "e5ec8598-9d9a-4e3d-9b5f-fbf807ea44a2"
      },
      "source": [
        "test_images.shape"
      ],
      "execution_count": null,
      "outputs": [
        {
          "output_type": "execute_result",
          "data": {
            "text/plain": [
              "(9000, 28, 28, 1)"
            ]
          },
          "metadata": {
            "tags": []
          },
          "execution_count": 9
        }
      ]
    },
    {
      "cell_type": "code",
      "metadata": {
        "colab": {
          "base_uri": "https://localhost:8080/",
          "height": 247
        },
        "id": "BGiO-lKQxjve",
        "outputId": "3d9500c6-a18b-48ff-8ff4-842253c0d550"
      },
      "source": [
        "plot_image(test_images[0])"
      ],
      "execution_count": null,
      "outputs": [
        {
          "output_type": "display_data",
          "data": {
            "image/png": "[encoded data removed]",
            "text/plain": [
              "<Figure size 432x288 with 1 Axes>"
            ]
          },
          "metadata": {
            "tags": [],
            "needs_background": "light"
          }
        }
      ]
    },
    {
      "cell_type": "code",
      "metadata": {
        "id": "SbuxdxP8xoX2"
      },
      "source": [
        "train_images = train_images / 255.0\r\n",
        "test_images = test_images / 255.0"
      ],
      "execution_count": null,
      "outputs": []
    },
    {
      "cell_type": "code",
      "metadata": {
        "colab": {
          "base_uri": "https://localhost:8080/",
          "height": 594
        },
        "id": "xjkQh-ptxsrd",
        "outputId": "4de41fe9-3490-4b64-af04-0f6c0b44b57b"
      },
      "source": [
        "plt.figure(figsize=(10,10))\r\n",
        "for i in range(25):\r\n",
        "    plt.subplot(5,5,i+1)\r\n",
        "    plt.grid(False)\r\n",
        "    plt.imshow(train_images[i].squeeze(), cmap=plt.cm.binary)\r\n",
        "plt.show()"
      ],
      "execution_count": null,
      "outputs": [
        {
          "output_type": "display_data",
          "data": {
            "image/png": "[encoded data removed]",
            "text/plain": [
              "<Figure size 720x720 with 25 Axes>"
            ]
          },
          "metadata": {
            "tags": [],
            "needs_background": "light"
          }
        }
      ]
    },
    {
      "cell_type": "code",
      "metadata": {
        "id": "4NdCYnN4x29x"
      },
      "source": [
        "model = tf.keras.Sequential([\r\n",
        "    tf.keras.layers.Conv2D(64, (3,3), activation = 'relu', input_shape = (28,28,1)),\r\n",
        "    tf.keras.layers.MaxPool2D((2,2)),\r\n",
        "    tf.keras.layers.Conv2D(32, (5,5), activation = 'relu'),\r\n",
        "    tf.keras.layers.MaxPool2D((2,2)),\r\n",
        "    tf.keras.layers.Conv2D(16, (4,4), activation = 'relu'),\r\n",
        "    tf.keras.layers.Conv2D(10, (1,1), activation = 'softmax'),\r\n",
        "])\r\n",
        "model.compile(optimizer=tf.keras.optimizers.Adam(),\r\n",
        "              loss=\"categorical_crossentropy\",\r\n",
        "              metrics=['accuracy'])"
      ],
      "execution_count": null,
      "outputs": []
    },
    {
      "cell_type": "code",
      "metadata": {
        "colab": {
          "base_uri": "https://localhost:8080/"
        },
        "id": "MqzHxWAlz1d6",
        "outputId": "beb25c4f-3f36-4c3c-ee72-770b0c1abcaf"
      },
      "source": [
        "model.summary()"
      ],
      "execution_count": null,
      "outputs": [
        {
          "output_type": "stream",
          "text": [
            "Model: \"sequential\"\n",
            "_________________________________________________________________\n",
            "Layer (type)                 Output Shape              Param #   \n",
            "=================================================================\n",
            "conv2d (Conv2D)              (None, 26, 26, 64)        640       \n",
            "_________________________________________________________________\n",
            "max_pooling2d (MaxPooling2D) (None, 13, 13, 64)        0         \n",
            "_________________________________________________________________\n",
            "conv2d_1 (Conv2D)            (None, 9, 9, 32)          51232     \n",
            "_________________________________________________________________\n",
            "max_pooling2d_1 (MaxPooling2 (None, 4, 4, 32)          0         \n",
            "_________________________________________________________________\n",
            "conv2d_2 (Conv2D)            (None, 1, 1, 16)          8208      \n",
            "_________________________________________________________________\n",
            "conv2d_3 (Conv2D)            (None, 1, 1, 10)          170       \n",
            "=================================================================\n",
            "Total params: 60,250\n",
            "Trainable params: 60,250\n",
            "Non-trainable params: 0\n",
            "_________________________________________________________________\n"
          ],
          "name": "stdout"
        }
      ]
    },
    {
      "cell_type": "code",
      "metadata": {
        "colab": {
          "base_uri": "https://localhost:8080/"
        },
        "id": "UENk4BDkyEgI",
        "outputId": "0c9cb68a-1cf8-46a7-d5ed-d9231e08ecff"
      },
      "source": [
        "history = model.fit(train_images, train_labels, epochs=30, validation_data=(valid_images, valid_labels), callbacks=[tf.keras.callbacks.EarlyStopping(monitor='val_accuracy', patience=5)])"
      ],
      "execution_count": null,
      "outputs": [
        {
          "output_type": "stream",
          "text": [
            "Epoch 1/30\n",
            "1875/1875 [==============================] - 8s 3ms/step - loss: 0.4541 - accuracy: 0.8531 - val_loss: 16.2300 - val_accuracy: 0.9600\n",
            "Epoch 2/30\n",
            "1875/1875 [==============================] - 5s 3ms/step - loss: 0.0631 - accuracy: 0.9813 - val_loss: 9.4361 - val_accuracy: 0.9750\n",
            "Epoch 3/30\n",
            "1875/1875 [==============================] - 5s 3ms/step - loss: 0.0430 - accuracy: 0.9861 - val_loss: 19.1847 - val_accuracy: 0.9570\n",
            "Epoch 4/30\n",
            "1875/1875 [==============================] - 5s 3ms/step - loss: 0.0295 - accuracy: 0.9913 - val_loss: 15.9363 - val_accuracy: 0.9590\n",
            "Epoch 5/30\n",
            "1875/1875 [==============================] - 5s 3ms/step - loss: 0.0236 - accuracy: 0.9924 - val_loss: 13.8784 - val_accuracy: 0.9730\n",
            "Epoch 6/30\n",
            "1875/1875 [==============================] - 5s 3ms/step - loss: 0.0182 - accuracy: 0.9939 - val_loss: 21.0332 - val_accuracy: 0.9600\n",
            "Epoch 7/30\n",
            "1875/1875 [==============================] - 5s 3ms/step - loss: 0.0142 - accuracy: 0.9959 - val_loss: 14.3989 - val_accuracy: 0.9740\n"
          ],
          "name": "stdout"
        }
      ]
    },
    {
      "cell_type": "code",
      "metadata": {
        "id": "cAHNSZOOyHrQ",
        "colab": {
          "base_uri": "https://localhost:8080/"
        },
        "outputId": "3f8ce810-0667-4fce-c8d9-8a1d6536d851"
      },
      "source": [
        "test_loss, test_acc = model.evaluate(test_images,  test_labels)\r\n",
        "print('\\nTest accuracy:', test_acc)"
      ],
      "execution_count": null,
      "outputs": [
        {
          "output_type": "stream",
          "text": [
            "282/282 [==============================] - 1s 2ms/step - loss: 0.0325 - accuracy: 0.9916\n",
            "\n",
            "Test accuracy: 0.9915555715560913\n"
          ],
          "name": "stdout"
        }
      ]
    },
    {
      "cell_type": "code",
      "metadata": {
        "id": "4jDGYFgZyNzH"
      },
      "source": [
        "predictions = tf.squeeze(tf.argmax(model.predict(test_images), axis=-1))"
      ],
      "execution_count": null,
      "outputs": []
    },
    {
      "cell_type": "code",
      "metadata": {
        "colab": {
          "base_uri": "https://localhost:8080/"
        },
        "id": "S-MkfLDR35SR",
        "outputId": "970194f5-a490-485f-e910-bbd24ffb029f"
      },
      "source": [
        "predictions.shape"
      ],
      "execution_count": null,
      "outputs": [
        {
          "output_type": "execute_result",
          "data": {
            "text/plain": [
              "TensorShape([9000])"
            ]
          },
          "metadata": {
            "tags": []
          },
          "execution_count": 18
        }
      ]
    },
    {
      "cell_type": "code",
      "metadata": {
        "colab": {
          "base_uri": "https://localhost:8080/"
        },
        "id": "PmfkrS_r31Nn",
        "outputId": "a1914ab3-68af-4978-d4e4-2b74f7111d21"
      },
      "source": [
        "tf.squeeze(tf.argmax(test_labels, axis=-1))"
      ],
      "execution_count": null,
      "outputs": [
        {
          "output_type": "execute_result",
          "data": {
            "text/plain": [
              "<tf.Tensor: shape=(9000,), dtype=int64, numpy=array([9, 0, 2, ..., 4, 5, 6])>"
            ]
          },
          "metadata": {
            "tags": []
          },
          "execution_count": 19
        }
      ]
    },
    {
      "cell_type": "code",
      "metadata": {
        "id": "WcSdfZW6woco",
        "colab": {
          "base_uri": "https://localhost:8080/"
        },
        "outputId": "b062bf29-9942-45e1-f518-f04f7318668e"
      },
      "source": [
        "print(sklearn.metrics.accuracy_score(predictions, tf.squeeze(tf.argmax(test_labels, axis=-1))))\r\n",
        "print(sklearn.metrics.classification_report(predictions, tf.squeeze(tf.argmax(test_labels, axis=-1))))\r\n",
        "print(sklearn.metrics.confusion_matrix(predictions, tf.squeeze(tf.argmax(test_labels, axis=-1))))"
      ],
      "execution_count": null,
      "outputs": [
        {
          "output_type": "stream",
          "text": [
            "0.9915555555555555\n",
            "              precision    recall  f1-score   support\n",
            "\n",
            "           0       0.99      1.00      0.99       891\n",
            "           1       1.00      1.00      1.00      1010\n",
            "           2       1.00      0.99      0.99       923\n",
            "           3       0.99      0.99      0.99       909\n",
            "           4       0.99      1.00      0.99       863\n",
            "           5       0.99      0.99      0.99       801\n",
            "           6       0.99      1.00      0.99       866\n",
            "           7       0.99      0.99      0.99       934\n",
            "           8       1.00      0.99      0.99       894\n",
            "           9       0.98      0.99      0.99       909\n",
            "\n",
            "    accuracy                           0.99      9000\n",
            "   macro avg       0.99      0.99      0.99      9000\n",
            "weighted avg       0.99      0.99      0.99      9000\n",
            "\n",
            "[[ 888    0    0    0    0    0    1    0    2    0]\n",
            " [   1 1005    0    0    0    0    2    2    0    0]\n",
            " [   1    1  912    2    2    0    0    2    1    2]\n",
            " [   0    1    0  898    0    6    0    0    1    3]\n",
            " [   0    0    0    0  859    0    1    0    0    3]\n",
            " [   0    0    0    1    0  796    2    0    0    2]\n",
            " [   2    0    0    0    1    1  862    0    0    0]\n",
            " [   2    1    3    0    3    1    0  922    0    2]\n",
            " [   1    0    1    2    2    1    3    1  881    2]\n",
            " [   0    1    0    0    5    0    0    2    0  901]]\n"
          ],
          "name": "stdout"
        }
      ]
    },
    {
      "cell_type": "code",
      "metadata": {
        "id": "H7gDuMSJ16vL",
        "colab": {
          "base_uri": "https://localhost:8080/",
          "height": 247
        },
        "outputId": "0d83af41-3b2a-4fe3-9913-6c1e7a7b92be"
      },
      "source": [
        "plot_image(test_images[0])"
      ],
      "execution_count": null,
      "outputs": [
        {
          "output_type": "display_data",
          "data": {
            "image/png": "[encoded data removed]",
            "text/plain": [
              "<Figure size 432x288 with 1 Axes>"
            ]
          },
          "metadata": {
            "tags": [],
            "needs_background": "light"
          }
        }
      ]
    },
    {
      "cell_type": "code",
      "metadata": {
        "id": "Tu6ww7dDOneN",
        "colab": {
          "base_uri": "https://localhost:8080/",
          "height": 294
        },
        "outputId": "c49e466d-c0de-41cf-8dbc-891132df4c93"
      },
      "source": [
        "plt.plot(history.history['accuracy'])\r\n",
        "plt.plot(history.history['val_accuracy'])\r\n",
        "plt.title('model accuracy')\r\n",
        "plt.ylabel('accuracy')\r\n",
        "plt.xlabel('epoch')\r\n",
        "plt.legend(['train', 'val'], loc='upper left')\r\n",
        "plt.show()"
      ],
      "execution_count": null,
      "outputs": [
        {
          "output_type": "display_data",
          "data": {
            "image/png": "[encoded data removed]",
            "text/plain": [
              "<Figure size 432x288 with 1 Axes>"
            ]
          },
          "metadata": {
            "tags": [],
            "needs_background": "light"
          }
        }
      ]
    }
  ]
}