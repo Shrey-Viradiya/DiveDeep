{
  "nbformat": 4,
  "nbformat_minor": 0,
  "metadata": {
    "colab": {
      "name": "Prac2.ipynb",
      "provenance": [],
      "collapsed_sections": [],
      "include_colab_link": true
    },
    "kernelspec": {
      "name": "python3",
      "display_name": "Python 3"
    },
    "accelerator": "GPU"
  },
  "cells": [
    {
      "cell_type": "markdown",
      "metadata": {
        "id": "view-in-github",
        "colab_type": "text"
      },
      "source": [
        "<a href=\"https://colab.research.google.com/github/Shrey-Viradiya/DiveDeep/blob/master/Prac3.ipynb\" target=\"_parent\"><img src=\"https://colab.research.google.com/assets/colab-badge.svg\" alt=\"Open In Colab\"/></a>"
      ]
    },
    {
      "cell_type": "markdown",
      "metadata": {
        "id": "xZjju-JjtPQV"
      },
      "source": [
        "# Practical 3"
      ]
    },
    {
      "cell_type": "code",
      "metadata": {
        "colab": {
          "base_uri": "https://localhost:8080/"
        },
        "id": "rqzBEQFTM8W7",
        "outputId": "fcf6cd20-0ac2-4c6e-d0f5-a7c3023afae5"
      },
      "source": [
        "!nvidia-smi"
      ],
      "execution_count": null,
      "outputs": [
        {
          "output_type": "stream",
          "text": [
            "Mon Jan 25 09:09:12 2021       \n",
            "+-----------------------------------------------------------------------------+\n",
            "| NVIDIA-SMI 460.32.03    Driver Version: 418.67       CUDA Version: 10.1     |\n",
            "|-------------------------------+----------------------+----------------------+\n",
            "| GPU  Name        Persistence-M| Bus-Id        Disp.A | Volatile Uncorr. ECC |\n",
            "| Fan  Temp  Perf  Pwr:Usage/Cap|         Memory-Usage | GPU-Util  Compute M. |\n",
            "|                               |                      |               MIG M. |\n",
            "|===============================+======================+======================|\n",
            "|   0  Tesla P100-PCIE...  Off  | 00000000:00:04.0 Off |                    0 |\n",
            "| N/A   39C    P0    26W / 250W |      0MiB / 16280MiB |      0%      Default |\n",
            "|                               |                      |                 ERR! |\n",
            "+-------------------------------+----------------------+----------------------+\n",
            "                                                                               \n",
            "+-----------------------------------------------------------------------------+\n",
            "| Processes:                                                                  |\n",
            "|  GPU   GI   CI        PID   Type   Process name                  GPU Memory |\n",
            "|        ID   ID                                                   Usage      |\n",
            "|=============================================================================|\n",
            "|  No running processes found                                                 |\n",
            "+-----------------------------------------------------------------------------+\n"
          ],
          "name": "stdout"
        }
      ]
    },
    {
      "cell_type": "markdown",
      "metadata": {
        "id": "9A4ELRAEtUtb"
      },
      "source": [
        "### Shrey Viradiya\r\n",
        "### 18BCE259"
      ]
    },
    {
      "cell_type": "code",
      "metadata": {
        "id": "88sJENyNs6_x"
      },
      "source": [
        "import tensorflow as tf\r\n",
        "import matplotlib.pyplot as plt\r\n",
        "from tensorflow.keras.datasets import mnist\r\n",
        "import sklearn.metrics"
      ],
      "execution_count": null,
      "outputs": []
    },
    {
      "cell_type": "code",
      "metadata": {
        "id": "nymLHkerwkFX"
      },
      "source": [
        "def plot_image(image):\r\n",
        "    plt.imshow(image.squeeze(), cmap=plt.cm.binary, interpolation=\"nearest\")\r\n",
        "    plt.axis(\"off\")\r\n",
        "\r\n",
        "def plot_color_image(image):\r\n",
        "    plt.imshow(image.squeeze(), interpolation=\"nearest\")\r\n",
        "    plt.axis(\"off\")"
      ],
      "execution_count": null,
      "outputs": []
    },
    {
      "cell_type": "code",
      "metadata": {
        "id": "BgWRy3_BxTvW"
      },
      "source": [
        "(train_images, train_labels), (test_images, test_labels) = mnist.load_data()\r\n",
        "# train_labels = tf.keras.utils.to_categorical(train_labels)\r\n",
        "# test_labels = tf.keras.utils.to_categorical(test_labels)\r\n",
        "train_images = train_images.reshape(-1, 28, 28, 1)\r\n",
        "test_images = test_images.reshape(-1, 28, 28, 1)\r\n",
        "valid_images, valid_labels, test_images, test_labels = test_images[0:1000], test_labels[0:1000], test_images[1000:], test_labels[1000:]"
      ],
      "execution_count": null,
      "outputs": []
    },
    {
      "cell_type": "code",
      "metadata": {
        "colab": {
          "base_uri": "https://localhost:8080/"
        },
        "id": "Fyb6OqxUxVMG",
        "outputId": "c20f6667-71f6-4d44-87f2-8eab9ca6d4f1"
      },
      "source": [
        "train_images.shape"
      ],
      "execution_count": null,
      "outputs": [
        {
          "output_type": "execute_result",
          "data": {
            "text/plain": [
              "(60000, 28, 28, 1)"
            ]
          },
          "metadata": {
            "tags": []
          },
          "execution_count": 5
        }
      ]
    },
    {
      "cell_type": "code",
      "metadata": {
        "colab": {
          "base_uri": "https://localhost:8080/"
        },
        "id": "AC8BoSNcxckp",
        "outputId": "d95e58d8-cbab-4347-9900-122b6708e74e"
      },
      "source": [
        "len(train_labels)"
      ],
      "execution_count": null,
      "outputs": [
        {
          "output_type": "execute_result",
          "data": {
            "text/plain": [
              "60000"
            ]
          },
          "metadata": {
            "tags": []
          },
          "execution_count": 6
        }
      ]
    },
    {
      "cell_type": "code",
      "metadata": {
        "colab": {
          "base_uri": "https://localhost:8080/"
        },
        "id": "d4Z26uUaxeDt",
        "outputId": "b9c8e360-dbd5-4cd2-da9c-250b5af97569"
      },
      "source": [
        "train_labels"
      ],
      "execution_count": null,
      "outputs": [
        {
          "output_type": "execute_result",
          "data": {
            "text/plain": [
              "array([5, 0, 4, ..., 5, 6, 8], dtype=uint8)"
            ]
          },
          "metadata": {
            "tags": []
          },
          "execution_count": 7
        }
      ]
    },
    {
      "cell_type": "code",
      "metadata": {
        "colab": {
          "base_uri": "https://localhost:8080/"
        },
        "id": "sg_tVd0uxfw1",
        "outputId": "b5945aa7-3094-4277-858c-f11f086b7330"
      },
      "source": [
        "train_labels.shape"
      ],
      "execution_count": null,
      "outputs": [
        {
          "output_type": "execute_result",
          "data": {
            "text/plain": [
              "(60000,)"
            ]
          },
          "metadata": {
            "tags": []
          },
          "execution_count": 8
        }
      ]
    },
    {
      "cell_type": "code",
      "metadata": {
        "colab": {
          "base_uri": "https://localhost:8080/"
        },
        "id": "Z_Eh4f99xhTM",
        "outputId": "67cac91b-a728-41d4-e1f1-14e294b2a4d2"
      },
      "source": [
        "test_images.shape"
      ],
      "execution_count": null,
      "outputs": [
        {
          "output_type": "execute_result",
          "data": {
            "text/plain": [
              "(9000, 28, 28, 1)"
            ]
          },
          "metadata": {
            "tags": []
          },
          "execution_count": 9
        }
      ]
    },
    {
      "cell_type": "code",
      "metadata": {
        "colab": {
          "base_uri": "https://localhost:8080/",
          "height": 247
        },
        "id": "BGiO-lKQxjve",
        "outputId": "bdd14d72-f2e1-4e95-cbad-a45b1653a0e9"
      },
      "source": [
        "plot_image(test_images[0])"
      ],
      "execution_count": null,
      "outputs": [
        {
          "output_type": "display_data",
          "data": {
            "image/png": "[encoded data removed]",
            "text/plain": [
              "<Figure size 432x288 with 1 Axes>"
            ]
          },
          "metadata": {
            "tags": [],
            "needs_background": "light"
          }
        }
      ]
    },
    {
      "cell_type": "code",
      "metadata": {
        "id": "SbuxdxP8xoX2"
      },
      "source": [
        "train_images = train_images / 255.0\r\n",
        "test_images = test_images / 255.0"
      ],
      "execution_count": null,
      "outputs": []
    },
    {
      "cell_type": "code",
      "metadata": {
        "colab": {
          "base_uri": "https://localhost:8080/",
          "height": 594
        },
        "id": "xjkQh-ptxsrd",
        "outputId": "8707450b-ed3e-4fc5-dbdc-3d1411f84e53"
      },
      "source": [
        "plt.figure(figsize=(10,10))\r\n",
        "for i in range(25):\r\n",
        "    plt.subplot(5,5,i+1)\r\n",
        "    plt.grid(False)\r\n",
        "    plt.imshow(train_images[i].squeeze(), cmap=plt.cm.binary)\r\n",
        "plt.show()"
      ],
      "execution_count": null,
      "outputs": [
        {
          "output_type": "display_data",
          "data": {
            "image/png": "[encoded data removed]",
            "text/plain": [
              "<Figure size 720x720 with 25 Axes>"
            ]
          },
          "metadata": {
            "tags": [],
            "needs_background": "light"
          }
        }
      ]
    },
    {
      "cell_type": "code",
      "metadata": {
        "id": "4NdCYnN4x29x"
      },
      "source": [
        "model_1 = tf.keras.Sequential([\r\n",
        "    tf.keras.layers.Flatten(input_shape=(28, 28)),\r\n",
        "    tf.keras.layers.Dense(128, activation='relu'),\r\n",
        "    tf.keras.layers.Dense(10 , activation='softmax'),\r\n",
        "])\r\n",
        "model_1.compile(optimizer='adam',\r\n",
        "              loss=\"sparse_categorical_crossentropy\",\r\n",
        "              metrics=['accuracy'])"
      ],
      "execution_count": null,
      "outputs": []
    },
    {
      "cell_type": "code",
      "metadata": {
        "colab": {
          "base_uri": "https://localhost:8080/"
        },
        "id": "UENk4BDkyEgI",
        "outputId": "c0851c6c-df7c-46c1-efed-d47f6b28ea56"
      },
      "source": [
        "history = model_1.fit(train_images, train_labels, epochs=30, validation_data=(valid_images, valid_labels), callbacks=[tf.keras.callbacks.EarlyStopping(monitor='loss', patience=3)])"
      ],
      "execution_count": null,
      "outputs": [
        {
          "output_type": "stream",
          "text": [
            "Epoch 1/30\n",
            "1875/1875 [==============================] - 4s 2ms/step - loss: 0.4308 - accuracy: 0.8808 - val_loss: 16.7434 - val_accuracy: 0.9580\n",
            "Epoch 2/30\n",
            "1875/1875 [==============================] - 3s 2ms/step - loss: 0.1174 - accuracy: 0.9659 - val_loss: 12.1694 - val_accuracy: 0.9730\n",
            "Epoch 3/30\n",
            "1875/1875 [==============================] - 3s 2ms/step - loss: 0.0759 - accuracy: 0.9763 - val_loss: 12.2866 - val_accuracy: 0.9770\n",
            "Epoch 4/30\n",
            "1875/1875 [==============================] - 3s 2ms/step - loss: 0.0560 - accuracy: 0.9829 - val_loss: 9.3718 - val_accuracy: 0.9760\n",
            "Epoch 5/30\n",
            "1875/1875 [==============================] - 3s 2ms/step - loss: 0.0414 - accuracy: 0.9878 - val_loss: 9.0725 - val_accuracy: 0.9810\n",
            "Epoch 6/30\n",
            "1875/1875 [==============================] - 3s 2ms/step - loss: 0.0330 - accuracy: 0.9900 - val_loss: 13.8729 - val_accuracy: 0.9780\n",
            "Epoch 7/30\n",
            "1875/1875 [==============================] - 3s 2ms/step - loss: 0.0253 - accuracy: 0.9926 - val_loss: 11.4178 - val_accuracy: 0.9780\n",
            "Epoch 8/30\n",
            "1875/1875 [==============================] - 3s 2ms/step - loss: 0.0204 - accuracy: 0.9941 - val_loss: 11.7359 - val_accuracy: 0.9780\n",
            "Epoch 9/30\n",
            "1875/1875 [==============================] - 3s 2ms/step - loss: 0.0176 - accuracy: 0.9942 - val_loss: 13.5782 - val_accuracy: 0.9760\n",
            "Epoch 10/30\n",
            "1875/1875 [==============================] - 3s 2ms/step - loss: 0.0118 - accuracy: 0.9968 - val_loss: 14.6311 - val_accuracy: 0.9810\n",
            "Epoch 11/30\n",
            "1875/1875 [==============================] - 3s 2ms/step - loss: 0.0124 - accuracy: 0.9962 - val_loss: 12.3314 - val_accuracy: 0.9780\n",
            "Epoch 12/30\n",
            "1875/1875 [==============================] - 3s 2ms/step - loss: 0.0098 - accuracy: 0.9971 - val_loss: 17.2214 - val_accuracy: 0.9710\n",
            "Epoch 13/30\n",
            "1875/1875 [==============================] - 3s 2ms/step - loss: 0.0098 - accuracy: 0.9973 - val_loss: 14.9898 - val_accuracy: 0.9830\n",
            "Epoch 14/30\n",
            "1875/1875 [==============================] - 3s 2ms/step - loss: 0.0099 - accuracy: 0.9966 - val_loss: 19.5769 - val_accuracy: 0.9740\n",
            "Epoch 15/30\n",
            "1875/1875 [==============================] - 3s 2ms/step - loss: 0.0059 - accuracy: 0.9984 - val_loss: 18.9965 - val_accuracy: 0.9790\n",
            "Epoch 16/30\n",
            "1875/1875 [==============================] - 3s 2ms/step - loss: 0.0055 - accuracy: 0.9984 - val_loss: 20.6506 - val_accuracy: 0.9780\n",
            "Epoch 17/30\n",
            "1875/1875 [==============================] - 3s 2ms/step - loss: 0.0051 - accuracy: 0.9986 - val_loss: 20.4749 - val_accuracy: 0.9770\n",
            "Epoch 18/30\n",
            "1875/1875 [==============================] - 3s 2ms/step - loss: 0.0063 - accuracy: 0.9979 - val_loss: 22.9306 - val_accuracy: 0.9830\n",
            "Epoch 19/30\n",
            "1875/1875 [==============================] - 3s 2ms/step - loss: 0.0030 - accuracy: 0.9991 - val_loss: 18.6885 - val_accuracy: 0.9840\n",
            "Epoch 20/30\n",
            "1875/1875 [==============================] - 3s 2ms/step - loss: 0.0043 - accuracy: 0.9989 - val_loss: 22.8916 - val_accuracy: 0.9740\n",
            "Epoch 21/30\n",
            "1875/1875 [==============================] - 3s 2ms/step - loss: 0.0052 - accuracy: 0.9982 - val_loss: 12.5514 - val_accuracy: 0.9820\n",
            "Epoch 22/30\n",
            "1875/1875 [==============================] - 3s 2ms/step - loss: 0.0045 - accuracy: 0.9986 - val_loss: 19.9912 - val_accuracy: 0.9790\n"
          ],
          "name": "stdout"
        }
      ]
    },
    {
      "cell_type": "code",
      "metadata": {
        "colab": {
          "base_uri": "https://localhost:8080/"
        },
        "id": "cAHNSZOOyHrQ",
        "outputId": "badef72c-82a8-49a7-8513-312f53ad3ed9"
      },
      "source": [
        "test_loss, test_acc = model_1.evaluate(test_images,  test_labels)\r\n",
        "print('\\nTest accuracy:', test_acc)"
      ],
      "execution_count": null,
      "outputs": [
        {
          "output_type": "stream",
          "text": [
            "282/282 [==============================] - 1s 2ms/step - loss: 0.1103 - accuracy: 0.9786\n",
            "\n",
            "Test accuracy: 0.9785555601119995\n"
          ],
          "name": "stdout"
        }
      ]
    },
    {
      "cell_type": "code",
      "metadata": {
        "id": "4jDGYFgZyNzH"
      },
      "source": [
        "predictions = tf.argmax(model_1.predict(test_images), axis=-1)"
      ],
      "execution_count": null,
      "outputs": []
    },
    {
      "cell_type": "code",
      "metadata": {
        "colab": {
          "base_uri": "https://localhost:8080/"
        },
        "id": "WcSdfZW6woco",
        "outputId": "54aa03d8-f035-47e5-a65a-307a0e163d75"
      },
      "source": [
        "print(sklearn.metrics.accuracy_score(predictions, test_labels))\r\n",
        "print(sklearn.metrics.classification_report(predictions, test_labels))\r\n",
        "print(sklearn.metrics.confusion_matrix(predictions, test_labels))"
      ],
      "execution_count": null,
      "outputs": [
        {
          "output_type": "stream",
          "text": [
            "0.9785555555555555\n",
            "              precision    recall  f1-score   support\n",
            "\n",
            "           0       0.99      0.98      0.99       901\n",
            "           1       0.99      0.99      0.99      1013\n",
            "           2       0.98      0.98      0.98       912\n",
            "           3       0.98      0.97      0.97       908\n",
            "           4       0.98      0.97      0.98       882\n",
            "           5       0.97      0.98      0.98       800\n",
            "           6       0.98      0.98      0.98       869\n",
            "           7       0.97      0.98      0.98       917\n",
            "           8       0.98      0.98      0.98       885\n",
            "           9       0.97      0.97      0.97       913\n",
            "\n",
            "    accuracy                           0.98      9000\n",
            "   macro avg       0.98      0.98      0.98      9000\n",
            "weighted avg       0.98      0.98      0.98      9000\n",
            "\n",
            "[[ 885    0    3    0    1    3    3    1    3    2]\n",
            " [   1 1002    1    1    0    0    3    3    0    2]\n",
            " [   1    1  894    5    1    0    0    9    1    0]\n",
            " [   0    1    5  882    0    7    1    2    7    3]\n",
            " [   1    0    2    0  858    0    2    2    3   14]\n",
            " [   1    1    0    2    0  783    8    0    3    2]\n",
            " [   4    1    2    0    5    4  852    1    0    0]\n",
            " [   1    1    3    2    1    1    1  901    2    4]\n",
            " [   1    2    6    3    0    5    1    3  863    1]\n",
            " [   0    0    0    8    6    2    0    7    3  887]]\n"
          ],
          "name": "stdout"
        }
      ]
    },
    {
      "cell_type": "code",
      "metadata": {
        "colab": {
          "base_uri": "https://localhost:8080/",
          "height": 247
        },
        "id": "H7gDuMSJ16vL",
        "outputId": "8bcc1927-3b63-44be-9ff7-ff4fb7010039"
      },
      "source": [
        "plot_image(test_images[0])"
      ],
      "execution_count": null,
      "outputs": [
        {
          "output_type": "display_data",
          "data": {
            "image/png": "[encoded data removed]",
            "text/plain": [
              "<Figure size 432x288 with 1 Axes>"
            ]
          },
          "metadata": {
            "tags": [],
            "needs_background": "light"
          }
        }
      ]
    },
    {
      "cell_type": "code",
      "metadata": {
        "colab": {
          "base_uri": "https://localhost:8080/",
          "height": 294
        },
        "id": "Tu6ww7dDOneN",
        "outputId": "2ce288ec-00a4-4ecf-9d17-86d1da717bb8"
      },
      "source": [
        "plt.plot(history.history['accuracy'])\r\n",
        "plt.plot(history.history['val_accuracy'])\r\n",
        "plt.title('model accuracy')\r\n",
        "plt.ylabel('accuracy')\r\n",
        "plt.xlabel('epoch')\r\n",
        "plt.legend(['train', 'val'], loc='upper left')\r\n",
        "plt.show()"
      ],
      "execution_count": null,
      "outputs": [
        {
          "output_type": "display_data",
          "data": {
            "image/png": "[encoded data removed]",
            "text/plain": [
              "<Figure size 432x288 with 1 Axes>"
            ]
          },
          "metadata": {
            "tags": [],
            "needs_background": "light"
          }
        }
      ]
    },
    {
      "cell_type": "code",
      "metadata": {
        "id": "kfktd37O2C6H"
      },
      "source": [
        "inp = tf.keras.Input(shape=(28, 28, 1))\r\n",
        "x = tf.keras.layers.Conv2D(32, (3,3), activation = 'relu')(inp)\r\n",
        "x = tf.keras.layers.MaxPool2D((2,2))(x)\r\n",
        "x = tf.keras.layers.Conv2D(64, (3,3), activation = 'relu')(x)\r\n",
        "x = tf.keras.layers.Flatten()(x)\r\n",
        "x = tf.keras.layers.Dense(128, activation='relu')(x)\r\n",
        "out = tf.keras.layers.Dense(10 , activation='softmax')(x)\r\n",
        "\r\n",
        "model_2 = tf.keras.Model(inputs = [inp], outputs = [out])\r\n",
        "\r\n",
        "model_2.compile(optimizer='adam',\r\n",
        "              loss=\"sparse_categorical_crossentropy\",\r\n",
        "              metrics=['accuracy'])"
      ],
      "execution_count": null,
      "outputs": []
    },
    {
      "cell_type": "code",
      "metadata": {
        "colab": {
          "base_uri": "https://localhost:8080/"
        },
        "id": "V9qaL2bi4L4o",
        "outputId": "2a01442f-bf18-44fd-8715-5fae426c21bb"
      },
      "source": [
        "model_2.summary()"
      ],
      "execution_count": null,
      "outputs": [
        {
          "output_type": "stream",
          "text": [
            "Model: \"model\"\n",
            "_________________________________________________________________\n",
            "Layer (type)                 Output Shape              Param #   \n",
            "=================================================================\n",
            "input_1 (InputLayer)         [(None, 28, 28, 1)]       0         \n",
            "_________________________________________________________________\n",
            "conv2d (Conv2D)              (None, 26, 26, 32)        320       \n",
            "_________________________________________________________________\n",
            "max_pooling2d (MaxPooling2D) (None, 13, 13, 32)        0         \n",
            "_________________________________________________________________\n",
            "conv2d_1 (Conv2D)            (None, 11, 11, 64)        18496     \n",
            "_________________________________________________________________\n",
            "flatten_1 (Flatten)          (None, 7744)              0         \n",
            "_________________________________________________________________\n",
            "dense_2 (Dense)              (None, 128)               991360    \n",
            "_________________________________________________________________\n",
            "dense_3 (Dense)              (None, 10)                1290      \n",
            "=================================================================\n",
            "Total params: 1,011,466\n",
            "Trainable params: 1,011,466\n",
            "Non-trainable params: 0\n",
            "_________________________________________________________________\n"
          ],
          "name": "stdout"
        }
      ]
    },
    {
      "cell_type": "code",
      "metadata": {
        "colab": {
          "base_uri": "https://localhost:8080/"
        },
        "id": "4g8wKcnv2bDa",
        "outputId": "567dfc73-c7ca-443a-ce3c-587ff133e197"
      },
      "source": [
        "history = model_2.fit(train_images, train_labels, epochs=30, validation_data=(valid_images, valid_labels), callbacks=[tf.keras.callbacks.EarlyStopping(monitor='loss', patience=3)])"
      ],
      "execution_count": null,
      "outputs": [
        {
          "output_type": "stream",
          "text": [
            "Epoch 1/30\n",
            "1875/1875 [==============================] - 5s 2ms/step - loss: 0.2337 - accuracy: 0.9298 - val_loss: 7.4303 - val_accuracy: 0.9810\n",
            "Epoch 2/30\n",
            "1875/1875 [==============================] - 4s 2ms/step - loss: 0.0369 - accuracy: 0.9887 - val_loss: 4.3652 - val_accuracy: 0.9880\n",
            "Epoch 3/30\n",
            "1875/1875 [==============================] - 4s 2ms/step - loss: 0.0209 - accuracy: 0.9929 - val_loss: 4.4828 - val_accuracy: 0.9910\n",
            "Epoch 4/30\n",
            "1875/1875 [==============================] - 4s 2ms/step - loss: 0.0127 - accuracy: 0.9961 - val_loss: 12.6012 - val_accuracy: 0.9810\n",
            "Epoch 5/30\n",
            "1875/1875 [==============================] - 4s 2ms/step - loss: 0.0091 - accuracy: 0.9974 - val_loss: 11.1586 - val_accuracy: 0.9880\n",
            "Epoch 6/30\n",
            "1875/1875 [==============================] - 4s 2ms/step - loss: 0.0096 - accuracy: 0.9966 - val_loss: 14.9552 - val_accuracy: 0.9850\n",
            "Epoch 7/30\n",
            "1875/1875 [==============================] - 4s 2ms/step - loss: 0.0062 - accuracy: 0.9979 - val_loss: 19.2896 - val_accuracy: 0.9850\n",
            "Epoch 8/30\n",
            "1875/1875 [==============================] - 4s 2ms/step - loss: 0.0056 - accuracy: 0.9984 - val_loss: 12.0964 - val_accuracy: 0.9860\n",
            "Epoch 9/30\n",
            "1875/1875 [==============================] - 4s 2ms/step - loss: 0.0045 - accuracy: 0.9985 - val_loss: 15.1244 - val_accuracy: 0.9830\n",
            "Epoch 10/30\n",
            "1875/1875 [==============================] - 4s 2ms/step - loss: 0.0035 - accuracy: 0.9988 - val_loss: 17.0684 - val_accuracy: 0.9860\n",
            "Epoch 11/30\n",
            "1875/1875 [==============================] - 4s 2ms/step - loss: 0.0032 - accuracy: 0.9991 - val_loss: 15.9873 - val_accuracy: 0.9840\n",
            "Epoch 12/30\n",
            "1875/1875 [==============================] - 4s 2ms/step - loss: 0.0029 - accuracy: 0.9991 - val_loss: 30.2311 - val_accuracy: 0.9770\n",
            "Epoch 13/30\n",
            "1875/1875 [==============================] - 4s 2ms/step - loss: 0.0042 - accuracy: 0.9987 - val_loss: 16.8540 - val_accuracy: 0.9880\n",
            "Epoch 14/30\n",
            "1875/1875 [==============================] - 4s 2ms/step - loss: 0.0027 - accuracy: 0.9990 - val_loss: 10.2290 - val_accuracy: 0.9900\n",
            "Epoch 15/30\n",
            "1875/1875 [==============================] - 4s 2ms/step - loss: 0.0028 - accuracy: 0.9993 - val_loss: 20.7022 - val_accuracy: 0.9820\n",
            "Epoch 16/30\n",
            "1875/1875 [==============================] - 4s 2ms/step - loss: 0.0042 - accuracy: 0.9987 - val_loss: 17.4450 - val_accuracy: 0.9900\n",
            "Epoch 17/30\n",
            "1875/1875 [==============================] - 4s 2ms/step - loss: 0.0016 - accuracy: 0.9996 - val_loss: 35.7449 - val_accuracy: 0.9810\n",
            "Epoch 18/30\n",
            "1875/1875 [==============================] - 4s 2ms/step - loss: 0.0042 - accuracy: 0.9988 - val_loss: 19.1966 - val_accuracy: 0.9860\n",
            "Epoch 19/30\n",
            "1875/1875 [==============================] - 4s 2ms/step - loss: 8.4509e-04 - accuracy: 0.9998 - val_loss: 16.8865 - val_accuracy: 0.9860\n",
            "Epoch 20/30\n",
            "1875/1875 [==============================] - 4s 2ms/step - loss: 0.0034 - accuracy: 0.9988 - val_loss: 27.0747 - val_accuracy: 0.9820\n"
          ],
          "name": "stdout"
        }
      ]
    },
    {
      "cell_type": "code",
      "metadata": {
        "colab": {
          "base_uri": "https://localhost:8080/"
        },
        "id": "ZtzJnf7d2o8q",
        "outputId": "bcea7206-3aa0-454e-9597-022c94c8fa55"
      },
      "source": [
        "test_loss, test_acc = model_2.evaluate(test_images,  test_labels)\r\n",
        "print('\\nTest accuracy:', test_acc)"
      ],
      "execution_count": null,
      "outputs": [
        {
          "output_type": "stream",
          "text": [
            "282/282 [==============================] - 1s 2ms/step - loss: 0.0579 - accuracy: 0.9916\n",
            "\n",
            "Test accuracy: 0.9915555715560913\n"
          ],
          "name": "stdout"
        }
      ]
    },
    {
      "cell_type": "code",
      "metadata": {
        "id": "RIsEbQS-2r_I"
      },
      "source": [
        "predictions = tf.argmax(model_2.predict(test_images), axis=-1)"
      ],
      "execution_count": null,
      "outputs": []
    },
    {
      "cell_type": "code",
      "metadata": {
        "colab": {
          "base_uri": "https://localhost:8080/"
        },
        "id": "5_p8czLowzVM",
        "outputId": "73ad1f32-fbca-4fcb-bf77-9eea6defdbc9"
      },
      "source": [
        "print(sklearn.metrics.accuracy_score(predictions, test_labels))\r\n",
        "print(sklearn.metrics.classification_report(predictions, test_labels))\r\n",
        "print(sklearn.metrics.confusion_matrix(predictions, test_labels))"
      ],
      "execution_count": null,
      "outputs": [
        {
          "output_type": "stream",
          "text": [
            "0.9915555555555555\n",
            "              precision    recall  f1-score   support\n",
            "\n",
            "           0       1.00      0.99      0.99       904\n",
            "           1       1.00      0.99      1.00      1011\n",
            "           2       0.99      0.99      0.99       910\n",
            "           3       0.99      0.99      0.99       906\n",
            "           4       0.99      0.99      0.99       875\n",
            "           5       0.99      0.99      0.99       805\n",
            "           6       0.99      1.00      0.99       867\n",
            "           7       0.99      0.99      0.99       931\n",
            "           8       0.99      0.99      0.99       881\n",
            "           9       0.99      0.99      0.99       910\n",
            "\n",
            "    accuracy                           0.99      9000\n",
            "   macro avg       0.99      0.99      0.99      9000\n",
            "weighted avg       0.99      0.99      0.99      9000\n",
            "\n",
            "[[ 893    1    2    0    0    2    3    0    3    0]\n",
            " [   0 1005    0    0    0    0    1    4    1    0]\n",
            " [   0    0  904    1    0    0    1    3    0    1]\n",
            " [   0    0    2  898    0    5    0    0    1    0]\n",
            " [   0    0    2    0  865    0    1    0    1    6]\n",
            " [   0    1    0    3    0  796    1    0    1    3]\n",
            " [   0    2    0    0    1    1  863    0    0    0]\n",
            " [   1    0    6    0    0    0    0  921    2    1]\n",
            " [   1    0    0    1    0    0    1    1  876    1]\n",
            " [   0    0    0    0    6    1    0    0    0  903]]\n"
          ],
          "name": "stdout"
        }
      ]
    },
    {
      "cell_type": "code",
      "metadata": {
        "colab": {
          "base_uri": "https://localhost:8080/",
          "height": 294
        },
        "id": "Nrj3-xVNPgfO",
        "outputId": "c8947080-3f7e-4b21-a47c-c3b01783097a"
      },
      "source": [
        "plt.plot(history.history['accuracy'])\r\n",
        "plt.plot(history.history['val_accuracy'])\r\n",
        "plt.title('model accuracy')\r\n",
        "plt.ylabel('accuracy')\r\n",
        "plt.xlabel('epoch')\r\n",
        "plt.legend(['train', 'val'], loc='upper left')\r\n",
        "plt.show()"
      ],
      "execution_count": null,
      "outputs": [
        {
          "output_type": "display_data",
          "data": {
            "image/png": "[encoded data removed]",
            "text/plain": [
              "<Figure size 432x288 with 1 Axes>"
            ]
          },
          "metadata": {
            "tags": [],
            "needs_background": "light"
          }
        }
      ]
    }
  ]
}