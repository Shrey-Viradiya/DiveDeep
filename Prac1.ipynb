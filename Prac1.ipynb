{
  "nbformat": 4,
  "nbformat_minor": 0,
  "metadata": {
    "language_info": {
      "codemirror_mode": {
        "name": "ipython",
        "version": 3
      },
      "file_extension": ".py",
      "mimetype": "text/x-python",
      "name": "python",
      "nbconvert_exporter": "python",
      "pygments_lexer": "ipython3",
      "version": "3.7.3-final"
    },
    "orig_nbformat": 2,
    "kernelspec": {
      "name": "python3",
      "display_name": "Python 3.7.3 64-bit ('mask_on')",
      "metadata": {
        "interpreter": {
          "hash": "77edd40d4dc56f1bef6604e186bde78fbf6fc03466bbed0040d5503d05184cf5"
        }
      }
    },
    "colab": {
      "name": "Prac1.ipynb",
      "provenance": [],
      "toc_visible": true
    }
  },
  "cells": [
    {
      "cell_type": "markdown",
      "metadata": {
        "id": "YqXt9tYqqPvI"
      },
      "source": [
        "# Practical 1"
      ]
    },
    {
      "cell_type": "markdown",
      "metadata": {
        "id": "WXc2TUpJqxsM"
      },
      "source": [
        "#### Run the 2 cells below for Google Colab"
      ]
    },
    {
      "cell_type": "code",
      "metadata": {
        "id": "9Ka18jRKqf9U",
        "outputId": "4481911a-4e14-4497-ca9d-d9c8605b333d",
        "colab": {
          "base_uri": "https://localhost:8080/"
        }
      },
      "source": [
        "from google.colab import drive\n",
        "drive.mount('/content/drive')"
      ],
      "execution_count": 1,
      "outputs": [
        {
          "output_type": "stream",
          "text": [
            "Mounted at /content/drive\n"
          ],
          "name": "stdout"
        }
      ]
    },
    {
      "cell_type": "code",
      "metadata": {
        "id": "Tysqr0ejrCkO",
        "outputId": "9d28d1d2-02b1-4693-d6f4-595ce65aec73",
        "colab": {
          "base_uri": "https://localhost:8080/"
        }
      },
      "source": [
        "! mkdir ~/.kaggle\r\n",
        "! mkdir data\r\n",
        "! cp \"/content/drive/MyDrive/kaggle.json\" ~/.kaggle/\r\n",
        "! chmod 600 ~/.kaggle/kaggle.json\r\n",
        "! kaggle datasets download -d pablotab/mnistpklgz\r\n",
        "! unzip mnistpklgz.zip -d data"
      ],
      "execution_count": 2,
      "outputs": [
        {
          "output_type": "stream",
          "text": [
            "Downloading mnistpklgz.zip to /content\n",
            " 65% 21.0M/32.1M [00:00<00:00, 30.7MB/s]\n",
            "100% 32.1M/32.1M [00:00<00:00, 80.6MB/s]\n",
            "Archive:  mnistpklgz.zip\n",
            "  inflating: data/mnist.pkl          \n",
            "  inflating: data/mnist.pkl.gz       \n"
          ],
          "name": "stdout"
        }
      ]
    },
    {
      "cell_type": "markdown",
      "metadata": {
        "id": "WjHbwbbSqPve"
      },
      "source": [
        "### Shrey Viradiya\n",
        "### 18BCE259"
      ]
    },
    {
      "cell_type": "code",
      "metadata": {
        "id": "9p3cDcfkqPvf"
      },
      "source": [
        "import numpy\n",
        "import sklearn.metrics\n",
        "from sklearn.neural_network import MLPClassifier\n",
        "from sklearn.model_selection import GridSearchCV\n",
        "import pickle"
      ],
      "execution_count": 3,
      "outputs": []
    },
    {
      "cell_type": "code",
      "metadata": {
        "id": "913OM9jXqPvg"
      },
      "source": [
        "def load_data():\n",
        "    with open('./data/mnist.pkl', 'rb') as f: \n",
        "        training_data, validation_data, test_data = pickle.load(f, encoding='latin1')\n",
        "    return (training_data, validation_data, test_data)"
      ],
      "execution_count": 4,
      "outputs": []
    },
    {
      "cell_type": "code",
      "metadata": {
        "id": "md0BVNIdqPvg"
      },
      "source": [
        "training_data, validation_data, test_data = load_data()"
      ],
      "execution_count": 5,
      "outputs": []
    },
    {
      "cell_type": "code",
      "metadata": {
        "id": "tE-4vF1pqPvh"
      },
      "source": [
        "X_train, y_train = training_data\n",
        "X_valid, y_valid = validation_data\n",
        "X_test, y_test = test_data\n",
        "X_train = X_train/255.\n",
        "X_valid = X_valid/255.\n",
        "X_test = X_test/255."
      ],
      "execution_count": 6,
      "outputs": []
    },
    {
      "cell_type": "code",
      "metadata": {
        "id": "mWRv-WmTqPvh",
        "outputId": "8378db42-115e-469f-c6bb-ccec27019cd9",
        "colab": {
          "base_uri": "https://localhost:8080/"
        }
      },
      "source": [
        "print(X_train.shape, y_train.shape)\n",
        "print(X_valid.shape, y_valid.shape)\n",
        "print(X_test.shape, y_test.shape)"
      ],
      "execution_count": 7,
      "outputs": [
        {
          "output_type": "stream",
          "text": [
            "(50000, 784) (50000,)\n",
            "(10000, 784) (10000,)\n",
            "(10000, 784) (10000,)\n"
          ],
          "name": "stdout"
        }
      ]
    },
    {
      "cell_type": "code",
      "metadata": {
        "id": "1biLnibiqPvk"
      },
      "source": [
        "MLPClassifier?"
      ],
      "execution_count": 8,
      "outputs": []
    },
    {
      "cell_type": "code",
      "metadata": {
        "id": "EWXzEhZeqPvk"
      },
      "source": [
        "mlp =  MLPClassifier(max_iter=100)\n",
        "parameter_space = {\n",
        "    'hidden_layer_sizes': [(10,30,10),(20,)],\n",
        "    'activation': ['tanh', 'relu'],\n",
        "    'solver': ['adam', ],\n",
        "    'alpha': [0.0001, 0.05],\n",
        "    'learning_rate': ['constant','adaptive'],\n",
        "}"
      ],
      "execution_count": 9,
      "outputs": []
    },
    {
      "cell_type": "code",
      "metadata": {
        "id": "w9eMg1COqPvl",
        "outputId": "ebf2073d-80a1-44c7-d5aa-f85b2719e483",
        "colab": {
          "base_uri": "https://localhost:8080/"
        }
      },
      "source": [
        "clf = GridSearchCV(mlp, parameter_space, n_jobs=-1, cv=5)\n",
        "clf.fit(X_train, y_train)"
      ],
      "execution_count": 10,
      "outputs": [
        {
          "output_type": "stream",
          "text": [
            "/usr/local/lib/python3.6/dist-packages/sklearn/neural_network/_multilayer_perceptron.py:571: ConvergenceWarning: Stochastic Optimizer: Maximum iterations (100) reached and the optimization hasn't converged yet.\n",
            "  % self.max_iter, ConvergenceWarning)\n"
          ],
          "name": "stderr"
        },
        {
          "output_type": "execute_result",
          "data": {
            "text/plain": [
              "GridSearchCV(cv=5, error_score=nan,\n",
              "             estimator=MLPClassifier(activation='relu', alpha=0.0001,\n",
              "                                     batch_size='auto', beta_1=0.9,\n",
              "                                     beta_2=0.999, early_stopping=False,\n",
              "                                     epsilon=1e-08, hidden_layer_sizes=(100,),\n",
              "                                     learning_rate='constant',\n",
              "                                     learning_rate_init=0.001, max_fun=15000,\n",
              "                                     max_iter=100, momentum=0.9,\n",
              "                                     n_iter_no_change=10,\n",
              "                                     nesterovs_momentum=True, power_t=0.5,\n",
              "                                     random_state...\n",
              "                                     solver='adam', tol=0.0001,\n",
              "                                     validation_fraction=0.1, verbose=False,\n",
              "                                     warm_start=False),\n",
              "             iid='deprecated', n_jobs=-1,\n",
              "             param_grid={'activation': ['tanh', 'relu'],\n",
              "                         'alpha': [0.0001, 0.05],\n",
              "                         'hidden_layer_sizes': [(10, 30, 10), (20,)],\n",
              "                         'learning_rate': ['constant', 'adaptive'],\n",
              "                         'solver': ['sgd', 'adam']},\n",
              "             pre_dispatch='2*n_jobs', refit=True, return_train_score=False,\n",
              "             scoring=None, verbose=0)"
            ]
          },
          "metadata": {
            "tags": []
          },
          "execution_count": 10
        }
      ]
    },
    {
      "cell_type": "code",
      "metadata": {
        "id": "ZhEbbvuwqPvl",
        "outputId": "3784e28a-012c-4069-fb2f-0aa0eaca427f",
        "colab": {
          "base_uri": "https://localhost:8080/"
        }
      },
      "source": [
        "print('Best parameters found:\\n', clf.best_params_)"
      ],
      "execution_count": 11,
      "outputs": [
        {
          "output_type": "stream",
          "text": [
            "Best parameters found:\n",
            " {'activation': 'tanh', 'alpha': 0.0001, 'hidden_layer_sizes': (10, 30, 10), 'learning_rate': 'constant', 'solver': 'adam'}\n"
          ],
          "name": "stdout"
        }
      ]
    },
    {
      "cell_type": "code",
      "metadata": {
        "id": "0RHYENZ3qPvl"
      },
      "source": [
        "prediction = clf.predict(X_test)"
      ],
      "execution_count": 12,
      "outputs": []
    },
    {
      "cell_type": "code",
      "metadata": {
        "id": "LBP8gIHDqPvm",
        "outputId": "7448ea24-fe51-4d8d-8c65-14da6c5ba713",
        "colab": {
          "base_uri": "https://localhost:8080/"
        }
      },
      "source": [
        "print(sklearn.metrics.accuracy_score(prediction, y_test))\n",
        "print(sklearn.metrics.classification_report(prediction, y_test))\n",
        "print(sklearn.metrics.confusion_matrix(prediction, y_test))"
      ],
      "execution_count": 13,
      "outputs": [
        {
          "output_type": "stream",
          "text": [
            "0.9299\n",
            "              precision    recall  f1-score   support\n",
            "\n",
            "           0       0.97      0.96      0.96       990\n",
            "           1       0.98      0.98      0.98      1142\n",
            "           2       0.91      0.94      0.92      1000\n",
            "           3       0.93      0.88      0.90      1063\n",
            "           4       0.96      0.90      0.93      1044\n",
            "           5       0.88      0.88      0.88       893\n",
            "           6       0.94      0.95      0.95       952\n",
            "           7       0.93      0.95      0.94      1010\n",
            "           8       0.90      0.91      0.90       960\n",
            "           9       0.88      0.94      0.91       946\n",
            "\n",
            "    accuracy                           0.93     10000\n",
            "   macro avg       0.93      0.93      0.93     10000\n",
            "weighted avg       0.93      0.93      0.93     10000\n",
            "\n",
            "[[ 949    0   10    2    0    7    9    0    2   11]\n",
            " [   0 1117    1    2    1    1    3    9    5    3]\n",
            " [   1    3  938   19    5    5   11   13    5    0]\n",
            " [   1    4   25  938    1   44    0   16   24   10]\n",
            " [   4    0    7    1  942    4   12    8    8   58]\n",
            " [  12    3    5   22    0  788   16    3   37    7]\n",
            " [   8    2   12    0   10    9  904    0    7    0]\n",
            " [   1    1    8   10    2    2    0  961    6   19]\n",
            " [   4    5   23   13    1   27    3    1  872   11]\n",
            " [   0    0    3    3   20    5    0   17    8  890]]\n"
          ],
          "name": "stdout"
        }
      ]
    },
    {
      "cell_type": "code",
      "metadata": {
        "id": "R-irPF8uqPvm"
      },
      "source": [
        ""
      ],
      "execution_count": 13,
      "outputs": []
    }
  ]
}