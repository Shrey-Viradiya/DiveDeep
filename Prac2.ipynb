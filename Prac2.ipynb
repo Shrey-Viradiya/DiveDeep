{
  "nbformat": 4,
  "nbformat_minor": 0,
  "metadata": {
    "colab": {
      "name": "Prac2.ipynb",
      "provenance": [],
      "collapsed_sections": [],
      "authorship_tag": "ABX9TyP7qKFrsVL0+n1Fi9o2Fka+"
    },
    "kernelspec": {
      "name": "python3",
      "display_name": "Python 3"
    },
    "accelerator": "GPU"
  },
  "cells": [
    {
      "cell_type": "markdown",
      "metadata": {
        "id": "xZjju-JjtPQV"
      },
      "source": [
        "# Practical 2"
      ]
    },
    {
      "cell_type": "code",
      "metadata": {
        "colab": {
          "base_uri": "https://localhost:8080/"
        },
        "id": "rqzBEQFTM8W7",
        "outputId": "82a463f5-36c4-4442-9e4e-405a424ac05f"
      },
      "source": [
        "!nvidia-smi"
      ],
      "execution_count": 1,
      "outputs": [
        {
          "output_type": "stream",
          "text": [
            "Sat Jan 23 17:24:13 2021       \n",
            "+-----------------------------------------------------------------------------+\n",
            "| NVIDIA-SMI 460.32.03    Driver Version: 418.67       CUDA Version: 10.1     |\n",
            "|-------------------------------+----------------------+----------------------+\n",
            "| GPU  Name        Persistence-M| Bus-Id        Disp.A | Volatile Uncorr. ECC |\n",
            "| Fan  Temp  Perf  Pwr:Usage/Cap|         Memory-Usage | GPU-Util  Compute M. |\n",
            "|                               |                      |               MIG M. |\n",
            "|===============================+======================+======================|\n",
            "|   0  Tesla T4            Off  | 00000000:00:04.0 Off |                    0 |\n",
            "| N/A   56C    P8    11W /  70W |      0MiB / 15079MiB |      0%      Default |\n",
            "|                               |                      |                 ERR! |\n",
            "+-------------------------------+----------------------+----------------------+\n",
            "                                                                               \n",
            "+-----------------------------------------------------------------------------+\n",
            "| Processes:                                                                  |\n",
            "|  GPU   GI   CI        PID   Type   Process name                  GPU Memory |\n",
            "|        ID   ID                                                   Usage      |\n",
            "|=============================================================================|\n",
            "|  No running processes found                                                 |\n",
            "+-----------------------------------------------------------------------------+\n"
          ],
          "name": "stdout"
        }
      ]
    },
    {
      "cell_type": "markdown",
      "metadata": {
        "id": "9A4ELRAEtUtb"
      },
      "source": [
        "### Shrey Viradiya\r\n",
        "### 18BCE259"
      ]
    },
    {
      "cell_type": "code",
      "metadata": {
        "id": "88sJENyNs6_x"
      },
      "source": [
        "import tensorflow as tf\r\n",
        "import matplotlib.pyplot as plt\r\n",
        "from tensorflow.keras.datasets import mnist"
      ],
      "execution_count": 2,
      "outputs": []
    },
    {
      "cell_type": "code",
      "metadata": {
        "id": "nymLHkerwkFX"
      },
      "source": [
        "def plot_image(image):\r\n",
        "    plt.imshow(image.squeeze(), cmap=\"gray\", interpolation=\"nearest\")\r\n",
        "    plt.axis(\"off\")\r\n",
        "\r\n",
        "def plot_color_image(image):\r\n",
        "    plt.imshow(image.squeeze(), interpolation=\"nearest\")\r\n",
        "    plt.axis(\"off\")"
      ],
      "execution_count": 3,
      "outputs": []
    },
    {
      "cell_type": "code",
      "metadata": {
        "id": "BgWRy3_BxTvW"
      },
      "source": [
        "(train_images, train_labels), (test_images, test_labels) = mnist.load_data()\r\n",
        "# train_labels = tf.keras.utils.to_categorical(train_labels)\r\n",
        "# test_labels = tf.keras.utils.to_categorical(test_labels)\r\n",
        "train_images = train_images.reshape(-1, 28, 28, 1)\r\n",
        "test_images = test_images.reshape(-1, 28, 28, 1)\r\n",
        "valid_images, valid_labels, test_images, test_labels = test_images[0:1000], test_labels[0:1000], test_images[1000:], test_labels[1000:]"
      ],
      "execution_count": 4,
      "outputs": []
    },
    {
      "cell_type": "code",
      "metadata": {
        "colab": {
          "base_uri": "https://localhost:8080/"
        },
        "id": "Fyb6OqxUxVMG",
        "outputId": "cf87787f-eb5e-430c-ce21-ba60ae07a907"
      },
      "source": [
        "train_images.shape"
      ],
      "execution_count": 5,
      "outputs": [
        {
          "output_type": "execute_result",
          "data": {
            "text/plain": [
              "(60000, 28, 28, 1)"
            ]
          },
          "metadata": {
            "tags": []
          },
          "execution_count": 5
        }
      ]
    },
    {
      "cell_type": "code",
      "metadata": {
        "colab": {
          "base_uri": "https://localhost:8080/"
        },
        "id": "AC8BoSNcxckp",
        "outputId": "a36adeb8-bf57-40d1-8873-c67c55ae2a10"
      },
      "source": [
        "len(train_labels)"
      ],
      "execution_count": 6,
      "outputs": [
        {
          "output_type": "execute_result",
          "data": {
            "text/plain": [
              "60000"
            ]
          },
          "metadata": {
            "tags": []
          },
          "execution_count": 6
        }
      ]
    },
    {
      "cell_type": "code",
      "metadata": {
        "colab": {
          "base_uri": "https://localhost:8080/"
        },
        "id": "d4Z26uUaxeDt",
        "outputId": "3beb1105-1170-4c79-8b10-ed1cc69b4e38"
      },
      "source": [
        "train_labels"
      ],
      "execution_count": 7,
      "outputs": [
        {
          "output_type": "execute_result",
          "data": {
            "text/plain": [
              "array([5, 0, 4, ..., 5, 6, 8], dtype=uint8)"
            ]
          },
          "metadata": {
            "tags": []
          },
          "execution_count": 7
        }
      ]
    },
    {
      "cell_type": "code",
      "metadata": {
        "colab": {
          "base_uri": "https://localhost:8080/"
        },
        "id": "sg_tVd0uxfw1",
        "outputId": "764d35dc-634c-4828-c2df-d4ba8e36ee6b"
      },
      "source": [
        "train_labels.shape"
      ],
      "execution_count": 8,
      "outputs": [
        {
          "output_type": "execute_result",
          "data": {
            "text/plain": [
              "(60000,)"
            ]
          },
          "metadata": {
            "tags": []
          },
          "execution_count": 8
        }
      ]
    },
    {
      "cell_type": "code",
      "metadata": {
        "colab": {
          "base_uri": "https://localhost:8080/"
        },
        "id": "Z_Eh4f99xhTM",
        "outputId": "2b0a1fca-a538-4e1f-a938-544fc1e65d33"
      },
      "source": [
        "test_images.shape"
      ],
      "execution_count": 9,
      "outputs": [
        {
          "output_type": "execute_result",
          "data": {
            "text/plain": [
              "(9000, 28, 28, 1)"
            ]
          },
          "metadata": {
            "tags": []
          },
          "execution_count": 9
        }
      ]
    },
    {
      "cell_type": "code",
      "metadata": {
        "colab": {
          "base_uri": "https://localhost:8080/",
          "height": 247
        },
        "id": "BGiO-lKQxjve",
        "outputId": "c2ec8b41-908a-46e0-c775-dacc0dde33ec"
      },
      "source": [
        "plot_image(test_images[0])"
      ],
      "execution_count": 10,
      "outputs": [
        {
          "output_type": "display_data",
          "data": {
            "image/png": "[encoded data removed]",
            "text/plain": [
              "<Figure size 432x288 with 1 Axes>"
            ]
          },
          "metadata": {
            "tags": [],
            "needs_background": "light"
          }
        }
      ]
    },
    {
      "cell_type": "code",
      "metadata": {
        "id": "SbuxdxP8xoX2"
      },
      "source": [
        "train_images = train_images / 255.0\r\n",
        "test_images = test_images / 255.0"
      ],
      "execution_count": 11,
      "outputs": []
    },
    {
      "cell_type": "code",
      "metadata": {
        "colab": {
          "base_uri": "https://localhost:8080/",
          "height": 594
        },
        "id": "xjkQh-ptxsrd",
        "outputId": "3c5cecd1-a9c3-4901-a7c3-66704613a253"
      },
      "source": [
        "plt.figure(figsize=(10,10))\r\n",
        "for i in range(25):\r\n",
        "    plt.subplot(5,5,i+1)\r\n",
        "    plt.grid(False)\r\n",
        "    plt.imshow(train_images[i].squeeze(), cmap=plt.cm.binary)\r\n",
        "plt.show()"
      ],
      "execution_count": 12,
      "outputs": [
        {
          "output_type": "display_data",
          "data": {
            "image/png": "[encoded data removed]",
            "text/plain": [
              "<Figure size 720x720 with 25 Axes>"
            ]
          },
          "metadata": {
            "tags": [],
            "needs_background": "light"
          }
        }
      ]
    },
    {
      "cell_type": "code",
      "metadata": {
        "id": "4NdCYnN4x29x"
      },
      "source": [
        "model_1 = tf.keras.Sequential([\r\n",
        "    tf.keras.layers.Flatten(input_shape=(28, 28)),\r\n",
        "    tf.keras.layers.Dense(128, activation='relu'),\r\n",
        "    tf.keras.layers.Dense(10 , activation='softmax'),\r\n",
        "])\r\n",
        "model_1.compile(optimizer='adam',\r\n",
        "              loss=\"sparse_categorical_crossentropy\",\r\n",
        "              metrics=['accuracy'])"
      ],
      "execution_count": 13,
      "outputs": []
    },
    {
      "cell_type": "code",
      "metadata": {
        "colab": {
          "base_uri": "https://localhost:8080/"
        },
        "id": "UENk4BDkyEgI",
        "outputId": "35bf945b-7587-41b9-9c38-c9ebc18f41a3"
      },
      "source": [
        "history = model_1.fit(train_images, train_labels, epochs=30, validation_data=(valid_images, valid_labels), callbacks=[tf.keras.callbacks.EarlyStopping(monitor='loss', patience=3)])"
      ],
      "execution_count": 14,
      "outputs": [
        {
          "output_type": "stream",
          "text": [
            "Epoch 1/30\n",
            "1875/1875 [==============================] - 4s 2ms/step - loss: 0.4182 - accuracy: 0.8814 - val_loss: 13.4425 - val_accuracy: 0.9620\n",
            "Epoch 2/30\n",
            "1875/1875 [==============================] - 3s 2ms/step - loss: 0.1219 - accuracy: 0.9641 - val_loss: 9.7088 - val_accuracy: 0.9700\n",
            "Epoch 3/30\n",
            "1875/1875 [==============================] - 3s 2ms/step - loss: 0.0765 - accuracy: 0.9778 - val_loss: 11.9511 - val_accuracy: 0.9690\n",
            "Epoch 4/30\n",
            "1875/1875 [==============================] - 3s 2ms/step - loss: 0.0567 - accuracy: 0.9836 - val_loss: 13.2080 - val_accuracy: 0.9780\n",
            "Epoch 5/30\n",
            "1875/1875 [==============================] - 3s 2ms/step - loss: 0.0423 - accuracy: 0.9868 - val_loss: 9.2084 - val_accuracy: 0.9810\n",
            "Epoch 6/30\n",
            "1875/1875 [==============================] - 3s 2ms/step - loss: 0.0344 - accuracy: 0.9895 - val_loss: 9.5677 - val_accuracy: 0.9810\n",
            "Epoch 7/30\n",
            "1875/1875 [==============================] - 3s 2ms/step - loss: 0.0243 - accuracy: 0.9931 - val_loss: 11.6007 - val_accuracy: 0.9810\n",
            "Epoch 8/30\n",
            "1875/1875 [==============================] - 3s 2ms/step - loss: 0.0220 - accuracy: 0.9930 - val_loss: 11.7154 - val_accuracy: 0.9800\n",
            "Epoch 9/30\n",
            "1875/1875 [==============================] - 3s 2ms/step - loss: 0.0174 - accuracy: 0.9948 - val_loss: 14.2537 - val_accuracy: 0.9820\n",
            "Epoch 10/30\n",
            "1875/1875 [==============================] - 3s 2ms/step - loss: 0.0141 - accuracy: 0.9956 - val_loss: 16.9510 - val_accuracy: 0.9760\n",
            "Epoch 11/30\n",
            "1875/1875 [==============================] - 3s 2ms/step - loss: 0.0106 - accuracy: 0.9974 - val_loss: 17.2391 - val_accuracy: 0.9770\n",
            "Epoch 12/30\n",
            "1875/1875 [==============================] - 3s 2ms/step - loss: 0.0105 - accuracy: 0.9966 - val_loss: 14.6661 - val_accuracy: 0.9770\n",
            "Epoch 13/30\n",
            "1875/1875 [==============================] - 3s 2ms/step - loss: 0.0093 - accuracy: 0.9972 - val_loss: 17.8987 - val_accuracy: 0.9800\n",
            "Epoch 14/30\n",
            "1875/1875 [==============================] - 3s 2ms/step - loss: 0.0068 - accuracy: 0.9979 - val_loss: 19.1751 - val_accuracy: 0.9790\n",
            "Epoch 15/30\n",
            "1875/1875 [==============================] - 3s 2ms/step - loss: 0.0076 - accuracy: 0.9976 - val_loss: 21.5583 - val_accuracy: 0.9750\n",
            "Epoch 16/30\n",
            "1875/1875 [==============================] - 3s 2ms/step - loss: 0.0057 - accuracy: 0.9984 - val_loss: 24.0294 - val_accuracy: 0.9780\n",
            "Epoch 17/30\n",
            "1875/1875 [==============================] - 3s 2ms/step - loss: 0.0057 - accuracy: 0.9983 - val_loss: 19.8037 - val_accuracy: 0.9840\n",
            "Epoch 18/30\n",
            "1875/1875 [==============================] - 3s 2ms/step - loss: 0.0052 - accuracy: 0.9984 - val_loss: 21.0586 - val_accuracy: 0.9780\n",
            "Epoch 19/30\n",
            "1875/1875 [==============================] - 3s 2ms/step - loss: 0.0040 - accuracy: 0.9988 - val_loss: 24.4204 - val_accuracy: 0.9760\n",
            "Epoch 20/30\n",
            "1875/1875 [==============================] - 3s 2ms/step - loss: 0.0034 - accuracy: 0.9990 - val_loss: 28.5233 - val_accuracy: 0.9800\n",
            "Epoch 21/30\n",
            "1875/1875 [==============================] - 3s 2ms/step - loss: 0.0049 - accuracy: 0.9985 - val_loss: 29.1464 - val_accuracy: 0.9800\n",
            "Epoch 22/30\n",
            "1875/1875 [==============================] - 3s 2ms/step - loss: 0.0044 - accuracy: 0.9988 - val_loss: 21.3351 - val_accuracy: 0.9790\n",
            "Epoch 23/30\n",
            "1875/1875 [==============================] - 3s 2ms/step - loss: 0.0046 - accuracy: 0.9985 - val_loss: 23.0532 - val_accuracy: 0.9840\n",
            "Epoch 24/30\n",
            "1875/1875 [==============================] - 3s 2ms/step - loss: 0.0036 - accuracy: 0.9990 - val_loss: 21.9833 - val_accuracy: 0.9790\n",
            "Epoch 25/30\n",
            "1875/1875 [==============================] - 3s 2ms/step - loss: 0.0037 - accuracy: 0.9989 - val_loss: 24.5862 - val_accuracy: 0.9760\n",
            "Epoch 26/30\n",
            "1875/1875 [==============================] - 3s 2ms/step - loss: 0.0034 - accuracy: 0.9989 - val_loss: 28.1596 - val_accuracy: 0.9760\n",
            "Epoch 27/30\n",
            "1875/1875 [==============================] - 3s 2ms/step - loss: 0.0021 - accuracy: 0.9993 - val_loss: 27.5070 - val_accuracy: 0.9780\n",
            "Epoch 28/30\n",
            "1875/1875 [==============================] - 3s 2ms/step - loss: 0.0085 - accuracy: 0.9975 - val_loss: 25.2809 - val_accuracy: 0.9770\n",
            "Epoch 29/30\n",
            "1875/1875 [==============================] - 3s 2ms/step - loss: 0.0023 - accuracy: 0.9992 - val_loss: 28.6652 - val_accuracy: 0.9780\n",
            "Epoch 30/30\n",
            "1875/1875 [==============================] - 3s 2ms/step - loss: 0.0032 - accuracy: 0.9989 - val_loss: 26.7611 - val_accuracy: 0.9820\n"
          ],
          "name": "stdout"
        }
      ]
    },
    {
      "cell_type": "code",
      "metadata": {
        "colab": {
          "base_uri": "https://localhost:8080/"
        },
        "id": "cAHNSZOOyHrQ",
        "outputId": "4738ba90-b5d5-48d5-f626-d581e4b43dd4"
      },
      "source": [
        "test_loss, test_acc = model_1.evaluate(test_images,  test_labels)\r\n",
        "print('\\nTest accuracy:', test_acc)"
      ],
      "execution_count": 15,
      "outputs": [
        {
          "output_type": "stream",
          "text": [
            "282/282 [==============================] - 1s 2ms/step - loss: 0.1218 - accuracy: 0.9800\n",
            "\n",
            "Test accuracy: 0.9800000190734863\n"
          ],
          "name": "stdout"
        }
      ]
    },
    {
      "cell_type": "code",
      "metadata": {
        "id": "4jDGYFgZyNzH"
      },
      "source": [
        "predictions = model_1.predict(test_images)"
      ],
      "execution_count": 16,
      "outputs": []
    },
    {
      "cell_type": "code",
      "metadata": {
        "colab": {
          "base_uri": "https://localhost:8080/"
        },
        "id": "-UVKMDZF1eDh",
        "outputId": "143b7503-4252-4720-b5f3-818a119d9caf"
      },
      "source": [
        "tf.argmax(predictions[0])"
      ],
      "execution_count": 17,
      "outputs": [
        {
          "output_type": "execute_result",
          "data": {
            "text/plain": [
              "<tf.Tensor: shape=(), dtype=int64, numpy=9>"
            ]
          },
          "metadata": {
            "tags": []
          },
          "execution_count": 17
        }
      ]
    },
    {
      "cell_type": "code",
      "metadata": {
        "colab": {
          "base_uri": "https://localhost:8080/",
          "height": 247
        },
        "id": "H7gDuMSJ16vL",
        "outputId": "b6aa673c-26f1-4108-a80a-450d411b7c2a"
      },
      "source": [
        "plot_image(test_images[0])"
      ],
      "execution_count": 18,
      "outputs": [
        {
          "output_type": "display_data",
          "data": {
            "image/png": "[encoded data removed]",
            "text/plain": [
              "<Figure size 432x288 with 1 Axes>"
            ]
          },
          "metadata": {
            "tags": [],
            "needs_background": "light"
          }
        }
      ]
    },
    {
      "cell_type": "code",
      "metadata": {
        "colab": {
          "base_uri": "https://localhost:8080/",
          "height": 294
        },
        "id": "Tu6ww7dDOneN",
        "outputId": "04e46762-91e0-4f01-fdb3-64129415aa61"
      },
      "source": [
        "plt.plot(history.history['accuracy'])\r\n",
        "plt.plot(history.history['val_accuracy'])\r\n",
        "plt.title('model accuracy')\r\n",
        "plt.ylabel('accuracy')\r\n",
        "plt.xlabel('epoch')\r\n",
        "plt.legend(['train', 'val'], loc='upper left')\r\n",
        "plt.show()"
      ],
      "execution_count": 19,
      "outputs": [
        {
          "output_type": "display_data",
          "data": {
            "image/png": "[encoded data removed]",
            "text/plain": [
              "<Figure size 432x288 with 1 Axes>"
            ]
          },
          "metadata": {
            "tags": [],
            "needs_background": "light"
          }
        }
      ]
    },
    {
      "cell_type": "code",
      "metadata": {
        "id": "kfktd37O2C6H"
      },
      "source": [
        "inp = tf.keras.Input(shape=(28, 28, 1))\r\n",
        "x = tf.keras.layers.Conv2D(32, (3,3), activation = 'relu')(inp)\r\n",
        "x = tf.keras.layers.MaxPool2D((2,2))(x)\r\n",
        "x = tf.keras.layers.Conv2D(64, (3,3), activation = 'relu')(x)\r\n",
        "x = tf.keras.layers.Flatten()(x)\r\n",
        "x = tf.keras.layers.Dense(128, activation='relu')(x)\r\n",
        "out = tf.keras.layers.Dense(10 , activation='softmax')(x)\r\n",
        "\r\n",
        "model_2 = tf.keras.Model(inputs = [inp], outputs = [out])\r\n",
        "\r\n",
        "model_2.compile(optimizer='adam',\r\n",
        "              loss=\"sparse_categorical_crossentropy\",\r\n",
        "              metrics=['accuracy'])"
      ],
      "execution_count": 20,
      "outputs": []
    },
    {
      "cell_type": "code",
      "metadata": {
        "colab": {
          "base_uri": "https://localhost:8080/"
        },
        "id": "V9qaL2bi4L4o",
        "outputId": "68ccafa2-99ea-407a-8166-30baf33dee47"
      },
      "source": [
        "model_2.summary()"
      ],
      "execution_count": 21,
      "outputs": [
        {
          "output_type": "stream",
          "text": [
            "Model: \"model\"\n",
            "_________________________________________________________________\n",
            "Layer (type)                 Output Shape              Param #   \n",
            "=================================================================\n",
            "input_1 (InputLayer)         [(None, 28, 28, 1)]       0         \n",
            "_________________________________________________________________\n",
            "conv2d (Conv2D)              (None, 26, 26, 32)        320       \n",
            "_________________________________________________________________\n",
            "max_pooling2d (MaxPooling2D) (None, 13, 13, 32)        0         \n",
            "_________________________________________________________________\n",
            "conv2d_1 (Conv2D)            (None, 11, 11, 64)        18496     \n",
            "_________________________________________________________________\n",
            "flatten_1 (Flatten)          (None, 7744)              0         \n",
            "_________________________________________________________________\n",
            "dense_2 (Dense)              (None, 128)               991360    \n",
            "_________________________________________________________________\n",
            "dense_3 (Dense)              (None, 10)                1290      \n",
            "=================================================================\n",
            "Total params: 1,011,466\n",
            "Trainable params: 1,011,466\n",
            "Non-trainable params: 0\n",
            "_________________________________________________________________\n"
          ],
          "name": "stdout"
        }
      ]
    },
    {
      "cell_type": "code",
      "metadata": {
        "colab": {
          "base_uri": "https://localhost:8080/"
        },
        "id": "4g8wKcnv2bDa",
        "outputId": "846d1b41-9d8b-4ab6-d499-cdd491108159"
      },
      "source": [
        "history = model_2.fit(train_images, train_labels, epochs=30, validation_data=(valid_images, valid_labels), callbacks=[tf.keras.callbacks.EarlyStopping(monitor='loss', patience=3)])"
      ],
      "execution_count": 22,
      "outputs": [
        {
          "output_type": "stream",
          "text": [
            "Epoch 1/30\n",
            "1875/1875 [==============================] - 6s 2ms/step - loss: 0.2385 - accuracy: 0.9278 - val_loss: 6.0892 - val_accuracy: 0.9870\n",
            "Epoch 2/30\n",
            "1875/1875 [==============================] - 4s 2ms/step - loss: 0.0363 - accuracy: 0.9891 - val_loss: 7.2456 - val_accuracy: 0.9850\n",
            "Epoch 3/30\n",
            "1875/1875 [==============================] - 4s 2ms/step - loss: 0.0233 - accuracy: 0.9921 - val_loss: 8.4334 - val_accuracy: 0.9890\n",
            "Epoch 4/30\n",
            "1875/1875 [==============================] - 4s 2ms/step - loss: 0.0147 - accuracy: 0.9951 - val_loss: 7.0904 - val_accuracy: 0.9900\n",
            "Epoch 5/30\n",
            "1875/1875 [==============================] - 4s 2ms/step - loss: 0.0113 - accuracy: 0.9962 - val_loss: 10.6556 - val_accuracy: 0.9830\n",
            "Epoch 6/30\n",
            "1875/1875 [==============================] - 4s 2ms/step - loss: 0.0075 - accuracy: 0.9977 - val_loss: 11.8449 - val_accuracy: 0.9890\n",
            "Epoch 7/30\n",
            "1875/1875 [==============================] - 4s 2ms/step - loss: 0.0065 - accuracy: 0.9979 - val_loss: 11.3808 - val_accuracy: 0.9880\n",
            "Epoch 8/30\n",
            "1875/1875 [==============================] - 4s 2ms/step - loss: 0.0060 - accuracy: 0.9981 - val_loss: 10.7976 - val_accuracy: 0.9860\n",
            "Epoch 9/30\n",
            "1875/1875 [==============================] - 4s 2ms/step - loss: 0.0050 - accuracy: 0.9983 - val_loss: 12.3306 - val_accuracy: 0.9840\n",
            "Epoch 10/30\n",
            "1875/1875 [==============================] - 4s 2ms/step - loss: 0.0042 - accuracy: 0.9986 - val_loss: 19.1492 - val_accuracy: 0.9840\n",
            "Epoch 11/30\n",
            "1875/1875 [==============================] - 4s 2ms/step - loss: 0.0042 - accuracy: 0.9989 - val_loss: 14.3120 - val_accuracy: 0.9860\n",
            "Epoch 12/30\n",
            "1875/1875 [==============================] - 4s 2ms/step - loss: 0.0027 - accuracy: 0.9991 - val_loss: 14.6570 - val_accuracy: 0.9890\n",
            "Epoch 13/30\n",
            "1875/1875 [==============================] - 4s 2ms/step - loss: 0.0033 - accuracy: 0.9990 - val_loss: 16.6952 - val_accuracy: 0.9840\n",
            "Epoch 14/30\n",
            "1875/1875 [==============================] - 4s 2ms/step - loss: 0.0045 - accuracy: 0.9985 - val_loss: 22.8897 - val_accuracy: 0.9870\n",
            "Epoch 15/30\n",
            "1875/1875 [==============================] - 4s 2ms/step - loss: 0.0028 - accuracy: 0.9992 - val_loss: 21.3265 - val_accuracy: 0.9890\n",
            "Epoch 16/30\n",
            "1875/1875 [==============================] - 4s 2ms/step - loss: 0.0036 - accuracy: 0.9988 - val_loss: 27.0330 - val_accuracy: 0.9800\n",
            "Epoch 17/30\n",
            "1875/1875 [==============================] - 4s 2ms/step - loss: 0.0025 - accuracy: 0.9992 - val_loss: 9.5569 - val_accuracy: 0.9900\n",
            "Epoch 18/30\n",
            "1875/1875 [==============================] - 4s 2ms/step - loss: 0.0014 - accuracy: 0.9995 - val_loss: 22.1761 - val_accuracy: 0.9870\n",
            "Epoch 19/30\n",
            "1875/1875 [==============================] - 4s 2ms/step - loss: 0.0023 - accuracy: 0.9993 - val_loss: 17.0735 - val_accuracy: 0.9870\n",
            "Epoch 20/30\n",
            "1875/1875 [==============================] - 4s 2ms/step - loss: 0.0024 - accuracy: 0.9992 - val_loss: 15.0086 - val_accuracy: 0.9860\n"
          ],
          "name": "stdout"
        }
      ]
    },
    {
      "cell_type": "code",
      "metadata": {
        "colab": {
          "base_uri": "https://localhost:8080/"
        },
        "id": "ZtzJnf7d2o8q",
        "outputId": "a580a383-0707-4e98-de4a-55f83adf4621"
      },
      "source": [
        "test_loss, test_acc = model_2.evaluate(test_images,  test_labels)\r\n",
        "print('\\nTest accuracy:', test_acc)"
      ],
      "execution_count": 23,
      "outputs": [
        {
          "output_type": "stream",
          "text": [
            "282/282 [==============================] - 1s 2ms/step - loss: 0.0561 - accuracy: 0.9914\n",
            "\n",
            "Test accuracy: 0.99144446849823\n"
          ],
          "name": "stdout"
        }
      ]
    },
    {
      "cell_type": "code",
      "metadata": {
        "id": "RIsEbQS-2r_I"
      },
      "source": [
        "predictions = model_2.predict(test_images)"
      ],
      "execution_count": 24,
      "outputs": []
    },
    {
      "cell_type": "code",
      "metadata": {
        "colab": {
          "base_uri": "https://localhost:8080/"
        },
        "id": "0AYbxxU52yg7",
        "outputId": "4abe09aa-d88d-432a-8ce7-8f0e602a4c17"
      },
      "source": [
        "tf.argmax(predictions[0])"
      ],
      "execution_count": 25,
      "outputs": [
        {
          "output_type": "execute_result",
          "data": {
            "text/plain": [
              "<tf.Tensor: shape=(), dtype=int64, numpy=9>"
            ]
          },
          "metadata": {
            "tags": []
          },
          "execution_count": 25
        }
      ]
    },
    {
      "cell_type": "code",
      "metadata": {
        "colab": {
          "base_uri": "https://localhost:8080/",
          "height": 294
        },
        "id": "Nrj3-xVNPgfO",
        "outputId": "4487cf26-ef21-4b6b-88f2-6c34b2c92d19"
      },
      "source": [
        "plt.plot(history.history['accuracy'])\r\n",
        "plt.plot(history.history['val_accuracy'])\r\n",
        "plt.title('model accuracy')\r\n",
        "plt.ylabel('accuracy')\r\n",
        "plt.xlabel('epoch')\r\n",
        "plt.legend(['train', 'val'], loc='upper left')\r\n",
        "plt.show()"
      ],
      "execution_count": 26,
      "outputs": [
        {
          "output_type": "display_data",
          "data": {
            "image/png": "[encoded data removed]",
            "text/plain": [
              "<Figure size 432x288 with 1 Axes>"
            ]
          },
          "metadata": {
            "tags": [],
            "needs_background": "light"
          }
        }
      ]
    }
  ]
}