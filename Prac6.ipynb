{
  "nbformat": 4,
  "nbformat_minor": 0,
  "metadata": {
    "colab": {
      "name": "Prac6.ipynb",
      "provenance": [],
      "collapsed_sections": [],
      "toc_visible": true,
      "authorship_tag": "ABX9TyNpoHd/NFke2PGMoIQWTbHM",
      "include_colab_link": true
    },
    "kernelspec": {
      "name": "python3",
      "display_name": "Python 3"
    },
    "accelerator": "GPU"
  },
  "cells": [
    {
      "cell_type": "markdown",
      "metadata": {
        "id": "view-in-github",
        "colab_type": "text"
      },
      "source": [
        "<a href=\"https://colab.research.google.com/github/Shrey-Viradiya/DiveDeep/blob/master/Prac6.ipynb\" target=\"_parent\"><img src=\"https://colab.research.google.com/assets/colab-badge.svg\" alt=\"Open In Colab\"/></a>"
      ]
    },
    {
      "cell_type": "markdown",
      "metadata": {
        "id": "27SYmLbTFMfm"
      },
      "source": [
        "# Prac 6\n",
        "### 18BCE259\n",
        "\n",
        "##### Processing Text with RNN"
      ]
    },
    {
      "cell_type": "code",
      "metadata": {
        "colab": {
          "base_uri": "https://localhost:8080/"
        },
        "id": "jKjn_mrzFLQX",
        "outputId": "77afb5d8-7fe0-45d9-840e-4c34e279c9ea"
      },
      "source": [
        "!nvidia-smi"
      ],
      "execution_count": 1,
      "outputs": [
        {
          "output_type": "stream",
          "text": [
            "Sun Apr 11 17:13:34 2021       \n",
            "+-----------------------------------------------------------------------------+\n",
            "| NVIDIA-SMI 460.67       Driver Version: 460.32.03    CUDA Version: 11.2     |\n",
            "|-------------------------------+----------------------+----------------------+\n",
            "| GPU  Name        Persistence-M| Bus-Id        Disp.A | Volatile Uncorr. ECC |\n",
            "| Fan  Temp  Perf  Pwr:Usage/Cap|         Memory-Usage | GPU-Util  Compute M. |\n",
            "|                               |                      |               MIG M. |\n",
            "|===============================+======================+======================|\n",
            "|   0  Tesla T4            Off  | 00000000:00:04.0 Off |                    0 |\n",
            "| N/A   72C    P8    15W /  70W |      0MiB / 15109MiB |      0%      Default |\n",
            "|                               |                      |                  N/A |\n",
            "+-------------------------------+----------------------+----------------------+\n",
            "                                                                               \n",
            "+-----------------------------------------------------------------------------+\n",
            "| Processes:                                                                  |\n",
            "|  GPU   GI   CI        PID   Type   Process name                  GPU Memory |\n",
            "|        ID   ID                                                   Usage      |\n",
            "|=============================================================================|\n",
            "|  No running processes found                                                 |\n",
            "+-----------------------------------------------------------------------------+\n"
          ],
          "name": "stdout"
        }
      ]
    },
    {
      "cell_type": "code",
      "metadata": {
        "id": "vyf7ErOnFJeT"
      },
      "source": [
        "import tensorflow as tf\n",
        "import tensorflow.keras as keras\n",
        "import numpy as np\n",
        "import matplotlib.pyplot as plt"
      ],
      "execution_count": 2,
      "outputs": []
    },
    {
      "cell_type": "code",
      "metadata": {
        "id": "vrZRsxXvAkb0"
      },
      "source": [
        "# import logging\n",
        "# logging.getLogger(\"tensorflow\").setLevel(logging.ERROR)\n",
        "# logging.getLogger(\"tensorflow\").addHandler(logging.NullHandler(logging.ERROR))"
      ],
      "execution_count": 3,
      "outputs": []
    },
    {
      "cell_type": "code",
      "metadata": {
        "id": "2fUi--a86lQd"
      },
      "source": [
        "data = \" It is well known that medical diagnosis takes more time than deciding treatment for the condition .\\n It might require plenty of time and skills of medical practitioners .\\n In recent times, COVID-19 spread across the globe made computer researchers work toward faster and more accurate medical diagnosis solutions for hospitals .\\n This project contains the code for diagnosing pneumonia from the chest X-ray images .\"\n",
        "text = data.split('\\n')"
      ],
      "execution_count": 4,
      "outputs": []
    },
    {
      "cell_type": "code",
      "metadata": {
        "colab": {
          "base_uri": "https://localhost:8080/"
        },
        "id": "-bilvTwP4cqc",
        "outputId": "79cc3350-7a08-4a03-eee7-289c802933c7"
      },
      "source": [
        "text"
      ],
      "execution_count": 5,
      "outputs": [
        {
          "output_type": "execute_result",
          "data": {
            "text/plain": [
              "[' It is well known that medical diagnosis takes more time than deciding treatment for the condition .',\n",
              " ' It might require plenty of time and skills of medical practitioners .',\n",
              " ' In recent times, COVID-19 spread across the globe made computer researchers work toward faster and more accurate medical diagnosis solutions for hospitals .',\n",
              " ' This project contains the code for diagnosing pneumonia from the chest X-ray images .']"
            ]
          },
          "metadata": {
            "tags": []
          },
          "execution_count": 5
        }
      ]
    },
    {
      "cell_type": "code",
      "metadata": {
        "id": "n6LcTLeYHSCr"
      },
      "source": [
        "tokenizer = tf.keras.preprocessing.text.Tokenizer(filters='!\"#$*&()*+,-/:;<=>?@[\\]^_{}~')\n",
        "tokenizer.fit_on_texts(text)"
      ],
      "execution_count": 6,
      "outputs": []
    },
    {
      "cell_type": "code",
      "metadata": {
        "colab": {
          "base_uri": "https://localhost:8080/"
        },
        "id": "5FdyJMkKH2Ng",
        "outputId": "30221f50-698b-45e7-8921-4eea70347b95"
      },
      "source": [
        "vocab_size = len(tokenizer.word_index) + 1\n",
        "vocab_size"
      ],
      "execution_count": 7,
      "outputs": [
        {
          "output_type": "execute_result",
          "data": {
            "text/plain": [
              "53"
            ]
          },
          "metadata": {
            "tags": []
          },
          "execution_count": 7
        }
      ]
    },
    {
      "cell_type": "code",
      "metadata": {
        "id": "6jf3BFbJIEUY"
      },
      "source": [
        "sequences = tokenizer.texts_to_sequences(text)\n",
        "l = len(sequences)"
      ],
      "execution_count": 8,
      "outputs": []
    },
    {
      "cell_type": "code",
      "metadata": {
        "colab": {
          "base_uri": "https://localhost:8080/"
        },
        "id": "mpOwRqchInaR",
        "outputId": "afcca6ca-7629-40b8-c393-031ed21db464"
      },
      "source": [
        "max_len = max([len(seq) for seq in sequences])\n",
        "max_len"
      ],
      "execution_count": 9,
      "outputs": [
        {
          "output_type": "execute_result",
          "data": {
            "text/plain": [
              "24"
            ]
          },
          "metadata": {
            "tags": []
          },
          "execution_count": 9
        }
      ]
    },
    {
      "cell_type": "code",
      "metadata": {
        "id": "6y5kl9sbLg1v"
      },
      "source": [
        "X = []\n",
        "y = sequences\n",
        "for sq in sequences:\n",
        "    X.append(sq[:-1])"
      ],
      "execution_count": 10,
      "outputs": []
    },
    {
      "cell_type": "code",
      "metadata": {
        "id": "x3heNcPE-HtW"
      },
      "source": [
        "max_len = max([len(seq) for seq in sequences])"
      ],
      "execution_count": 11,
      "outputs": []
    },
    {
      "cell_type": "code",
      "metadata": {
        "id": "7aqT1o4m8EiH"
      },
      "source": [
        "X = tf.keras.preprocessing.sequence.pad_sequences(X, maxlen=max_len+1)\n",
        "y = tf.keras.preprocessing.sequence.pad_sequences(y, maxlen=max_len+1)\n",
        "y = tf.keras.utils.to_categorical(y, num_classes=vocab_size)"
      ],
      "execution_count": 12,
      "outputs": []
    },
    {
      "cell_type": "code",
      "metadata": {
        "colab": {
          "base_uri": "https://localhost:8080/"
        },
        "id": "jEj_xWea8x6u",
        "outputId": "af0e798c-02f2-45fb-c44d-72e62542c49e"
      },
      "source": [
        "model = tf.keras.models.Sequential([\n",
        "                                    tf.keras.layers.Embedding(input_dim=vocab_size, output_dim=10),\n",
        "                                    tf.keras.layers.SimpleRNN(50, return_sequences=True),\n",
        "                                    tf.keras.layers.Dense(vocab_size, activation=\"softmax\")\n",
        "])\n",
        "\n",
        "model.summary()"
      ],
      "execution_count": 13,
      "outputs": [
        {
          "output_type": "stream",
          "text": [
            "Model: \"sequential\"\n",
            "_________________________________________________________________\n",
            "Layer (type)                 Output Shape              Param #   \n",
            "=================================================================\n",
            "embedding (Embedding)        (None, None, 10)          530       \n",
            "_________________________________________________________________\n",
            "simple_rnn (SimpleRNN)       (None, None, 50)          3050      \n",
            "_________________________________________________________________\n",
            "dense (Dense)                (None, None, 53)          2703      \n",
            "=================================================================\n",
            "Total params: 6,283\n",
            "Trainable params: 6,283\n",
            "Non-trainable params: 0\n",
            "_________________________________________________________________\n"
          ],
          "name": "stdout"
        }
      ]
    },
    {
      "cell_type": "code",
      "metadata": {
        "id": "4gCKUCx39dqV",
        "colab": {
          "base_uri": "https://localhost:8080/"
        },
        "outputId": "da41f917-5136-480e-bd3e-141b79c7755b"
      },
      "source": [
        "model.compile(optimizer=\"RMSprop\", loss=\"categorical_crossentropy\", metrics=['accuracy'])\n",
        "model.fit(X,y, epochs=200)"
      ],
      "execution_count": 14,
      "outputs": [
        {
          "output_type": "stream",
          "text": [
            "Epoch 1/200\n",
            "1/1 [==============================] - 1s 1s/step - loss: 3.9621 - accuracy: 0.0100\n",
            "Epoch 2/200\n",
            "1/1 [==============================] - 0s 17ms/step - loss: 3.9178 - accuracy: 0.2700\n",
            "Epoch 3/200\n",
            "1/1 [==============================] - 0s 17ms/step - loss: 3.8719 - accuracy: 0.3100\n",
            "Epoch 4/200\n",
            "1/1 [==============================] - 0s 17ms/step - loss: 3.8126 - accuracy: 0.3500\n",
            "Epoch 5/200\n",
            "1/1 [==============================] - 0s 18ms/step - loss: 3.7437 - accuracy: 0.3100\n",
            "Epoch 6/200\n",
            "1/1 [==============================] - 0s 16ms/step - loss: 3.6752 - accuracy: 0.3800\n",
            "Epoch 7/200\n",
            "1/1 [==============================] - 0s 17ms/step - loss: 3.6472 - accuracy: 0.3400\n",
            "Epoch 8/200\n",
            "1/1 [==============================] - 0s 17ms/step - loss: 3.6620 - accuracy: 0.3400\n",
            "Epoch 9/200\n",
            "1/1 [==============================] - 0s 17ms/step - loss: 3.5746 - accuracy: 0.3400\n",
            "Epoch 10/200\n",
            "1/1 [==============================] - 0s 19ms/step - loss: 3.5098 - accuracy: 0.3600\n",
            "Epoch 11/200\n",
            "1/1 [==============================] - 0s 20ms/step - loss: 3.4583 - accuracy: 0.3600\n",
            "Epoch 12/200\n",
            "1/1 [==============================] - 0s 18ms/step - loss: 3.4157 - accuracy: 0.3700\n",
            "Epoch 13/200\n",
            "1/1 [==============================] - 0s 19ms/step - loss: 3.3781 - accuracy: 0.3500\n",
            "Epoch 14/200\n",
            "1/1 [==============================] - 0s 20ms/step - loss: 3.3638 - accuracy: 0.3700\n",
            "Epoch 15/200\n",
            "1/1 [==============================] - 0s 27ms/step - loss: 3.3836 - accuracy: 0.3400\n",
            "Epoch 16/200\n",
            "1/1 [==============================] - 0s 28ms/step - loss: 3.3616 - accuracy: 0.3500\n",
            "Epoch 17/200\n",
            "1/1 [==============================] - 0s 24ms/step - loss: 3.3034 - accuracy: 0.3500\n",
            "Epoch 18/200\n",
            "1/1 [==============================] - 0s 19ms/step - loss: 3.2510 - accuracy: 0.3800\n",
            "Epoch 19/200\n",
            "1/1 [==============================] - 0s 21ms/step - loss: 3.2092 - accuracy: 0.3500\n",
            "Epoch 20/200\n",
            "1/1 [==============================] - 0s 20ms/step - loss: 3.1825 - accuracy: 0.3800\n",
            "Epoch 21/200\n",
            "1/1 [==============================] - 0s 19ms/step - loss: 3.1592 - accuracy: 0.3500\n",
            "Epoch 22/200\n",
            "1/1 [==============================] - 0s 17ms/step - loss: 3.1505 - accuracy: 0.3800\n",
            "Epoch 23/200\n",
            "1/1 [==============================] - 0s 22ms/step - loss: 3.1418 - accuracy: 0.3500\n",
            "Epoch 24/200\n",
            "1/1 [==============================] - 0s 19ms/step - loss: 3.1403 - accuracy: 0.3700\n",
            "Epoch 25/200\n",
            "1/1 [==============================] - 0s 19ms/step - loss: 3.1042 - accuracy: 0.3600\n",
            "Epoch 26/200\n",
            "1/1 [==============================] - 0s 22ms/step - loss: 3.0780 - accuracy: 0.3800\n",
            "Epoch 27/200\n",
            "1/1 [==============================] - 0s 25ms/step - loss: 3.0409 - accuracy: 0.3600\n",
            "Epoch 28/200\n",
            "1/1 [==============================] - 0s 22ms/step - loss: 3.0228 - accuracy: 0.3800\n",
            "Epoch 29/200\n",
            "1/1 [==============================] - 0s 21ms/step - loss: 3.0008 - accuracy: 0.3600\n",
            "Epoch 30/200\n",
            "1/1 [==============================] - 0s 17ms/step - loss: 2.9903 - accuracy: 0.3800\n",
            "Epoch 31/200\n",
            "1/1 [==============================] - 0s 18ms/step - loss: 2.9732 - accuracy: 0.3600\n",
            "Epoch 32/200\n",
            "1/1 [==============================] - 0s 19ms/step - loss: 2.9649 - accuracy: 0.3800\n",
            "Epoch 33/200\n",
            "1/1 [==============================] - 0s 21ms/step - loss: 2.9431 - accuracy: 0.3600\n",
            "Epoch 34/200\n",
            "1/1 [==============================] - 0s 17ms/step - loss: 2.9303 - accuracy: 0.3800\n",
            "Epoch 35/200\n",
            "1/1 [==============================] - 0s 20ms/step - loss: 2.9066 - accuracy: 0.3600\n",
            "Epoch 36/200\n",
            "1/1 [==============================] - 0s 19ms/step - loss: 2.8928 - accuracy: 0.3800\n",
            "Epoch 37/200\n",
            "1/1 [==============================] - 0s 17ms/step - loss: 2.8729 - accuracy: 0.3600\n",
            "Epoch 38/200\n",
            "1/1 [==============================] - 0s 22ms/step - loss: 2.8606 - accuracy: 0.3800\n",
            "Epoch 39/200\n",
            "1/1 [==============================] - 0s 20ms/step - loss: 2.8437 - accuracy: 0.3600\n",
            "Epoch 40/200\n",
            "1/1 [==============================] - 0s 19ms/step - loss: 2.8326 - accuracy: 0.3800\n",
            "Epoch 41/200\n",
            "1/1 [==============================] - 0s 20ms/step - loss: 2.8167 - accuracy: 0.3600\n",
            "Epoch 42/200\n",
            "1/1 [==============================] - 0s 19ms/step - loss: 2.8053 - accuracy: 0.3800\n",
            "Epoch 43/200\n",
            "1/1 [==============================] - 0s 25ms/step - loss: 2.7895 - accuracy: 0.3600\n",
            "Epoch 44/200\n",
            "1/1 [==============================] - 0s 16ms/step - loss: 2.7774 - accuracy: 0.3800\n",
            "Epoch 45/200\n",
            "1/1 [==============================] - 0s 18ms/step - loss: 2.7622 - accuracy: 0.3600\n",
            "Epoch 46/200\n",
            "1/1 [==============================] - 0s 30ms/step - loss: 2.7499 - accuracy: 0.3900\n",
            "Epoch 47/200\n",
            "1/1 [==============================] - 0s 19ms/step - loss: 2.7359 - accuracy: 0.3500\n",
            "Epoch 48/200\n",
            "1/1 [==============================] - 0s 24ms/step - loss: 2.7239 - accuracy: 0.3900\n",
            "Epoch 49/200\n",
            "1/1 [==============================] - 0s 19ms/step - loss: 2.7109 - accuracy: 0.3600\n",
            "Epoch 50/200\n",
            "1/1 [==============================] - 0s 27ms/step - loss: 2.6993 - accuracy: 0.3900\n",
            "Epoch 51/200\n",
            "1/1 [==============================] - 0s 36ms/step - loss: 2.6871 - accuracy: 0.3600\n",
            "Epoch 52/200\n",
            "1/1 [==============================] - 0s 22ms/step - loss: 2.6753 - accuracy: 0.3900\n",
            "Epoch 53/200\n",
            "1/1 [==============================] - 0s 19ms/step - loss: 2.6637 - accuracy: 0.3600\n",
            "Epoch 54/200\n",
            "1/1 [==============================] - 0s 19ms/step - loss: 2.6518 - accuracy: 0.3900\n",
            "Epoch 55/200\n",
            "1/1 [==============================] - 0s 20ms/step - loss: 2.6406 - accuracy: 0.3600\n",
            "Epoch 56/200\n",
            "1/1 [==============================] - 0s 18ms/step - loss: 2.6285 - accuracy: 0.3900\n",
            "Epoch 57/200\n",
            "1/1 [==============================] - 0s 20ms/step - loss: 2.6179 - accuracy: 0.3600\n",
            "Epoch 58/200\n",
            "1/1 [==============================] - 0s 19ms/step - loss: 2.6058 - accuracy: 0.3900\n",
            "Epoch 59/200\n",
            "1/1 [==============================] - 0s 18ms/step - loss: 2.5959 - accuracy: 0.3600\n",
            "Epoch 60/200\n",
            "1/1 [==============================] - 0s 21ms/step - loss: 2.5837 - accuracy: 0.3900\n",
            "Epoch 61/200\n",
            "1/1 [==============================] - 0s 18ms/step - loss: 2.5745 - accuracy: 0.3600\n",
            "Epoch 62/200\n",
            "1/1 [==============================] - 0s 25ms/step - loss: 2.5620 - accuracy: 0.3900\n",
            "Epoch 63/200\n",
            "1/1 [==============================] - 0s 22ms/step - loss: 2.5534 - accuracy: 0.3600\n",
            "Epoch 64/200\n",
            "1/1 [==============================] - 0s 21ms/step - loss: 2.5405 - accuracy: 0.4000\n",
            "Epoch 65/200\n",
            "1/1 [==============================] - 0s 19ms/step - loss: 2.5326 - accuracy: 0.3600\n",
            "Epoch 66/200\n",
            "1/1 [==============================] - 0s 24ms/step - loss: 2.5193 - accuracy: 0.4000\n",
            "Epoch 67/200\n",
            "1/1 [==============================] - 0s 23ms/step - loss: 2.5122 - accuracy: 0.3600\n",
            "Epoch 68/200\n",
            "1/1 [==============================] - 0s 18ms/step - loss: 2.4984 - accuracy: 0.4000\n",
            "Epoch 69/200\n",
            "1/1 [==============================] - 0s 20ms/step - loss: 2.4926 - accuracy: 0.3600\n",
            "Epoch 70/200\n",
            "1/1 [==============================] - 0s 19ms/step - loss: 2.4771 - accuracy: 0.4100\n",
            "Epoch 71/200\n",
            "1/1 [==============================] - 0s 22ms/step - loss: 2.4720 - accuracy: 0.3800\n",
            "Epoch 72/200\n",
            "1/1 [==============================] - 0s 20ms/step - loss: 2.4568 - accuracy: 0.4100\n",
            "Epoch 73/200\n",
            "1/1 [==============================] - 0s 27ms/step - loss: 2.4519 - accuracy: 0.3800\n",
            "Epoch 74/200\n",
            "1/1 [==============================] - 0s 20ms/step - loss: 2.4413 - accuracy: 0.4200\n",
            "Epoch 75/200\n",
            "1/1 [==============================] - 0s 27ms/step - loss: 2.4368 - accuracy: 0.3800\n",
            "Epoch 76/200\n",
            "1/1 [==============================] - 0s 27ms/step - loss: 2.4294 - accuracy: 0.4000\n",
            "Epoch 77/200\n",
            "1/1 [==============================] - 0s 28ms/step - loss: 2.4303 - accuracy: 0.4000\n",
            "Epoch 78/200\n",
            "1/1 [==============================] - 0s 27ms/step - loss: 2.3892 - accuracy: 0.3900\n",
            "Epoch 79/200\n",
            "1/1 [==============================] - 0s 33ms/step - loss: 2.3664 - accuracy: 0.4100\n",
            "Epoch 80/200\n",
            "1/1 [==============================] - 0s 30ms/step - loss: 2.3566 - accuracy: 0.4100\n",
            "Epoch 81/200\n",
            "1/1 [==============================] - 0s 29ms/step - loss: 2.3503 - accuracy: 0.4200\n",
            "Epoch 82/200\n",
            "1/1 [==============================] - 0s 20ms/step - loss: 2.3687 - accuracy: 0.3700\n",
            "Epoch 83/200\n",
            "1/1 [==============================] - 0s 32ms/step - loss: 2.3484 - accuracy: 0.4100\n",
            "Epoch 84/200\n",
            "1/1 [==============================] - 0s 27ms/step - loss: 2.3838 - accuracy: 0.3900\n",
            "Epoch 85/200\n",
            "1/1 [==============================] - 0s 31ms/step - loss: 2.4135 - accuracy: 0.4400\n",
            "Epoch 86/200\n",
            "1/1 [==============================] - 0s 24ms/step - loss: 2.4182 - accuracy: 0.3800\n",
            "Epoch 87/200\n",
            "1/1 [==============================] - 0s 18ms/step - loss: 2.3531 - accuracy: 0.4200\n",
            "Epoch 88/200\n",
            "1/1 [==============================] - 0s 22ms/step - loss: 2.3189 - accuracy: 0.4000\n",
            "Epoch 89/200\n",
            "1/1 [==============================] - 0s 19ms/step - loss: 2.2828 - accuracy: 0.4500\n",
            "Epoch 90/200\n",
            "1/1 [==============================] - 0s 21ms/step - loss: 2.2707 - accuracy: 0.4300\n",
            "Epoch 91/200\n",
            "1/1 [==============================] - 0s 19ms/step - loss: 2.2613 - accuracy: 0.4400\n",
            "Epoch 92/200\n",
            "1/1 [==============================] - 0s 17ms/step - loss: 2.2567 - accuracy: 0.4200\n",
            "Epoch 93/200\n",
            "1/1 [==============================] - 0s 22ms/step - loss: 2.2556 - accuracy: 0.4600\n",
            "Epoch 94/200\n",
            "1/1 [==============================] - 0s 19ms/step - loss: 2.2683 - accuracy: 0.3900\n",
            "Epoch 95/200\n",
            "1/1 [==============================] - 0s 23ms/step - loss: 2.2645 - accuracy: 0.4700\n",
            "Epoch 96/200\n",
            "1/1 [==============================] - 0s 18ms/step - loss: 2.2774 - accuracy: 0.4000\n",
            "Epoch 97/200\n",
            "1/1 [==============================] - 0s 19ms/step - loss: 2.2554 - accuracy: 0.4500\n",
            "Epoch 98/200\n",
            "1/1 [==============================] - 0s 17ms/step - loss: 2.2468 - accuracy: 0.4200\n",
            "Epoch 99/200\n",
            "1/1 [==============================] - 0s 23ms/step - loss: 2.2250 - accuracy: 0.4300\n",
            "Epoch 100/200\n",
            "1/1 [==============================] - 0s 19ms/step - loss: 2.2100 - accuracy: 0.4200\n",
            "Epoch 101/200\n",
            "1/1 [==============================] - 0s 23ms/step - loss: 2.1913 - accuracy: 0.4600\n",
            "Epoch 102/200\n",
            "1/1 [==============================] - 0s 30ms/step - loss: 2.1821 - accuracy: 0.4100\n",
            "Epoch 103/200\n",
            "1/1 [==============================] - 0s 25ms/step - loss: 2.1731 - accuracy: 0.4600\n",
            "Epoch 104/200\n",
            "1/1 [==============================] - 0s 22ms/step - loss: 2.1703 - accuracy: 0.4100\n",
            "Epoch 105/200\n",
            "1/1 [==============================] - 0s 24ms/step - loss: 2.1643 - accuracy: 0.4800\n",
            "Epoch 106/200\n",
            "1/1 [==============================] - 0s 28ms/step - loss: 2.1656 - accuracy: 0.4000\n",
            "Epoch 107/200\n",
            "1/1 [==============================] - 0s 23ms/step - loss: 2.1527 - accuracy: 0.4800\n",
            "Epoch 108/200\n",
            "1/1 [==============================] - 0s 25ms/step - loss: 2.1470 - accuracy: 0.4000\n",
            "Epoch 109/200\n",
            "1/1 [==============================] - 0s 25ms/step - loss: 2.1370 - accuracy: 0.4400\n",
            "Epoch 110/200\n",
            "1/1 [==============================] - 0s 26ms/step - loss: 2.1386 - accuracy: 0.4300\n",
            "Epoch 111/200\n",
            "1/1 [==============================] - 0s 17ms/step - loss: 2.1182 - accuracy: 0.4600\n",
            "Epoch 112/200\n",
            "1/1 [==============================] - 0s 25ms/step - loss: 2.1050 - accuracy: 0.4600\n",
            "Epoch 113/200\n",
            "1/1 [==============================] - 0s 22ms/step - loss: 2.0902 - accuracy: 0.4600\n",
            "Epoch 114/200\n",
            "1/1 [==============================] - 0s 27ms/step - loss: 2.0877 - accuracy: 0.4400\n",
            "Epoch 115/200\n",
            "1/1 [==============================] - 0s 23ms/step - loss: 2.0829 - accuracy: 0.4800\n",
            "Epoch 116/200\n",
            "1/1 [==============================] - 0s 19ms/step - loss: 2.0864 - accuracy: 0.4100\n",
            "Epoch 117/200\n",
            "1/1 [==============================] - 0s 19ms/step - loss: 2.0686 - accuracy: 0.4800\n",
            "Epoch 118/200\n",
            "1/1 [==============================] - 0s 20ms/step - loss: 2.0613 - accuracy: 0.4500\n",
            "Epoch 119/200\n",
            "1/1 [==============================] - 0s 33ms/step - loss: 2.0507 - accuracy: 0.4400\n",
            "Epoch 120/200\n",
            "1/1 [==============================] - 0s 21ms/step - loss: 2.0536 - accuracy: 0.4700\n",
            "Epoch 121/200\n",
            "1/1 [==============================] - 0s 21ms/step - loss: 2.0396 - accuracy: 0.4600\n",
            "Epoch 122/200\n",
            "1/1 [==============================] - 0s 21ms/step - loss: 2.0257 - accuracy: 0.5100\n",
            "Epoch 123/200\n",
            "1/1 [==============================] - 0s 18ms/step - loss: 2.0125 - accuracy: 0.4800\n",
            "Epoch 124/200\n",
            "1/1 [==============================] - 0s 19ms/step - loss: 2.0094 - accuracy: 0.5000\n",
            "Epoch 125/200\n",
            "1/1 [==============================] - 0s 19ms/step - loss: 2.0018 - accuracy: 0.4800\n",
            "Epoch 126/200\n",
            "1/1 [==============================] - 0s 16ms/step - loss: 1.9982 - accuracy: 0.5000\n",
            "Epoch 127/200\n",
            "1/1 [==============================] - 0s 21ms/step - loss: 1.9888 - accuracy: 0.4700\n",
            "Epoch 128/200\n",
            "1/1 [==============================] - 0s 26ms/step - loss: 1.9824 - accuracy: 0.5200\n",
            "Epoch 129/200\n",
            "1/1 [==============================] - 0s 19ms/step - loss: 1.9740 - accuracy: 0.4500\n",
            "Epoch 130/200\n",
            "1/1 [==============================] - 0s 28ms/step - loss: 1.9680 - accuracy: 0.5200\n",
            "Epoch 131/200\n",
            "1/1 [==============================] - 0s 19ms/step - loss: 1.9555 - accuracy: 0.4600\n",
            "Epoch 132/200\n",
            "1/1 [==============================] - 0s 23ms/step - loss: 1.9450 - accuracy: 0.5200\n",
            "Epoch 133/200\n",
            "1/1 [==============================] - 0s 27ms/step - loss: 1.9298 - accuracy: 0.4900\n",
            "Epoch 134/200\n",
            "1/1 [==============================] - 0s 20ms/step - loss: 1.9229 - accuracy: 0.5200\n",
            "Epoch 135/200\n",
            "1/1 [==============================] - 0s 27ms/step - loss: 1.9217 - accuracy: 0.5300\n",
            "Epoch 136/200\n",
            "1/1 [==============================] - 0s 20ms/step - loss: 1.9388 - accuracy: 0.4600\n",
            "Epoch 137/200\n",
            "1/1 [==============================] - 0s 23ms/step - loss: 1.9118 - accuracy: 0.5200\n",
            "Epoch 138/200\n",
            "1/1 [==============================] - 0s 23ms/step - loss: 1.9039 - accuracy: 0.5300\n",
            "Epoch 139/200\n",
            "1/1 [==============================] - 0s 26ms/step - loss: 1.8944 - accuracy: 0.5100\n",
            "Epoch 140/200\n",
            "1/1 [==============================] - 0s 21ms/step - loss: 1.8869 - accuracy: 0.5500\n",
            "Epoch 141/200\n",
            "1/1 [==============================] - 0s 20ms/step - loss: 1.8781 - accuracy: 0.5000\n",
            "Epoch 142/200\n",
            "1/1 [==============================] - 0s 19ms/step - loss: 1.8705 - accuracy: 0.5700\n",
            "Epoch 143/200\n",
            "1/1 [==============================] - 0s 26ms/step - loss: 1.8555 - accuracy: 0.5500\n",
            "Epoch 144/200\n",
            "1/1 [==============================] - 0s 21ms/step - loss: 1.8402 - accuracy: 0.5600\n",
            "Epoch 145/200\n",
            "1/1 [==============================] - 0s 20ms/step - loss: 1.8366 - accuracy: 0.6200\n",
            "Epoch 146/200\n",
            "1/1 [==============================] - 0s 18ms/step - loss: 1.8529 - accuracy: 0.5500\n",
            "Epoch 147/200\n",
            "1/1 [==============================] - 0s 20ms/step - loss: 1.8363 - accuracy: 0.5400\n",
            "Epoch 148/200\n",
            "1/1 [==============================] - 0s 23ms/step - loss: 1.8312 - accuracy: 0.5500\n",
            "Epoch 149/200\n",
            "1/1 [==============================] - 0s 26ms/step - loss: 1.8236 - accuracy: 0.5800\n",
            "Epoch 150/200\n",
            "1/1 [==============================] - 0s 20ms/step - loss: 1.8138 - accuracy: 0.5700\n",
            "Epoch 151/200\n",
            "1/1 [==============================] - 0s 20ms/step - loss: 1.8013 - accuracy: 0.6100\n",
            "Epoch 152/200\n",
            "1/1 [==============================] - 0s 19ms/step - loss: 1.7905 - accuracy: 0.5900\n",
            "Epoch 153/200\n",
            "1/1 [==============================] - 0s 18ms/step - loss: 1.7766 - accuracy: 0.6700\n",
            "Epoch 154/200\n",
            "1/1 [==============================] - 0s 20ms/step - loss: 1.7670 - accuracy: 0.6100\n",
            "Epoch 155/200\n",
            "1/1 [==============================] - 0s 20ms/step - loss: 1.7574 - accuracy: 0.6700\n",
            "Epoch 156/200\n",
            "1/1 [==============================] - 0s 17ms/step - loss: 1.7505 - accuracy: 0.6300\n",
            "Epoch 157/200\n",
            "1/1 [==============================] - 0s 17ms/step - loss: 1.7442 - accuracy: 0.6800\n",
            "Epoch 158/200\n",
            "1/1 [==============================] - 0s 28ms/step - loss: 1.7397 - accuracy: 0.6200\n",
            "Epoch 159/200\n",
            "1/1 [==============================] - 0s 19ms/step - loss: 1.7343 - accuracy: 0.6800\n",
            "Epoch 160/200\n",
            "1/1 [==============================] - 0s 28ms/step - loss: 1.7308 - accuracy: 0.6200\n",
            "Epoch 161/200\n",
            "1/1 [==============================] - 0s 22ms/step - loss: 1.7183 - accuracy: 0.6800\n",
            "Epoch 162/200\n",
            "1/1 [==============================] - 0s 23ms/step - loss: 1.7103 - accuracy: 0.6500\n",
            "Epoch 163/200\n",
            "1/1 [==============================] - 0s 23ms/step - loss: 1.7033 - accuracy: 0.6800\n",
            "Epoch 164/200\n",
            "1/1 [==============================] - 0s 19ms/step - loss: 1.7411 - accuracy: 0.6400\n",
            "Epoch 165/200\n",
            "1/1 [==============================] - 0s 19ms/step - loss: 1.7188 - accuracy: 0.6000\n",
            "Epoch 166/200\n",
            "1/1 [==============================] - 0s 22ms/step - loss: 1.6749 - accuracy: 0.6700\n",
            "Epoch 167/200\n",
            "1/1 [==============================] - 0s 23ms/step - loss: 1.6571 - accuracy: 0.6700\n",
            "Epoch 168/200\n",
            "1/1 [==============================] - 0s 19ms/step - loss: 1.6455 - accuracy: 0.7000\n",
            "Epoch 169/200\n",
            "1/1 [==============================] - 0s 17ms/step - loss: 1.6366 - accuracy: 0.6700\n",
            "Epoch 170/200\n",
            "1/1 [==============================] - 0s 19ms/step - loss: 1.6318 - accuracy: 0.7100\n",
            "Epoch 171/200\n",
            "1/1 [==============================] - 0s 19ms/step - loss: 1.6341 - accuracy: 0.7100\n",
            "Epoch 172/200\n",
            "1/1 [==============================] - 0s 27ms/step - loss: 1.6455 - accuracy: 0.7200\n",
            "Epoch 173/200\n",
            "1/1 [==============================] - 0s 18ms/step - loss: 1.6618 - accuracy: 0.6600\n",
            "Epoch 174/200\n",
            "1/1 [==============================] - 0s 22ms/step - loss: 1.6572 - accuracy: 0.6600\n",
            "Epoch 175/200\n",
            "1/1 [==============================] - 0s 24ms/step - loss: 1.6356 - accuracy: 0.6900\n",
            "Epoch 176/200\n",
            "1/1 [==============================] - 0s 24ms/step - loss: 1.6046 - accuracy: 0.7400\n",
            "Epoch 177/200\n",
            "1/1 [==============================] - 0s 21ms/step - loss: 1.5834 - accuracy: 0.7400\n",
            "Epoch 178/200\n",
            "1/1 [==============================] - 0s 19ms/step - loss: 1.5665 - accuracy: 0.7800\n",
            "Epoch 179/200\n",
            "1/1 [==============================] - 0s 20ms/step - loss: 1.5547 - accuracy: 0.7500\n",
            "Epoch 180/200\n",
            "1/1 [==============================] - 0s 19ms/step - loss: 1.5450 - accuracy: 0.7800\n",
            "Epoch 181/200\n",
            "1/1 [==============================] - 0s 20ms/step - loss: 1.5371 - accuracy: 0.7600\n",
            "Epoch 182/200\n",
            "1/1 [==============================] - 0s 27ms/step - loss: 1.5334 - accuracy: 0.7700\n",
            "Epoch 183/200\n",
            "1/1 [==============================] - 0s 28ms/step - loss: 1.5256 - accuracy: 0.7600\n",
            "Epoch 184/200\n",
            "1/1 [==============================] - 0s 20ms/step - loss: 1.5267 - accuracy: 0.7600\n",
            "Epoch 185/200\n",
            "1/1 [==============================] - 0s 19ms/step - loss: 1.5185 - accuracy: 0.7600\n",
            "Epoch 186/200\n",
            "1/1 [==============================] - 0s 26ms/step - loss: 1.5180 - accuracy: 0.7800\n",
            "Epoch 187/200\n",
            "1/1 [==============================] - 0s 30ms/step - loss: 1.5199 - accuracy: 0.7400\n",
            "Epoch 188/200\n",
            "1/1 [==============================] - 0s 27ms/step - loss: 1.5125 - accuracy: 0.7900\n",
            "Epoch 189/200\n",
            "1/1 [==============================] - 0s 21ms/step - loss: 1.5029 - accuracy: 0.7600\n",
            "Epoch 190/200\n",
            "1/1 [==============================] - 0s 32ms/step - loss: 1.4897 - accuracy: 0.7600\n",
            "Epoch 191/200\n",
            "1/1 [==============================] - 0s 28ms/step - loss: 1.4623 - accuracy: 0.7600\n",
            "Epoch 192/200\n",
            "1/1 [==============================] - 0s 28ms/step - loss: 1.4460 - accuracy: 0.7900\n",
            "Epoch 193/200\n",
            "1/1 [==============================] - 0s 23ms/step - loss: 1.4333 - accuracy: 0.7700\n",
            "Epoch 194/200\n",
            "1/1 [==============================] - 0s 20ms/step - loss: 1.4230 - accuracy: 0.7900\n",
            "Epoch 195/200\n",
            "1/1 [==============================] - 0s 28ms/step - loss: 1.4160 - accuracy: 0.8000\n",
            "Epoch 196/200\n",
            "1/1 [==============================] - 0s 24ms/step - loss: 1.4266 - accuracy: 0.7400\n",
            "Epoch 197/200\n",
            "1/1 [==============================] - 0s 24ms/step - loss: 1.3902 - accuracy: 0.8000\n",
            "Epoch 198/200\n",
            "1/1 [==============================] - 0s 20ms/step - loss: 1.3785 - accuracy: 0.8100\n",
            "Epoch 199/200\n",
            "1/1 [==============================] - 0s 22ms/step - loss: 1.3720 - accuracy: 0.8000\n",
            "Epoch 200/200\n",
            "1/1 [==============================] - 0s 22ms/step - loss: 1.3754 - accuracy: 0.8200\n"
          ],
          "name": "stdout"
        },
        {
          "output_type": "execute_result",
          "data": {
            "text/plain": [
              "<tensorflow.python.keras.callbacks.History at 0x7f4dbae52510>"
            ]
          },
          "metadata": {
            "tags": []
          },
          "execution_count": 14
        }
      ]
    },
    {
      "cell_type": "code",
      "metadata": {
        "id": "6xQx1OUe9-bs"
      },
      "source": [
        "def prob_of_input_sentence(model, tokenizer, sentence):\n",
        "    print (\"Input Sentence:\", sentence)\n",
        "    encoded=tokenizer.texts_to_sequences([sentence])[0]\n",
        "    encoded.insert(0, 0)\n",
        "    encoded=np.array(encoded)\n",
        "    encoded=np.reshape(encoded, newshape=(1, -1))\n",
        "    prob = model.predict(encoded, verbose=0)\n",
        "    probability=1\n",
        "    for i in range (prob. shape[1]-1):\n",
        "        probability = probability * prob[0, i, encoded[0, i+1]]\n",
        "    print(\"Probability: \", probability)"
      ],
      "execution_count": 15,
      "outputs": []
    },
    {
      "cell_type": "code",
      "metadata": {
        "colab": {
          "base_uri": "https://localhost:8080/"
        },
        "id": "prxieX0pET2Z",
        "outputId": "95dc403d-dd61-4092-8f30-2bd7585c20b2"
      },
      "source": [
        "prob_of_input_sentence(model, tokenizer, \"It is well known that\")"
      ],
      "execution_count": 16,
      "outputs": [
        {
          "output_type": "stream",
          "text": [
            "Input Sentence: It is well known that\n",
            "Probability:  7.032265161665041e-09\n"
          ],
          "name": "stdout"
        }
      ]
    },
    {
      "cell_type": "code",
      "metadata": {
        "colab": {
          "base_uri": "https://localhost:8080/"
        },
        "id": "g6RARvylEaPD",
        "outputId": "97d5ef7a-67f9-494c-a100-fe24c57bf935"
      },
      "source": [
        "prob_of_input_sentence(model, tokenizer, \"medical diagnosis takes more time than deciding\")"
      ],
      "execution_count": 17,
      "outputs": [
        {
          "output_type": "stream",
          "text": [
            "Input Sentence: medical diagnosis takes more time than deciding\n",
            "Probability:  7.808005211037956e-23\n"
          ],
          "name": "stdout"
        }
      ]
    },
    {
      "cell_type": "code",
      "metadata": {
        "colab": {
          "base_uri": "https://localhost:8080/"
        },
        "id": "HbgIGFkFEtWx",
        "outputId": "a0e7791f-2700-47e0-f85d-84a26db87ead"
      },
      "source": [
        "prob_of_input_sentence(model, tokenizer, \"It is well known that medical diagnosis takes more time than deciding treatment for the condition\")"
      ],
      "execution_count": 18,
      "outputs": [
        {
          "output_type": "stream",
          "text": [
            "Input Sentence: It is well known that medical diagnosis takes more time than deciding treatment for the condition\n",
            "Probability:  6.447985054390805e-33\n"
          ],
          "name": "stdout"
        }
      ]
    },
    {
      "cell_type": "code",
      "metadata": {
        "colab": {
          "base_uri": "https://localhost:8080/"
        },
        "id": "2KI5gl2yE106",
        "outputId": "e01ba616-795c-4f2f-845a-a20f4790d1fd"
      },
      "source": [
        "prob_of_input_sentence(model, tokenizer, \"It might require plenty of time\")"
      ],
      "execution_count": 19,
      "outputs": [
        {
          "output_type": "stream",
          "text": [
            "Input Sentence: It might require plenty of time\n",
            "Probability:  4.248226324160745e-11\n"
          ],
          "name": "stdout"
        }
      ]
    },
    {
      "cell_type": "markdown",
      "metadata": {
        "id": "wCSRUyyg-cEl"
      },
      "source": [
        "#### Predicting Next Chars"
      ]
    },
    {
      "cell_type": "code",
      "metadata": {
        "id": "8t2cARv7iU9r"
      },
      "source": [
        "shakespeare_url = \"https://raw.githubusercontent.com/karpathy/char-rnn/master/data/tinyshakespeare/input.txt\"\n",
        "filepath = keras.utils.get_file(\"shakespeare.txt\", shakespeare_url)\n",
        "with open(filepath) as f:\n",
        "    shakespeare_text = f.read()"
      ],
      "execution_count": 20,
      "outputs": []
    },
    {
      "cell_type": "code",
      "metadata": {
        "id": "ElmNVAvFp1vU"
      },
      "source": [
        "tokenizer = keras.preprocessing.text.Tokenizer(char_level=True)\n",
        "tokenizer.fit_on_texts(shakespeare_text)"
      ],
      "execution_count": 21,
      "outputs": []
    },
    {
      "cell_type": "code",
      "metadata": {
        "id": "xkte17tuqI0n",
        "colab": {
          "base_uri": "https://localhost:8080/"
        },
        "outputId": "c14814f1-cba5-43e5-a76d-6d9468071f8a"
      },
      "source": [
        "tokenizer.texts_to_sequences(['First'])"
      ],
      "execution_count": 22,
      "outputs": [
        {
          "output_type": "execute_result",
          "data": {
            "text/plain": [
              "[[20, 6, 9, 8, 3]]"
            ]
          },
          "metadata": {
            "tags": []
          },
          "execution_count": 22
        }
      ]
    },
    {
      "cell_type": "code",
      "metadata": {
        "id": "LpjigMYlq-RX",
        "colab": {
          "base_uri": "https://localhost:8080/"
        },
        "outputId": "c10bb2c5-5b37-4394-dff7-ff899d65b5df"
      },
      "source": [
        "tokenizer.sequences_to_texts([[20,6,9,8,3]])"
      ],
      "execution_count": 23,
      "outputs": [
        {
          "output_type": "execute_result",
          "data": {
            "text/plain": [
              "['f i r s t']"
            ]
          },
          "metadata": {
            "tags": []
          },
          "execution_count": 23
        }
      ]
    },
    {
      "cell_type": "code",
      "metadata": {
        "id": "bVxVSQ-CrCGu"
      },
      "source": [
        "max_id = len(tokenizer.word_index)"
      ],
      "execution_count": 24,
      "outputs": []
    },
    {
      "cell_type": "code",
      "metadata": {
        "id": "TeagwkiXrHSj",
        "colab": {
          "base_uri": "https://localhost:8080/"
        },
        "outputId": "60cde68d-26cb-43a9-a1a8-1d387f308fac"
      },
      "source": [
        "max_id"
      ],
      "execution_count": 25,
      "outputs": [
        {
          "output_type": "execute_result",
          "data": {
            "text/plain": [
              "39"
            ]
          },
          "metadata": {
            "tags": []
          },
          "execution_count": 25
        }
      ]
    },
    {
      "cell_type": "code",
      "metadata": {
        "id": "8ryozElBrIIs"
      },
      "source": [
        "dataset_size = tokenizer.document_count"
      ],
      "execution_count": 26,
      "outputs": []
    },
    {
      "cell_type": "code",
      "metadata": {
        "id": "5_bpeXf2rKDt",
        "colab": {
          "base_uri": "https://localhost:8080/"
        },
        "outputId": "921ff3ca-c794-49af-f808-33fad1cea8ff"
      },
      "source": [
        "dataset_size"
      ],
      "execution_count": 27,
      "outputs": [
        {
          "output_type": "execute_result",
          "data": {
            "text/plain": [
              "1115394"
            ]
          },
          "metadata": {
            "tags": []
          },
          "execution_count": 27
        }
      ]
    },
    {
      "cell_type": "code",
      "metadata": {
        "id": "NOQdmB-erK1R"
      },
      "source": [
        "[encoded] = np.array(tokenizer.texts_to_sequences([shakespeare_text])) - 1"
      ],
      "execution_count": 28,
      "outputs": []
    },
    {
      "cell_type": "markdown",
      "metadata": {
        "id": "D5gyOOsurZ2b"
      },
      "source": [
        "### How to Split a Sequential Dataset"
      ]
    },
    {
      "cell_type": "markdown",
      "metadata": {
        "id": "R11NyOFSsQRs"
      },
      "source": [
        "Let’s take the first 90% of the text for the training set (keeping the rest for the validation set and the test set), and create a tf.data.Dataset that will return each character one by one from this set:"
      ]
    },
    {
      "cell_type": "code",
      "metadata": {
        "id": "9VrkViw_rVjZ"
      },
      "source": [
        "train_size = dataset_size * 90 // 100\n",
        "dataset = tf.data.Dataset.from_tensor_slices(encoded[:train_size])"
      ],
      "execution_count": 29,
      "outputs": []
    },
    {
      "cell_type": "markdown",
      "metadata": {
        "id": "iOGAHX5_sxu-"
      },
      "source": [
        "### Chopping the Sequential Dataset into Multiple Windows"
      ]
    },
    {
      "cell_type": "markdown",
      "metadata": {
        "id": "PcR3LfbWs3O_"
      },
      "source": [
        "The training set now consists of a single sequence of over a million characters, so we can’t just train the neural network directly on it: the RNN would be equivalent to a deep net with over a million layers, and we would have a single (very long) instance to train it. Instead, we will use the dataset’s window() method to convert this long sequence of characters into many smaller windows of text. Every instance in the dataset will be a fairly short substring of the whole text, and the RNN will be unrolled only over the length of these substrings. This is called truncated backpropagation through time. "
      ]
    },
    {
      "cell_type": "code",
      "metadata": {
        "id": "Wszb3DllsxhE"
      },
      "source": [
        "n_steps = 100\n",
        "window_length = n_steps + 1"
      ],
      "execution_count": 30,
      "outputs": []
    },
    {
      "cell_type": "code",
      "metadata": {
        "id": "pBI9ZLJOsVlQ"
      },
      "source": [
        "dataset = dataset.window(window_length, shift=1, drop_remainder=True)"
      ],
      "execution_count": 31,
      "outputs": []
    },
    {
      "cell_type": "markdown",
      "metadata": {
        "id": "Kc6ppRPCtlqX"
      },
      "source": [
        "The window() method creates a dataset that contains windows, each of which is also represented as a dataset. It’s a nested dataset, analogous to a list of lists. This is useful when you want to transform each window by calling its dataset methods (e.g., to shuffle them or batch them). However, we cannot use a nested dataset directly for training, as our model will expect tensors as input, not datasets. So, we must call the flat_map() method: it converts a nested dataset into a flat dataset (one that does not contain datasets)."
      ]
    },
    {
      "cell_type": "code",
      "metadata": {
        "id": "LTBpzOzgtLzI"
      },
      "source": [
        "dataset = dataset.flat_map(lambda window: window.batch(window_length))"
      ],
      "execution_count": 32,
      "outputs": []
    },
    {
      "cell_type": "markdown",
      "metadata": {
        "id": "MJqX1OKiu1oL"
      },
      "source": [
        "We need to shuffle these windows. Then we can batch the windows and separate the inputs (the first 100 characters) from the target (the last character):"
      ]
    },
    {
      "cell_type": "code",
      "metadata": {
        "id": "ojTp65F4tyFE"
      },
      "source": [
        "batch_size = 32\n",
        "dataset = dataset.shuffle(10000).batch(batch_size)\n",
        "dataset = dataset.map(lambda windows: (windows[:, :-1], windows[:, 1:]))"
      ],
      "execution_count": 33,
      "outputs": []
    },
    {
      "cell_type": "markdown",
      "metadata": {
        "id": "3DFyRcMOwGgm"
      },
      "source": [
        "Categorical input features should generally be encoded, usually as one-hot vectors or as embeddings. Here, we will encode each character using a one-hot vector because there are fairly few distinct characters (only 39):"
      ]
    },
    {
      "cell_type": "code",
      "metadata": {
        "id": "gxdbhgS6u2yE"
      },
      "source": [
        "dataset = dataset.map(\n",
        "    lambda X_batch, Y_batch: (tf.one_hot(X_batch, depth=max_id), Y_batch))"
      ],
      "execution_count": 34,
      "outputs": []
    },
    {
      "cell_type": "code",
      "metadata": {
        "id": "w5a8pbojwKHc"
      },
      "source": [
        "dataset = dataset.prefetch(1)"
      ],
      "execution_count": 35,
      "outputs": []
    },
    {
      "cell_type": "markdown",
      "metadata": {
        "id": "FnusNQaPwPfr"
      },
      "source": [
        "### Building and Training the Char-RNN Model"
      ]
    },
    {
      "cell_type": "code",
      "metadata": {
        "id": "zDHNvVE6zFaO"
      },
      "source": [
        "import os\n",
        "\n",
        "checkpoint_dir = './training_checkpoints'\n",
        "checkpoint_prefix = os.path.join(checkpoint_dir, \"ckpt_{epoch}\")\n",
        "\n",
        "checkpoint_callback=tf.keras.callbacks.ModelCheckpoint(\n",
        "    filepath=checkpoint_prefix,\n",
        "    save_weights_only=True)"
      ],
      "execution_count": 36,
      "outputs": []
    },
    {
      "cell_type": "code",
      "metadata": {
        "id": "1brVMPhFB9rM"
      },
      "source": [
        "class NvidiaUtilizationCallback(keras.callbacks.Callback):\n",
        "    def on_epoch_begin(self, epoch, logs):\n",
        "        text = !nvidia-smi\n",
        "        text = text[9][60:65] + ' GPU utilization'\n",
        "        print(text)"
      ],
      "execution_count": 37,
      "outputs": []
    },
    {
      "cell_type": "code",
      "metadata": {
        "id": "fwIgGDCswNrs",
        "colab": {
          "base_uri": "https://localhost:8080/"
        },
        "outputId": "9707794a-2a07-49ea-d6be-bd745d9c2783"
      },
      "source": [
        "model = keras.models.Sequential([\n",
        "    keras.layers.GRU(128, return_sequences=True, input_shape=[None, max_id]),\n",
        "    keras.layers.TimeDistributed(keras.layers.Dense(max_id, activation='softmax'))    \n",
        "])\n",
        "\n",
        "model.compile(loss = 'sparse_categorical_crossentropy', optimizer = 'adam')\n",
        "steps_per_epoch = train_size // batch_size // n_steps\n",
        "\n",
        "history = model.fit(dataset, epochs = 40, steps_per_epoch=steps_per_epoch, callbacks=[checkpoint_callback, NvidiaUtilizationCallback()])"
      ],
      "execution_count": 38,
      "outputs": [
        {
          "output_type": "stream",
          "text": [
            "Epoch 1/40\n",
            "  0%  GPU utilization\n",
            "313/313 [==============================] - 7s 8ms/step - loss: 2.9229\n",
            "Epoch 2/40\n",
            " 41%  GPU utilization\n",
            "313/313 [==============================] - 3s 8ms/step - loss: 2.1152\n",
            "Epoch 3/40\n",
            " 41%  GPU utilization\n",
            "313/313 [==============================] - 3s 8ms/step - loss: 1.8883\n",
            "Epoch 4/40\n",
            " 37%  GPU utilization\n",
            "313/313 [==============================] - 3s 8ms/step - loss: 1.7260\n",
            "Epoch 5/40\n",
            " 34%  GPU utilization\n",
            "313/313 [==============================] - 3s 8ms/step - loss: 1.5592\n",
            "Epoch 6/40\n",
            " 32%  GPU utilization\n",
            "313/313 [==============================] - 3s 8ms/step - loss: 1.3938\n",
            "Epoch 7/40\n",
            " 25%  GPU utilization\n",
            "313/313 [==============================] - 3s 8ms/step - loss: 1.3162\n",
            "Epoch 8/40\n",
            " 39%  GPU utilization\n",
            "313/313 [==============================] - 3s 8ms/step - loss: 1.2756\n",
            "Epoch 9/40\n",
            " 39%  GPU utilization\n",
            "313/313 [==============================] - 3s 8ms/step - loss: 1.2787\n",
            "Epoch 10/40\n",
            " 39%  GPU utilization\n",
            "313/313 [==============================] - 3s 8ms/step - loss: 1.2548\n",
            "Epoch 11/40\n",
            " 40%  GPU utilization\n",
            "313/313 [==============================] - 3s 8ms/step - loss: 1.2549\n",
            "Epoch 12/40\n",
            " 28%  GPU utilization\n",
            "313/313 [==============================] - 3s 7ms/step - loss: 1.2407\n",
            "Epoch 13/40\n",
            " 40%  GPU utilization\n",
            "313/313 [==============================] - 3s 8ms/step - loss: 1.2529\n",
            "Epoch 14/40\n",
            " 40%  GPU utilization\n",
            "313/313 [==============================] - 3s 8ms/step - loss: 1.3124\n",
            "Epoch 15/40\n",
            " 34%  GPU utilization\n",
            "313/313 [==============================] - 3s 8ms/step - loss: 1.2972\n",
            "Epoch 16/40\n",
            " 30%  GPU utilization\n",
            "313/313 [==============================] - 3s 8ms/step - loss: 1.3615\n",
            "Epoch 17/40\n",
            " 33%  GPU utilization\n",
            "313/313 [==============================] - 3s 8ms/step - loss: 1.3152\n",
            "Epoch 18/40\n",
            " 39%  GPU utilization\n",
            "313/313 [==============================] - 3s 8ms/step - loss: 1.2938\n",
            "Epoch 19/40\n",
            " 40%  GPU utilization\n",
            "313/313 [==============================] - 3s 8ms/step - loss: 1.3050\n",
            "Epoch 20/40\n",
            " 37%  GPU utilization\n",
            "313/313 [==============================] - 3s 8ms/step - loss: 1.2519\n",
            "Epoch 21/40\n",
            " 39%  GPU utilization\n",
            "313/313 [==============================] - 3s 8ms/step - loss: 1.2651\n",
            "Epoch 22/40\n",
            " 40%  GPU utilization\n",
            "313/313 [==============================] - 3s 8ms/step - loss: 1.2466\n",
            "Epoch 23/40\n",
            " 39%  GPU utilization\n",
            "313/313 [==============================] - 3s 8ms/step - loss: 1.2084\n",
            "Epoch 24/40\n",
            " 39%  GPU utilization\n",
            "313/313 [==============================] - 3s 7ms/step - loss: 1.1880\n",
            "Epoch 25/40\n",
            " 21%  GPU utilization\n",
            "313/313 [==============================] - 3s 8ms/step - loss: 1.2497\n",
            "Epoch 26/40\n",
            " 41%  GPU utilization\n",
            "313/313 [==============================] - 3s 7ms/step - loss: 1.2437\n",
            "Epoch 27/40\n",
            " 32%  GPU utilization\n",
            "313/313 [==============================] - 3s 7ms/step - loss: 1.2465\n",
            "Epoch 28/40\n",
            " 40%  GPU utilization\n",
            "313/313 [==============================] - 3s 8ms/step - loss: 1.2221\n",
            "Epoch 29/40\n",
            " 40%  GPU utilization\n",
            "313/313 [==============================] - 3s 7ms/step - loss: 1.1644\n",
            "Epoch 30/40\n",
            " 33%  GPU utilization\n",
            "313/313 [==============================] - 3s 8ms/step - loss: 1.2189\n",
            "Epoch 31/40\n",
            " 21%  GPU utilization\n",
            "313/313 [==============================] - 3s 8ms/step - loss: 1.2361\n",
            "Epoch 32/40\n",
            " 22%  GPU utilization\n",
            "313/313 [==============================] - 3s 8ms/step - loss: 1.2661\n",
            "Epoch 33/40\n",
            " 39%  GPU utilization\n",
            "313/313 [==============================] - 3s 8ms/step - loss: 1.2636\n",
            "Epoch 34/40\n",
            " 32%  GPU utilization\n",
            "313/313 [==============================] - 3s 8ms/step - loss: 1.2675\n",
            "Epoch 35/40\n",
            " 25%  GPU utilization\n",
            "313/313 [==============================] - 3s 8ms/step - loss: 1.2867\n",
            "Epoch 36/40\n",
            " 41%  GPU utilization\n",
            "313/313 [==============================] - 3s 8ms/step - loss: 1.2862\n",
            "Epoch 37/40\n",
            " 40%  GPU utilization\n",
            "313/313 [==============================] - 3s 8ms/step - loss: 1.2295\n",
            "Epoch 38/40\n",
            " 35%  GPU utilization\n",
            "313/313 [==============================] - 3s 8ms/step - loss: 1.2586\n",
            "Epoch 39/40\n",
            " 26%  GPU utilization\n",
            "313/313 [==============================] - 3s 8ms/step - loss: 1.2444\n",
            "Epoch 40/40\n",
            " 23%  GPU utilization\n",
            "313/313 [==============================] - 3s 8ms/step - loss: 1.2478\n"
          ],
          "name": "stdout"
        }
      ]
    },
    {
      "cell_type": "markdown",
      "metadata": {
        "id": "50SESxWMr6fU"
      },
      "source": [
        "### Using the Model to Generate Text"
      ]
    },
    {
      "cell_type": "code",
      "metadata": {
        "id": "f31S40l_FAYM"
      },
      "source": [
        "def preprocess(texts):\n",
        "    X = np.array(tokenizer.texts_to_sequences(texts)) - 1\n",
        "    return tf.one_hot(X, max_id)"
      ],
      "execution_count": 39,
      "outputs": []
    },
    {
      "cell_type": "code",
      "metadata": {
        "id": "9RL2ADK0r_Pi"
      },
      "source": [
        "X_new = preprocess([\"How are yo\"])"
      ],
      "execution_count": 40,
      "outputs": []
    },
    {
      "cell_type": "code",
      "metadata": {
        "id": "JBIEqfpSsAuk"
      },
      "source": [
        "Y_pred = np.argmax(model.predict(X_new), axis=-1)"
      ],
      "execution_count": 41,
      "outputs": []
    },
    {
      "cell_type": "code",
      "metadata": {
        "id": "0FkLx6JSsCV7",
        "colab": {
          "base_uri": "https://localhost:8080/",
          "height": 35
        },
        "outputId": "fa5480bf-f1b1-4bd8-84dc-9c6304ca9011"
      },
      "source": [
        "tokenizer.sequences_to_texts(Y_pred + 1)[0][-1]"
      ],
      "execution_count": 42,
      "outputs": [
        {
          "output_type": "execute_result",
          "data": {
            "application/vnd.google.colaboratory.intrinsic+json": {
              "type": "string"
            },
            "text/plain": [
              "'u'"
            ]
          },
          "metadata": {
            "tags": []
          },
          "execution_count": 42
        }
      ]
    },
    {
      "cell_type": "markdown",
      "metadata": {
        "id": "SXfDGjVesYau"
      },
      "source": [
        "### Generating Fake Shakespearean Text"
      ]
    },
    {
      "cell_type": "code",
      "metadata": {
        "id": "I5d09rGqtnP3"
      },
      "source": [
        "def next_char(text, temperature=1):\n",
        "    X_new = preprocess([text])\n",
        "    y_proba = model.predict(X_new)[0, -1:, :]\n",
        "    rescaled_logits = tf.math.log(y_proba) / temperature\n",
        "    char_id = tf.random.categorical(rescaled_logits, num_samples=1) + 1\n",
        "    return tokenizer.sequences_to_texts(char_id.numpy())[0]"
      ],
      "execution_count": 43,
      "outputs": []
    },
    {
      "cell_type": "code",
      "metadata": {
        "id": "0FHDnAKQtnih"
      },
      "source": [
        "def complete_text(text, n_chars=50, temperature=1):\n",
        "    for _ in range(n_chars):\n",
        "        text += next_char(text, temperature)\n",
        "    return text"
      ],
      "execution_count": 44,
      "outputs": []
    },
    {
      "cell_type": "code",
      "metadata": {
        "id": "OSYXR11htu2p",
        "scrolled": true,
        "colab": {
          "base_uri": "https://localhost:8080/"
        },
        "outputId": "5c6d8a79-37ad-45ef-e53b-dc2e9044ede5"
      },
      "source": [
        "text_1 = complete_text(\"t\", temperature=0.2)"
      ],
      "execution_count": 45,
      "outputs": [
        {
          "output_type": "stream",
          "text": [
            "WARNING:tensorflow:5 out of the last 6 calls to <function Model.make_predict_function.<locals>.predict_function at 0x7f4d5627ddd0> triggered tf.function retracing. Tracing is expensive and the excessive number of tracings could be due to (1) creating @tf.function repeatedly in a loop, (2) passing tensors with different shapes, (3) passing Python objects instead of tensors. For (1), please define your @tf.function outside of the loop. For (2), @tf.function has experimental_relax_shapes=True option that relaxes argument shapes that can avoid unnecessary retracing. For (3), please refer to https://www.tensorflow.org/guide/function#controlling_retracing and https://www.tensorflow.org/api_docs/python/tf/function for  more details.\n",
            "WARNING:tensorflow:6 out of the last 7 calls to <function Model.make_predict_function.<locals>.predict_function at 0x7f4d5627ddd0> triggered tf.function retracing. Tracing is expensive and the excessive number of tracings could be due to (1) creating @tf.function repeatedly in a loop, (2) passing tensors with different shapes, (3) passing Python objects instead of tensors. For (1), please define your @tf.function outside of the loop. For (2), @tf.function has experimental_relax_shapes=True option that relaxes argument shapes that can avoid unnecessary retracing. For (3), please refer to https://www.tensorflow.org/guide/function#controlling_retracing and https://www.tensorflow.org/api_docs/python/tf/function for  more details.\n"
          ],
          "name": "stdout"
        }
      ]
    },
    {
      "cell_type": "code",
      "metadata": {
        "id": "Sk_HXTHytxfa",
        "colab": {
          "base_uri": "https://localhost:8080/"
        },
        "outputId": "0a7c2070-373b-4ecc-e11b-a428df9cf245"
      },
      "source": [
        "print(text_1)"
      ],
      "execution_count": 46,
      "outputs": [
        {
          "output_type": "stream",
          "text": [
            "theren the base court? sushich'd thou the king shal\n"
          ],
          "name": "stdout"
        }
      ]
    },
    {
      "cell_type": "code",
      "metadata": {
        "id": "7ev6Xtcpt67_"
      },
      "source": [
        "text_2 = complete_text(\"w\", temperature=1)"
      ],
      "execution_count": 47,
      "outputs": []
    },
    {
      "cell_type": "code",
      "metadata": {
        "id": "YvHwz4d1uGnL",
        "colab": {
          "base_uri": "https://localhost:8080/"
        },
        "outputId": "3b4c15aa-175a-4ebc-fab6-29f3e8f833e1"
      },
      "source": [
        "print(text_2)"
      ],
      "execution_count": 48,
      "outputs": [
        {
          "output_type": "stream",
          "text": [
            "wording to bid my lie.\n",
            "\n",
            "king richard ii:\n",
            "then let m\n"
          ],
          "name": "stdout"
        }
      ]
    },
    {
      "cell_type": "code",
      "metadata": {
        "id": "B_wC1AgauLWY"
      },
      "source": [
        "text_3 = complete_text(\"i\", temperature=2)"
      ],
      "execution_count": 49,
      "outputs": []
    },
    {
      "cell_type": "code",
      "metadata": {
        "id": "YfOisbHwuY2L",
        "colab": {
          "base_uri": "https://localhost:8080/"
        },
        "outputId": "17b72148-812f-4b35-b03e-fdc8787e997c"
      },
      "source": [
        "print(text_3)"
      ],
      "execution_count": 50,
      "outputs": [
        {
          "output_type": "stream",
          "text": [
            "i emisb\n",
            "abwell\n",
            "a liee-nil, busso the caw;\n",
            "sedt;\n",
            "pre\n"
          ],
          "name": "stdout"
        }
      ]
    },
    {
      "cell_type": "code",
      "metadata": {
        "id": "-3bDIrYAuanR",
        "scrolled": true
      },
      "source": [
        "text_4 = complete_text(\"I shall love\", temperature=0.5, n_chars=100)"
      ],
      "execution_count": 51,
      "outputs": []
    },
    {
      "cell_type": "code",
      "metadata": {
        "id": "FKj-sX03upqp",
        "colab": {
          "base_uri": "https://localhost:8080/"
        },
        "outputId": "c9eac94a-3d79-4c92-b8aa-1f1f907620ea"
      },
      "source": [
        "print(text_4)"
      ],
      "execution_count": 52,
      "outputs": [
        {
          "output_type": "stream",
          "text": [
            "I shall love, and his happling's rowards the propains, i speak thou hath well your heart destanders,\n",
            "that evers \n"
          ],
          "name": "stdout"
        }
      ]
    },
    {
      "cell_type": "code",
      "metadata": {
        "id": "frbFoaPsuy8R",
        "scrolled": true
      },
      "source": [
        "text_5 = complete_text(\"love\", temperature=1, n_chars = 150)"
      ],
      "execution_count": 53,
      "outputs": []
    },
    {
      "cell_type": "code",
      "metadata": {
        "id": "v3IqE8A2vKnu",
        "colab": {
          "base_uri": "https://localhost:8080/"
        },
        "outputId": "6e5f9de5-eb4c-4389-a5aa-e64f5f099201"
      },
      "source": [
        "print(text_5)"
      ],
      "execution_count": 54,
      "outputs": [
        {
          "output_type": "stream",
          "text": [
            "lovedom and from me.\n",
            "i wear, they he as throow his light is jusce have stiest hath\n",
            "he blood'st may knore in that now with my hards a gows he wort make hea\n"
          ],
          "name": "stdout"
        }
      ]
    }
  ]
}