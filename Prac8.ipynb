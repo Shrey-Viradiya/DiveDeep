{
  "nbformat": 4,
  "nbformat_minor": 0,
  "metadata": {
    "colab": {
      "name": "Prac8.ipynb",
      "provenance": [],
      "collapsed_sections": [],
      "authorship_tag": "ABX9TyP9L1KeKdJQMXq5ppihvm47",
      "include_colab_link": true
    },
    "kernelspec": {
      "name": "python3",
      "display_name": "Python 3"
    },
    "language_info": {
      "name": "python"
    },
    "accelerator": "GPU"
  },
  "cells": [
    {
      "cell_type": "markdown",
      "metadata": {
        "id": "view-in-github",
        "colab_type": "text"
      },
      "source": [
        "<a href=\"https://colab.research.google.com/github/Shrey-Viradiya/DiveDeep/blob/master/Prac8.ipynb\" target=\"_parent\"><img src=\"https://colab.research.google.com/assets/colab-badge.svg\" alt=\"Open In Colab\"/></a>"
      ]
    },
    {
      "cell_type": "markdown",
      "metadata": {
        "id": "SAGzkzmiYdk2"
      },
      "source": [
        "# Image Segmentation Using UNet Like architecture"
      ]
    },
    {
      "cell_type": "markdown",
      "metadata": {
        "id": "QyH1uRfAYlk4"
      },
      "source": [
        "### 18BCE259"
      ]
    },
    {
      "cell_type": "code",
      "metadata": {
        "id": "N5PWAkQyRvLt",
        "colab": {
          "base_uri": "https://localhost:8080/"
        },
        "outputId": "e83d2b5a-9a1e-4b4c-b001-48377b807620"
      },
      "source": [
        "!nvidia-smi"
      ],
      "execution_count": 1,
      "outputs": [
        {
          "output_type": "stream",
          "text": [
            "Sun Apr 18 10:57:45 2021       \n",
            "+-----------------------------------------------------------------------------+\n",
            "| NVIDIA-SMI 460.67       Driver Version: 460.32.03    CUDA Version: 11.2     |\n",
            "|-------------------------------+----------------------+----------------------+\n",
            "| GPU  Name        Persistence-M| Bus-Id        Disp.A | Volatile Uncorr. ECC |\n",
            "| Fan  Temp  Perf  Pwr:Usage/Cap|         Memory-Usage | GPU-Util  Compute M. |\n",
            "|                               |                      |               MIG M. |\n",
            "|===============================+======================+======================|\n",
            "|   0  Tesla P100-PCIE...  Off  | 00000000:00:04.0 Off |                    0 |\n",
            "| N/A   35C    P0    27W / 250W |      0MiB / 16280MiB |      0%      Default |\n",
            "|                               |                      |                  N/A |\n",
            "+-------------------------------+----------------------+----------------------+\n",
            "                                                                               \n",
            "+-----------------------------------------------------------------------------+\n",
            "| Processes:                                                                  |\n",
            "|  GPU   GI   CI        PID   Type   Process name                  GPU Memory |\n",
            "|        ID   ID                                                   Usage      |\n",
            "|=============================================================================|\n",
            "|  No running processes found                                                 |\n",
            "+-----------------------------------------------------------------------------+\n"
          ],
          "name": "stdout"
        }
      ]
    },
    {
      "cell_type": "code",
      "metadata": {
        "colab": {
          "base_uri": "https://localhost:8080/"
        },
        "id": "sF854phpZOBM",
        "outputId": "065af2f2-f73d-4110-ba59-db0c9b455c5f"
      },
      "source": [
        "!gdown --id 0B0d9ZiqAgFkiOHR1NTJhWVJMNEU\n",
        "!unzip -q \"/content/dataset1.zip\""
      ],
      "execution_count": 2,
      "outputs": [
        {
          "output_type": "stream",
          "text": [
            "Downloading...\n",
            "From: https://drive.google.com/uc?id=0B0d9ZiqAgFkiOHR1NTJhWVJMNEU\n",
            "To: /content/dataset1.zip\n",
            "126MB [00:00, 188MB/s]\n"
          ],
          "name": "stdout"
        }
      ]
    },
    {
      "cell_type": "markdown",
      "metadata": {
        "id": "ZU4ieLOcc00U"
      },
      "source": [
        "### Importing Libraries"
      ]
    },
    {
      "cell_type": "code",
      "metadata": {
        "id": "oec-5vOsckBh"
      },
      "source": [
        "import numpy as np\n",
        "import tensorflow as tf"
      ],
      "execution_count": 1,
      "outputs": []
    },
    {
      "cell_type": "markdown",
      "metadata": {
        "id": "0gXXc1QedX-m"
      },
      "source": [
        "### HyperParameters"
      ]
    },
    {
      "cell_type": "code",
      "metadata": {
        "id": "UX0qR3gndZ1k"
      },
      "source": [
        "batch_size = 2\n",
        "epochs = 5\n",
        "num_classes = 12\n",
        "images_train_directory = \"/content/dataset1/images_train\"\n",
        "annotations_train_directory = \"/content/dataset1/annotations_train\"\n",
        "images_test_directory = \"/content/dataset1/images_test\"\n",
        "annotations_test_directory = \"/content/dataset1/annotations_test\""
      ],
      "execution_count": 2,
      "outputs": []
    },
    {
      "cell_type": "markdown",
      "metadata": {
        "id": "vk-bUNYNdfzM"
      },
      "source": [
        "### Get Model"
      ]
    },
    {
      "cell_type": "code",
      "metadata": {
        "id": "tn0uYw60dhYs"
      },
      "source": [
        "def UNet_VGGencoder():\n",
        "    vgg = tf.keras.applications.VGG16(include_top = False, weights='imagenet', input_shape=(360, 480, 3))\n",
        "    print(\"VGG Summary\\n\",\"=\"*100)\n",
        "    vgg.summary()\n",
        "\n",
        "    input_layer = vgg.input\n",
        "    output_layer = vgg.layers[-6].output\n",
        "\n",
        "    encoder = tf.keras.models.Model(input_layer, output_layer)\n",
        "\n",
        "    for layer in encoder.layers:\n",
        "        layer.trainable = False\n",
        "\n",
        "    print(\"\\n\\nVGGencoder Summary\\n\",\"=\"*100)\n",
        "    encoder.summary()\n",
        "\n",
        "    lastPooling = tf.keras.layers.MaxPooling2D(pool_size = (2,2), padding = 'same')(output_layer)\n",
        "    center = tf.keras.layers.Conv2D(1024, (3,3), activation='relu', padding ='same')(lastPooling)\n",
        "    center = tf.keras.layers.Conv2D(1024, (3,3), activation='relu', padding ='same')(center)\n",
        "    center = tf.keras.layers.BatchNormalization()(center)\n",
        "\n",
        "    up4 = tf.keras.layers.UpSampling2D((2,2))(center)\n",
        "    up4 = tf.keras.layers.Conv2D(512, (2,2), activation='relu', padding='same')(up4)\n",
        "    up4 = tf.keras.layers.Lambda(lambda x: x[:,0:45,:,:])(up4)\n",
        "    up4 = tf.keras.layers.concatenate([up4, encoder.get_layer(name = 'block4_conv3').output], axis = 3)\n",
        "    up4 = tf.keras.layers.Conv2D(512, (3,3), activation='relu', padding ='same')(up4)\n",
        "    up4 = tf.keras.layers.Conv2D(512, (3,3), activation='relu', padding ='same')(up4)\n",
        "    up4 = tf.keras.layers.Conv2D(512, (3,3), activation='relu', padding ='same')(up4)\n",
        "    up4 = tf.keras.layers.BatchNormalization()(up4)\n",
        "\n",
        "    up3 = tf.keras.layers.UpSampling2D((2,2))(up4)\n",
        "    up3 = tf.keras.layers.Conv2D(256, (2,2), activation='relu', padding='same')(up3)\n",
        "    up3 = tf.keras.layers.concatenate([up3, encoder.get_layer(name = 'block3_conv3').output], axis = 3)\n",
        "    up3 = tf.keras.layers.Conv2D(256, (3,3), activation='relu', padding ='same')(up3)\n",
        "    up3 = tf.keras.layers.Conv2D(256, (3,3), activation='relu', padding ='same')(up3)\n",
        "    up3 = tf.keras.layers.Conv2D(256, (3,3), activation='relu', padding ='same')(up3)\n",
        "    up3 = tf.keras.layers.BatchNormalization()(up3)\n",
        "\n",
        "    up2 = tf.keras.layers.UpSampling2D((2,2))(up3)\n",
        "    up2 = tf.keras.layers.Conv2D(128, (2,2), activation='relu', padding='same')(up2)\n",
        "    up2 = tf.keras.layers.concatenate([up2, encoder.get_layer(name = 'block2_conv2').output], axis = 3)\n",
        "    up2 = tf.keras.layers.Conv2D(128, (3,3), activation='relu', padding ='same')(up2)\n",
        "    up2 = tf.keras.layers.Conv2D(128, (3,3), activation='relu', padding ='same')(up2)\n",
        "    up2 = tf.keras.layers.BatchNormalization()(up2)\n",
        "\n",
        "    up1 = tf.keras.layers.UpSampling2D((2,2))(up2)\n",
        "    up1 = tf.keras.layers.Conv2D(64, (2,2), activation='relu', padding='same')(up1)\n",
        "    up1 = tf.keras.layers.concatenate([up1, encoder.get_layer(name = 'block1_conv2').output], axis = 3)\n",
        "    up1 = tf.keras.layers.Conv2D(64, (3,3), activation='relu', padding ='same')(up1)\n",
        "    up1 = tf.keras.layers.Conv2D(64, (3,3), activation='relu', padding ='same')(up1)\n",
        "    up1 = tf.keras.layers.Conv2D(num_classes, (1,1), activation='softmax', padding ='same')(up1)\n",
        "\n",
        "    model = tf.keras.models.Model(inputs = input_layer, outputs = up1)\n",
        "\n",
        "    print(\"\\n\\nVGGencoderDecoder Summary\\n\",\"=\"*100)\n",
        "    model.summary()\n",
        "    return model"
      ],
      "execution_count": 3,
      "outputs": []
    },
    {
      "cell_type": "markdown",
      "metadata": {
        "id": "Ul1CEMbdiNAZ"
      },
      "source": [
        "### Generators"
      ]
    },
    {
      "cell_type": "code",
      "metadata": {
        "id": "S1cVYHikh69O"
      },
      "source": [
        "def train_gen(images_train_directory, annotations_train_directory):\n",
        "    image_datagen = tf.keras.preprocessing.image.ImageDataGenerator(rescale=1/255.)\n",
        "    mask_datagen = tf.keras.preprocessing.image.ImageDataGenerator()\n",
        "\n",
        "    image_batch = image_datagen.flow_from_directory(\n",
        "        directory = images_train_directory,\n",
        "        class_mode = None,\n",
        "        target_size = (360,480),\n",
        "        shuffle = False,\n",
        "        seed = 259,\n",
        "        batch_size = batch_size,\n",
        "        color_mode = 'rgb'\n",
        "    )\n",
        "\n",
        "    mask_batch = mask_datagen.flow_from_directory(\n",
        "        directory = annotations_train_directory,\n",
        "        class_mode = None,\n",
        "        target_size = (360,480),\n",
        "        shuffle = False,\n",
        "        seed = 259,\n",
        "        batch_size = batch_size,\n",
        "        color_mode = 'grayscale'\n",
        "    )\n",
        "\n",
        "    combined_gen = zip(image_batch, mask_batch)\n",
        "\n",
        "    for (i,j) in combined_gen:\n",
        "        new_mask = np.zeros(shape=(j.shape[0], j.shape[1], j.shape[2], num_classes))\n",
        "        for k in range(j.shape[0]):\n",
        "            mask = j[k]\n",
        "            for m in range(num_classes):\n",
        "                new_mask[k,:,:,m] = mask[:,:,0] == m\n",
        "        yield (i,new_mask)"
      ],
      "execution_count": 4,
      "outputs": []
    },
    {
      "cell_type": "code",
      "metadata": {
        "id": "9HdF5jkgj-0U"
      },
      "source": [
        "def test_gen(images_test_directory):\n",
        "    image_datagen = tf.keras.preprocessing.image.ImageDataGenerator(rescale=1/255.)\n",
        "\n",
        "    image_batch = image_datagen.flow_from_directory(\n",
        "        directory = images_test_directory,\n",
        "        class_mode = None,\n",
        "        target_size = (360,480),\n",
        "        shuffle = False,\n",
        "        seed = 259,\n",
        "        batch_size = batch_size,\n",
        "        color_mode = 'rgb'\n",
        "    )\n",
        "\n",
        "    for i in image_batch:\n",
        "        yield i"
      ],
      "execution_count": 5,
      "outputs": []
    },
    {
      "cell_type": "markdown",
      "metadata": {
        "id": "34cX0TOLk5fx"
      },
      "source": [
        "### Model creating, compiling, training and prediction"
      ]
    },
    {
      "cell_type": "code",
      "metadata": {
        "colab": {
          "base_uri": "https://localhost:8080/"
        },
        "id": "Ly1_NhQMk9Wt",
        "outputId": "d76d7a17-28e6-4609-9e28-4a48ec87a539"
      },
      "source": [
        "model = UNet_VGGencoder()\n",
        "model.compile(optimizer = tf.keras.optimizers.Adam(lr=1e-4),\n",
        "              loss = \"categorical_crossentropy\",\n",
        "              metrics = ['accuracy'])\n",
        "model.fit(train_gen(images_train_directory, annotations_train_directory), steps_per_epoch = 400, epochs = epochs, validation_data=train_gen(images_test_directory, annotations_test_directory), validation_steps=51)\n",
        "results = model.predict(test_gen(images_test_directory), steps = 51)"
      ],
      "execution_count": 6,
      "outputs": [
        {
          "output_type": "stream",
          "text": [
            "VGG Summary\n",
            " ====================================================================================================\n",
            "Model: \"vgg16\"\n",
            "_________________________________________________________________\n",
            "Layer (type)                 Output Shape              Param #   \n",
            "=================================================================\n",
            "input_1 (InputLayer)         [(None, 360, 480, 3)]     0         \n",
            "_________________________________________________________________\n",
            "block1_conv1 (Conv2D)        (None, 360, 480, 64)      1792      \n",
            "_________________________________________________________________\n",
            "block1_conv2 (Conv2D)        (None, 360, 480, 64)      36928     \n",
            "_________________________________________________________________\n",
            "block1_pool (MaxPooling2D)   (None, 180, 240, 64)      0         \n",
            "_________________________________________________________________\n",
            "block2_conv1 (Conv2D)        (None, 180, 240, 128)     73856     \n",
            "_________________________________________________________________\n",
            "block2_conv2 (Conv2D)        (None, 180, 240, 128)     147584    \n",
            "_________________________________________________________________\n",
            "block2_pool (MaxPooling2D)   (None, 90, 120, 128)      0         \n",
            "_________________________________________________________________\n",
            "block3_conv1 (Conv2D)        (None, 90, 120, 256)      295168    \n",
            "_________________________________________________________________\n",
            "block3_conv2 (Conv2D)        (None, 90, 120, 256)      590080    \n",
            "_________________________________________________________________\n",
            "block3_conv3 (Conv2D)        (None, 90, 120, 256)      590080    \n",
            "_________________________________________________________________\n",
            "block3_pool (MaxPooling2D)   (None, 45, 60, 256)       0         \n",
            "_________________________________________________________________\n",
            "block4_conv1 (Conv2D)        (None, 45, 60, 512)       1180160   \n",
            "_________________________________________________________________\n",
            "block4_conv2 (Conv2D)        (None, 45, 60, 512)       2359808   \n",
            "_________________________________________________________________\n",
            "block4_conv3 (Conv2D)        (None, 45, 60, 512)       2359808   \n",
            "_________________________________________________________________\n",
            "block4_pool (MaxPooling2D)   (None, 22, 30, 512)       0         \n",
            "_________________________________________________________________\n",
            "block5_conv1 (Conv2D)        (None, 22, 30, 512)       2359808   \n",
            "_________________________________________________________________\n",
            "block5_conv2 (Conv2D)        (None, 22, 30, 512)       2359808   \n",
            "_________________________________________________________________\n",
            "block5_conv3 (Conv2D)        (None, 22, 30, 512)       2359808   \n",
            "_________________________________________________________________\n",
            "block5_pool (MaxPooling2D)   (None, 11, 15, 512)       0         \n",
            "=================================================================\n",
            "Total params: 14,714,688\n",
            "Trainable params: 14,714,688\n",
            "Non-trainable params: 0\n",
            "_________________________________________________________________\n",
            "\n",
            "\n",
            "VGGencoder Summary\n",
            " ====================================================================================================\n",
            "Model: \"model\"\n",
            "_________________________________________________________________\n",
            "Layer (type)                 Output Shape              Param #   \n",
            "=================================================================\n",
            "input_1 (InputLayer)         [(None, 360, 480, 3)]     0         \n",
            "_________________________________________________________________\n",
            "block1_conv1 (Conv2D)        (None, 360, 480, 64)      1792      \n",
            "_________________________________________________________________\n",
            "block1_conv2 (Conv2D)        (None, 360, 480, 64)      36928     \n",
            "_________________________________________________________________\n",
            "block1_pool (MaxPooling2D)   (None, 180, 240, 64)      0         \n",
            "_________________________________________________________________\n",
            "block2_conv1 (Conv2D)        (None, 180, 240, 128)     73856     \n",
            "_________________________________________________________________\n",
            "block2_conv2 (Conv2D)        (None, 180, 240, 128)     147584    \n",
            "_________________________________________________________________\n",
            "block2_pool (MaxPooling2D)   (None, 90, 120, 128)      0         \n",
            "_________________________________________________________________\n",
            "block3_conv1 (Conv2D)        (None, 90, 120, 256)      295168    \n",
            "_________________________________________________________________\n",
            "block3_conv2 (Conv2D)        (None, 90, 120, 256)      590080    \n",
            "_________________________________________________________________\n",
            "block3_conv3 (Conv2D)        (None, 90, 120, 256)      590080    \n",
            "_________________________________________________________________\n",
            "block3_pool (MaxPooling2D)   (None, 45, 60, 256)       0         \n",
            "_________________________________________________________________\n",
            "block4_conv1 (Conv2D)        (None, 45, 60, 512)       1180160   \n",
            "_________________________________________________________________\n",
            "block4_conv2 (Conv2D)        (None, 45, 60, 512)       2359808   \n",
            "_________________________________________________________________\n",
            "block4_conv3 (Conv2D)        (None, 45, 60, 512)       2359808   \n",
            "=================================================================\n",
            "Total params: 7,635,264\n",
            "Trainable params: 0\n",
            "Non-trainable params: 7,635,264\n",
            "_________________________________________________________________\n",
            "\n",
            "\n",
            "VGGencoderDecoder Summary\n",
            " ====================================================================================================\n",
            "Model: \"model_1\"\n",
            "__________________________________________________________________________________________________\n",
            "Layer (type)                    Output Shape         Param #     Connected to                     \n",
            "==================================================================================================\n",
            "input_1 (InputLayer)            [(None, 360, 480, 3) 0                                            \n",
            "__________________________________________________________________________________________________\n",
            "block1_conv1 (Conv2D)           (None, 360, 480, 64) 1792        input_1[0][0]                    \n",
            "__________________________________________________________________________________________________\n",
            "block1_conv2 (Conv2D)           (None, 360, 480, 64) 36928       block1_conv1[0][0]               \n",
            "__________________________________________________________________________________________________\n",
            "block1_pool (MaxPooling2D)      (None, 180, 240, 64) 0           block1_conv2[0][0]               \n",
            "__________________________________________________________________________________________________\n",
            "block2_conv1 (Conv2D)           (None, 180, 240, 128 73856       block1_pool[0][0]                \n",
            "__________________________________________________________________________________________________\n",
            "block2_conv2 (Conv2D)           (None, 180, 240, 128 147584      block2_conv1[0][0]               \n",
            "__________________________________________________________________________________________________\n",
            "block2_pool (MaxPooling2D)      (None, 90, 120, 128) 0           block2_conv2[0][0]               \n",
            "__________________________________________________________________________________________________\n",
            "block3_conv1 (Conv2D)           (None, 90, 120, 256) 295168      block2_pool[0][0]                \n",
            "__________________________________________________________________________________________________\n",
            "block3_conv2 (Conv2D)           (None, 90, 120, 256) 590080      block3_conv1[0][0]               \n",
            "__________________________________________________________________________________________________\n",
            "block3_conv3 (Conv2D)           (None, 90, 120, 256) 590080      block3_conv2[0][0]               \n",
            "__________________________________________________________________________________________________\n",
            "block3_pool (MaxPooling2D)      (None, 45, 60, 256)  0           block3_conv3[0][0]               \n",
            "__________________________________________________________________________________________________\n",
            "block4_conv1 (Conv2D)           (None, 45, 60, 512)  1180160     block3_pool[0][0]                \n",
            "__________________________________________________________________________________________________\n",
            "block4_conv2 (Conv2D)           (None, 45, 60, 512)  2359808     block4_conv1[0][0]               \n",
            "__________________________________________________________________________________________________\n",
            "block4_conv3 (Conv2D)           (None, 45, 60, 512)  2359808     block4_conv2[0][0]               \n",
            "__________________________________________________________________________________________________\n",
            "max_pooling2d (MaxPooling2D)    (None, 23, 30, 512)  0           block4_conv3[0][0]               \n",
            "__________________________________________________________________________________________________\n",
            "conv2d (Conv2D)                 (None, 23, 30, 1024) 4719616     max_pooling2d[0][0]              \n",
            "__________________________________________________________________________________________________\n",
            "conv2d_1 (Conv2D)               (None, 23, 30, 1024) 9438208     conv2d[0][0]                     \n",
            "__________________________________________________________________________________________________\n",
            "batch_normalization (BatchNorma (None, 23, 30, 1024) 4096        conv2d_1[0][0]                   \n",
            "__________________________________________________________________________________________________\n",
            "up_sampling2d (UpSampling2D)    (None, 46, 60, 1024) 0           batch_normalization[0][0]        \n",
            "__________________________________________________________________________________________________\n",
            "conv2d_2 (Conv2D)               (None, 46, 60, 512)  2097664     up_sampling2d[0][0]              \n",
            "__________________________________________________________________________________________________\n",
            "lambda (Lambda)                 (None, 45, 60, 512)  0           conv2d_2[0][0]                   \n",
            "__________________________________________________________________________________________________\n",
            "concatenate (Concatenate)       (None, 45, 60, 1024) 0           lambda[0][0]                     \n",
            "                                                                 block4_conv3[0][0]               \n",
            "__________________________________________________________________________________________________\n",
            "conv2d_3 (Conv2D)               (None, 45, 60, 512)  4719104     concatenate[0][0]                \n",
            "__________________________________________________________________________________________________\n",
            "conv2d_4 (Conv2D)               (None, 45, 60, 512)  2359808     conv2d_3[0][0]                   \n",
            "__________________________________________________________________________________________________\n",
            "conv2d_5 (Conv2D)               (None, 45, 60, 512)  2359808     conv2d_4[0][0]                   \n",
            "__________________________________________________________________________________________________\n",
            "batch_normalization_1 (BatchNor (None, 45, 60, 512)  2048        conv2d_5[0][0]                   \n",
            "__________________________________________________________________________________________________\n",
            "up_sampling2d_1 (UpSampling2D)  (None, 90, 120, 512) 0           batch_normalization_1[0][0]      \n",
            "__________________________________________________________________________________________________\n",
            "conv2d_6 (Conv2D)               (None, 90, 120, 256) 524544      up_sampling2d_1[0][0]            \n",
            "__________________________________________________________________________________________________\n",
            "concatenate_1 (Concatenate)     (None, 90, 120, 512) 0           conv2d_6[0][0]                   \n",
            "                                                                 block3_conv3[0][0]               \n",
            "__________________________________________________________________________________________________\n",
            "conv2d_7 (Conv2D)               (None, 90, 120, 256) 1179904     concatenate_1[0][0]              \n",
            "__________________________________________________________________________________________________\n",
            "conv2d_8 (Conv2D)               (None, 90, 120, 256) 590080      conv2d_7[0][0]                   \n",
            "__________________________________________________________________________________________________\n",
            "conv2d_9 (Conv2D)               (None, 90, 120, 256) 590080      conv2d_8[0][0]                   \n",
            "__________________________________________________________________________________________________\n",
            "batch_normalization_2 (BatchNor (None, 90, 120, 256) 1024        conv2d_9[0][0]                   \n",
            "__________________________________________________________________________________________________\n",
            "up_sampling2d_2 (UpSampling2D)  (None, 180, 240, 256 0           batch_normalization_2[0][0]      \n",
            "__________________________________________________________________________________________________\n",
            "conv2d_10 (Conv2D)              (None, 180, 240, 128 131200      up_sampling2d_2[0][0]            \n",
            "__________________________________________________________________________________________________\n",
            "concatenate_2 (Concatenate)     (None, 180, 240, 256 0           conv2d_10[0][0]                  \n",
            "                                                                 block2_conv2[0][0]               \n",
            "__________________________________________________________________________________________________\n",
            "conv2d_11 (Conv2D)              (None, 180, 240, 128 295040      concatenate_2[0][0]              \n",
            "__________________________________________________________________________________________________\n",
            "conv2d_12 (Conv2D)              (None, 180, 240, 128 147584      conv2d_11[0][0]                  \n",
            "__________________________________________________________________________________________________\n",
            "batch_normalization_3 (BatchNor (None, 180, 240, 128 512         conv2d_12[0][0]                  \n",
            "__________________________________________________________________________________________________\n",
            "up_sampling2d_3 (UpSampling2D)  (None, 360, 480, 128 0           batch_normalization_3[0][0]      \n",
            "__________________________________________________________________________________________________\n",
            "conv2d_13 (Conv2D)              (None, 360, 480, 64) 32832       up_sampling2d_3[0][0]            \n",
            "__________________________________________________________________________________________________\n",
            "concatenate_3 (Concatenate)     (None, 360, 480, 128 0           conv2d_13[0][0]                  \n",
            "                                                                 block1_conv2[0][0]               \n",
            "__________________________________________________________________________________________________\n",
            "conv2d_14 (Conv2D)              (None, 360, 480, 64) 73792       concatenate_3[0][0]              \n",
            "__________________________________________________________________________________________________\n",
            "conv2d_15 (Conv2D)              (None, 360, 480, 64) 36928       conv2d_14[0][0]                  \n",
            "__________________________________________________________________________________________________\n",
            "conv2d_16 (Conv2D)              (None, 360, 480, 12) 780         conv2d_15[0][0]                  \n",
            "==================================================================================================\n",
            "Total params: 36,939,916\n",
            "Trainable params: 29,300,812\n",
            "Non-trainable params: 7,639,104\n",
            "__________________________________________________________________________________________________\n",
            "Found 367 images belonging to 1 classes.\n",
            "Found 367 images belonging to 1 classes.\n",
            "Epoch 1/5\n",
            "400/400 [==============================] - ETA: 0s - loss: 1.3014 - accuracy: 0.6277Found 101 images belonging to 1 classes.\n",
            "Found 101 images belonging to 1 classes.\n",
            "400/400 [==============================] - 89s 209ms/step - loss: 1.3006 - accuracy: 0.6280 - val_loss: 1.4897 - val_accuracy: 0.6245\n",
            "Epoch 2/5\n",
            "400/400 [==============================] - 81s 203ms/step - loss: 0.7041 - accuracy: 0.7858 - val_loss: 1.8172 - val_accuracy: 0.5908\n",
            "Epoch 3/5\n",
            "400/400 [==============================] - 81s 203ms/step - loss: 0.5823 - accuracy: 0.8277 - val_loss: 0.6786 - val_accuracy: 0.8215\n",
            "Epoch 4/5\n",
            "400/400 [==============================] - 81s 202ms/step - loss: 0.4461 - accuracy: 0.8668 - val_loss: 0.6281 - val_accuracy: 0.8231\n",
            "Epoch 5/5\n",
            "400/400 [==============================] - 81s 203ms/step - loss: 0.3857 - accuracy: 0.8816 - val_loss: 0.6880 - val_accuracy: 0.7805\n",
            "Found 101 images belonging to 1 classes.\n"
          ],
          "name": "stdout"
        }
      ]
    },
    {
      "cell_type": "code",
      "metadata": {
        "colab": {
          "base_uri": "https://localhost:8080/"
        },
        "id": "G12LMU2Rq8Pf",
        "outputId": "33ce6411-2349-4a4b-8624-5dd59a74c67c"
      },
      "source": [
        "results.shape"
      ],
      "execution_count": 7,
      "outputs": [
        {
          "output_type": "execute_result",
          "data": {
            "text/plain": [
              "(101, 360, 480, 12)"
            ]
          },
          "metadata": {
            "tags": []
          },
          "execution_count": 7
        }
      ]
    },
    {
      "cell_type": "code",
      "metadata": {
        "colab": {
          "base_uri": "https://localhost:8080/"
        },
        "id": "bjrBiz4XrK8r",
        "outputId": "db480231-ce7e-409c-92ea-037fb2092ff8"
      },
      "source": [
        "tf.keras.backend.argmax(results[0], axis = 2).shape"
      ],
      "execution_count": 8,
      "outputs": [
        {
          "output_type": "execute_result",
          "data": {
            "text/plain": [
              "TensorShape([360, 480])"
            ]
          },
          "metadata": {
            "tags": []
          },
          "execution_count": 8
        }
      ]
    },
    {
      "cell_type": "code",
      "metadata": {
        "colab": {
          "base_uri": "https://localhost:8080/",
          "height": 286
        },
        "id": "xxvuuUtGr2qd",
        "outputId": "e12a7714-8bec-4c46-8ca8-c229f6bd6275"
      },
      "source": [
        "import matplotlib.pyplot as plt\n",
        "plt.imshow(tf.keras.backend.argmax(results[0], axis = 2))"
      ],
      "execution_count": 9,
      "outputs": [
        {
          "output_type": "execute_result",
          "data": {
            "text/plain": [
              "<matplotlib.image.AxesImage at 0x7fe7e81e9390>"
            ]
          },
          "metadata": {
            "tags": []
          },
          "execution_count": 9
        },
        {
          "output_type": "display_data",
          "data": {
            "image/png": "[encoded data removed]",
            "text/plain": [
              "<Figure size 432x288 with 1 Axes>"
            ]
          },
          "metadata": {
            "tags": [],
            "needs_background": "light"
          }
        }
      ]
    },
    {
      "cell_type": "code",
      "metadata": {
        "id": "ridGE-cgnKS-"
      },
      "source": [
        "# import cv2\n",
        "# im = cv2.imread(\"/content/dataset1/images_prepped_train/0001TP_006690.png\", 1)\n",
        "# im.shape"
      ],
      "execution_count": 10,
      "outputs": []
    },
    {
      "cell_type": "code",
      "metadata": {
        "id": "B1HXLnhRn3VT"
      },
      "source": [
        "# !rm -rf dataset1 dataset1.zip"
      ],
      "execution_count": 11,
      "outputs": []
    }
  ]
}