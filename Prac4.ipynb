{
  "nbformat": 4,
  "nbformat_minor": 0,
  "metadata": {
    "colab": {
      "name": "Prac3.ipynb",
      "provenance": [],
      "collapsed_sections": [],
      "include_colab_link": true
    },
    "kernelspec": {
      "name": "python3",
      "display_name": "Python 3"
    },
    "accelerator": "GPU"
  },
  "cells": [
    {
      "cell_type": "markdown",
      "metadata": {
        "id": "view-in-github",
        "colab_type": "text"
      },
      "source": [
        "<a href=\"https://colab.research.google.com/github/Shrey-Viradiya/DiveDeep/blob/master/Prac4.ipynb\" target=\"_parent\"><img src=\"https://colab.research.google.com/assets/colab-badge.svg\" alt=\"Open In Colab\"/></a>"
      ]
    },
    {
      "cell_type": "markdown",
      "metadata": {
        "id": "xZjju-JjtPQV"
      },
      "source": [
        "# Practical 4"
      ]
    },
    {
      "cell_type": "code",
      "metadata": {
        "colab": {
          "base_uri": "https://localhost:8080/"
        },
        "id": "rqzBEQFTM8W7",
        "outputId": "573d6d2a-6bf2-4442-ee77-971ceb53058d"
      },
      "source": [
        "!nvidia-smi"
      ],
      "execution_count": 1,
      "outputs": [
        {
          "output_type": "stream",
          "text": [
            "Mon Feb  1 09:54:42 2021       \n",
            "+-----------------------------------------------------------------------------+\n",
            "| NVIDIA-SMI 460.32.03    Driver Version: 418.67       CUDA Version: 10.1     |\n",
            "|-------------------------------+----------------------+----------------------+\n",
            "| GPU  Name        Persistence-M| Bus-Id        Disp.A | Volatile Uncorr. ECC |\n",
            "| Fan  Temp  Perf  Pwr:Usage/Cap|         Memory-Usage | GPU-Util  Compute M. |\n",
            "|                               |                      |               MIG M. |\n",
            "|===============================+======================+======================|\n",
            "|   0  Tesla T4            Off  | 00000000:00:04.0 Off |                    0 |\n",
            "| N/A   64C    P8    11W /  70W |      0MiB / 15079MiB |      0%      Default |\n",
            "|                               |                      |                 ERR! |\n",
            "+-------------------------------+----------------------+----------------------+\n",
            "                                                                               \n",
            "+-----------------------------------------------------------------------------+\n",
            "| Processes:                                                                  |\n",
            "|  GPU   GI   CI        PID   Type   Process name                  GPU Memory |\n",
            "|        ID   ID                                                   Usage      |\n",
            "|=============================================================================|\n",
            "|  No running processes found                                                 |\n",
            "+-----------------------------------------------------------------------------+\n"
          ],
          "name": "stdout"
        }
      ]
    },
    {
      "cell_type": "markdown",
      "metadata": {
        "id": "9A4ELRAEtUtb"
      },
      "source": [
        "### Shrey Viradiya\r\n",
        "### 18BCE259"
      ]
    },
    {
      "cell_type": "code",
      "metadata": {
        "id": "88sJENyNs6_x"
      },
      "source": [
        "import tensorflow as tf\r\n",
        "import matplotlib.pyplot as plt\r\n",
        "from tensorflow.keras.datasets import fashion_mnist\r\n",
        "import sklearn.metrics"
      ],
      "execution_count": 2,
      "outputs": []
    },
    {
      "cell_type": "code",
      "metadata": {
        "id": "nymLHkerwkFX"
      },
      "source": [
        "def plot_image(image):\r\n",
        "    plt.imshow(image.squeeze(), cmap=plt.cm.binary, interpolation=\"nearest\")\r\n",
        "    plt.axis(\"off\")\r\n",
        "\r\n",
        "def plot_color_image(image):\r\n",
        "    plt.imshow(image.squeeze(), interpolation=\"nearest\")\r\n",
        "    plt.axis(\"off\")"
      ],
      "execution_count": 3,
      "outputs": []
    },
    {
      "cell_type": "code",
      "metadata": {
        "id": "BgWRy3_BxTvW"
      },
      "source": [
        "(train_images, train_labels), (test_images, test_labels) = fashion_mnist.load_data()\r\n",
        "train_labels = tf.keras.utils.to_categorical(train_labels)\r\n",
        "test_labels = tf.keras.utils.to_categorical(test_labels)\r\n",
        "\r\n",
        "train_images = train_images.reshape(-1, 28, 28, 1)\r\n",
        "test_images = test_images.reshape(-1, 28, 28, 1)\r\n",
        "train_labels = train_labels.reshape(-1, 1, 1, 10)\r\n",
        "test_labels = test_labels.reshape(-1, 1, 1, 10)\r\n",
        "\r\n",
        "valid_images, valid_labels, test_images, test_labels = test_images[0:1000], test_labels[0:1000], test_images[1000:], test_labels[1000:]"
      ],
      "execution_count": 4,
      "outputs": []
    },
    {
      "cell_type": "code",
      "metadata": {
        "colab": {
          "base_uri": "https://localhost:8080/"
        },
        "id": "Fyb6OqxUxVMG",
        "outputId": "ab21a227-2e9e-4034-904b-839635cfe87b"
      },
      "source": [
        "train_images.shape"
      ],
      "execution_count": 5,
      "outputs": [
        {
          "output_type": "execute_result",
          "data": {
            "text/plain": [
              "(60000, 28, 28, 1)"
            ]
          },
          "metadata": {
            "tags": []
          },
          "execution_count": 5
        }
      ]
    },
    {
      "cell_type": "code",
      "metadata": {
        "colab": {
          "base_uri": "https://localhost:8080/"
        },
        "id": "AC8BoSNcxckp",
        "outputId": "0f527c57-dada-4062-cb86-71674c9c5bf6"
      },
      "source": [
        "len(train_labels)"
      ],
      "execution_count": 6,
      "outputs": [
        {
          "output_type": "execute_result",
          "data": {
            "text/plain": [
              "60000"
            ]
          },
          "metadata": {
            "tags": []
          },
          "execution_count": 6
        }
      ]
    },
    {
      "cell_type": "code",
      "metadata": {
        "colab": {
          "base_uri": "https://localhost:8080/"
        },
        "id": "d4Z26uUaxeDt",
        "outputId": "26424de8-dcdf-414a-aa80-21d5c8d5595e"
      },
      "source": [
        "train_labels"
      ],
      "execution_count": 7,
      "outputs": [
        {
          "output_type": "execute_result",
          "data": {
            "text/plain": [
              "array([[[[0., 0., 0., ..., 0., 0., 1.]]],\n",
              "\n",
              "\n",
              "       [[[1., 0., 0., ..., 0., 0., 0.]]],\n",
              "\n",
              "\n",
              "       [[[1., 0., 0., ..., 0., 0., 0.]]],\n",
              "\n",
              "\n",
              "       ...,\n",
              "\n",
              "\n",
              "       [[[0., 0., 0., ..., 0., 0., 0.]]],\n",
              "\n",
              "\n",
              "       [[[1., 0., 0., ..., 0., 0., 0.]]],\n",
              "\n",
              "\n",
              "       [[[0., 0., 0., ..., 0., 0., 0.]]]], dtype=float32)"
            ]
          },
          "metadata": {
            "tags": []
          },
          "execution_count": 7
        }
      ]
    },
    {
      "cell_type": "code",
      "metadata": {
        "colab": {
          "base_uri": "https://localhost:8080/"
        },
        "id": "sg_tVd0uxfw1",
        "outputId": "246204d6-01d9-4013-952c-d906fa4cfbe5"
      },
      "source": [
        "train_labels.shape"
      ],
      "execution_count": 8,
      "outputs": [
        {
          "output_type": "execute_result",
          "data": {
            "text/plain": [
              "(60000, 1, 1, 10)"
            ]
          },
          "metadata": {
            "tags": []
          },
          "execution_count": 8
        }
      ]
    },
    {
      "cell_type": "code",
      "metadata": {
        "colab": {
          "base_uri": "https://localhost:8080/"
        },
        "id": "Z_Eh4f99xhTM",
        "outputId": "e761074e-4608-4653-b2e0-4e06f441b8ef"
      },
      "source": [
        "test_images.shape"
      ],
      "execution_count": 9,
      "outputs": [
        {
          "output_type": "execute_result",
          "data": {
            "text/plain": [
              "(9000, 28, 28, 1)"
            ]
          },
          "metadata": {
            "tags": []
          },
          "execution_count": 9
        }
      ]
    },
    {
      "cell_type": "code",
      "metadata": {
        "colab": {
          "base_uri": "https://localhost:8080/",
          "height": 247
        },
        "id": "BGiO-lKQxjve",
        "outputId": "6b3d43af-662a-4a50-fd3c-b2277033c14c"
      },
      "source": [
        "plot_image(test_images[0])"
      ],
      "execution_count": 10,
      "outputs": [
        {
          "output_type": "display_data",
          "data": {
            "image/png": "[encoded data removed]",
            "text/plain": [
              "<Figure size 432x288 with 1 Axes>"
            ]
          },
          "metadata": {
            "tags": [],
            "needs_background": "light"
          }
        }
      ]
    },
    {
      "cell_type": "code",
      "metadata": {
        "id": "SbuxdxP8xoX2"
      },
      "source": [
        "train_images = train_images / 255.0\r\n",
        "test_images = test_images / 255.0"
      ],
      "execution_count": 11,
      "outputs": []
    },
    {
      "cell_type": "code",
      "metadata": {
        "colab": {
          "base_uri": "https://localhost:8080/",
          "height": 594
        },
        "id": "xjkQh-ptxsrd",
        "outputId": "568dd4b2-24fe-4dbe-c668-8ab30b641c21"
      },
      "source": [
        "plt.figure(figsize=(10,10))\r\n",
        "for i in range(25):\r\n",
        "    plt.subplot(5,5,i+1)\r\n",
        "    plt.grid(False)\r\n",
        "    plt.imshow(train_images[i].squeeze(), cmap=plt.cm.binary)\r\n",
        "plt.show()"
      ],
      "execution_count": 12,
      "outputs": [
        {
          "output_type": "display_data",
          "data": {
            "image/png": "[encoded data removed]",
            "text/plain": [
              "<Figure size 720x720 with 25 Axes>"
            ]
          },
          "metadata": {
            "tags": [],
            "needs_background": "light"
          }
        }
      ]
    },
    {
      "cell_type": "code",
      "metadata": {
        "id": "4NdCYnN4x29x"
      },
      "source": [
        "model = tf.keras.Sequential([\r\n",
        "    tf.keras.layers.Conv2D(64, (7,7), activation = 'relu', input_shape = (28,28,1)),\r\n",
        "    tf.keras.layers.MaxPool2D((2,2)),\r\n",
        "    tf.keras.layers.Conv2D(48, (5,5), activation = 'relu'),\r\n",
        "    tf.keras.layers.MaxPool2D((2,2)),\r\n",
        "    tf.keras.layers.Conv2D(32, (3,3), activation = 'relu'),\r\n",
        "    tf.keras.layers.Conv2D(10, (1,1), activation = 'softmax'),\r\n",
        "])\r\n",
        "model.compile(optimizer=tf.keras.optimizers.Adam(3e-4),\r\n",
        "              loss=\"categorical_crossentropy\",\r\n",
        "              metrics=['accuracy'])"
      ],
      "execution_count": 13,
      "outputs": []
    },
    {
      "cell_type": "code",
      "metadata": {
        "colab": {
          "base_uri": "https://localhost:8080/"
        },
        "id": "MqzHxWAlz1d6",
        "outputId": "a54cdde2-2111-4578-f7a5-bba1c2c0e679"
      },
      "source": [
        "model.summary()"
      ],
      "execution_count": 14,
      "outputs": [
        {
          "output_type": "stream",
          "text": [
            "Model: \"sequential\"\n",
            "_________________________________________________________________\n",
            "Layer (type)                 Output Shape              Param #   \n",
            "=================================================================\n",
            "conv2d (Conv2D)              (None, 22, 22, 64)        3200      \n",
            "_________________________________________________________________\n",
            "max_pooling2d (MaxPooling2D) (None, 11, 11, 64)        0         \n",
            "_________________________________________________________________\n",
            "conv2d_1 (Conv2D)            (None, 7, 7, 48)          76848     \n",
            "_________________________________________________________________\n",
            "max_pooling2d_1 (MaxPooling2 (None, 3, 3, 48)          0         \n",
            "_________________________________________________________________\n",
            "conv2d_2 (Conv2D)            (None, 1, 1, 32)          13856     \n",
            "_________________________________________________________________\n",
            "conv2d_3 (Conv2D)            (None, 1, 1, 10)          330       \n",
            "=================================================================\n",
            "Total params: 94,234\n",
            "Trainable params: 94,234\n",
            "Non-trainable params: 0\n",
            "_________________________________________________________________\n"
          ],
          "name": "stdout"
        }
      ]
    },
    {
      "cell_type": "code",
      "metadata": {
        "colab": {
          "base_uri": "https://localhost:8080/"
        },
        "id": "UENk4BDkyEgI",
        "outputId": "b2cec891-9c5c-4c96-f33c-bfd0b01e4dc2"
      },
      "source": [
        "history = model.fit(train_images, train_labels, epochs=30, validation_data=(valid_images, valid_labels), callbacks=[tf.keras.callbacks.EarlyStopping(monitor='val_accuracy', patience=5)])"
      ],
      "execution_count": 15,
      "outputs": [
        {
          "output_type": "stream",
          "text": [
            "Epoch 1/30\n",
            "1875/1875 [==============================] - 8s 3ms/step - loss: 0.9161 - accuracy: 0.6663 - val_loss: 52.1706 - val_accuracy: 0.8280\n",
            "Epoch 2/30\n",
            "1875/1875 [==============================] - 5s 3ms/step - loss: 0.4647 - accuracy: 0.8337 - val_loss: 48.4430 - val_accuracy: 0.8490\n",
            "Epoch 3/30\n",
            "1875/1875 [==============================] - 5s 3ms/step - loss: 0.3930 - accuracy: 0.8573 - val_loss: 43.3778 - val_accuracy: 0.8760\n",
            "Epoch 4/30\n",
            "1875/1875 [==============================] - 5s 3ms/step - loss: 0.3496 - accuracy: 0.8732 - val_loss: 43.9026 - val_accuracy: 0.8750\n",
            "Epoch 5/30\n",
            "1875/1875 [==============================] - 5s 3ms/step - loss: 0.3216 - accuracy: 0.8839 - val_loss: 38.6130 - val_accuracy: 0.8730\n",
            "Epoch 6/30\n",
            "1875/1875 [==============================] - 5s 3ms/step - loss: 0.3005 - accuracy: 0.8913 - val_loss: 44.7753 - val_accuracy: 0.8660\n",
            "Epoch 7/30\n",
            "1875/1875 [==============================] - 5s 3ms/step - loss: 0.2879 - accuracy: 0.8956 - val_loss: 40.2023 - val_accuracy: 0.8690\n",
            "Epoch 8/30\n",
            "1875/1875 [==============================] - 5s 3ms/step - loss: 0.2685 - accuracy: 0.9010 - val_loss: 38.6646 - val_accuracy: 0.8860\n",
            "Epoch 9/30\n",
            "1875/1875 [==============================] - 5s 3ms/step - loss: 0.2565 - accuracy: 0.9048 - val_loss: 44.7691 - val_accuracy: 0.8720\n",
            "Epoch 10/30\n",
            "1875/1875 [==============================] - 5s 3ms/step - loss: 0.2466 - accuracy: 0.9100 - val_loss: 42.0944 - val_accuracy: 0.8760\n",
            "Epoch 11/30\n",
            "1875/1875 [==============================] - 5s 3ms/step - loss: 0.2351 - accuracy: 0.9147 - val_loss: 41.1903 - val_accuracy: 0.8760\n",
            "Epoch 12/30\n",
            "1875/1875 [==============================] - 5s 3ms/step - loss: 0.2246 - accuracy: 0.9179 - val_loss: 39.8329 - val_accuracy: 0.8780\n",
            "Epoch 13/30\n",
            "1875/1875 [==============================] - 5s 3ms/step - loss: 0.2192 - accuracy: 0.9218 - val_loss: 42.9022 - val_accuracy: 0.8970\n",
            "Epoch 14/30\n",
            "1875/1875 [==============================] - 5s 3ms/step - loss: 0.2066 - accuracy: 0.9244 - val_loss: 45.1682 - val_accuracy: 0.8740\n",
            "Epoch 15/30\n",
            "1875/1875 [==============================] - 5s 3ms/step - loss: 0.1931 - accuracy: 0.9301 - val_loss: 49.1255 - val_accuracy: 0.8780\n",
            "Epoch 16/30\n",
            "1875/1875 [==============================] - 5s 3ms/step - loss: 0.1885 - accuracy: 0.9317 - val_loss: 49.3681 - val_accuracy: 0.8730\n",
            "Epoch 17/30\n",
            "1875/1875 [==============================] - 5s 3ms/step - loss: 0.1813 - accuracy: 0.9345 - val_loss: 55.7618 - val_accuracy: 0.8650\n",
            "Epoch 18/30\n",
            "1875/1875 [==============================] - 5s 3ms/step - loss: 0.1755 - accuracy: 0.9360 - val_loss: 50.8100 - val_accuracy: 0.8780\n"
          ],
          "name": "stdout"
        }
      ]
    },
    {
      "cell_type": "code",
      "metadata": {
        "id": "cAHNSZOOyHrQ",
        "colab": {
          "base_uri": "https://localhost:8080/"
        },
        "outputId": "8d05efb9-3056-43d8-afc0-3b8e610fb835"
      },
      "source": [
        "test_loss, test_acc = model.evaluate(test_images,  test_labels)\r\n",
        "print('\\nTest accuracy:', test_acc)"
      ],
      "execution_count": 16,
      "outputs": [
        {
          "output_type": "stream",
          "text": [
            "282/282 [==============================] - 1s 2ms/step - loss: 0.2862 - accuracy: 0.9013\n",
            "\n",
            "Test accuracy: 0.9013333320617676\n"
          ],
          "name": "stdout"
        }
      ]
    },
    {
      "cell_type": "code",
      "metadata": {
        "id": "4jDGYFgZyNzH"
      },
      "source": [
        "predictions = tf.squeeze(tf.argmax(model.predict(test_images), axis=-1))"
      ],
      "execution_count": 17,
      "outputs": []
    },
    {
      "cell_type": "code",
      "metadata": {
        "colab": {
          "base_uri": "https://localhost:8080/"
        },
        "id": "S-MkfLDR35SR",
        "outputId": "6a2ab5ee-a3a8-4fbd-da43-dedef0e3a0bd"
      },
      "source": [
        "predictions.shape"
      ],
      "execution_count": 18,
      "outputs": [
        {
          "output_type": "execute_result",
          "data": {
            "text/plain": [
              "TensorShape([9000])"
            ]
          },
          "metadata": {
            "tags": []
          },
          "execution_count": 18
        }
      ]
    },
    {
      "cell_type": "code",
      "metadata": {
        "colab": {
          "base_uri": "https://localhost:8080/"
        },
        "id": "PmfkrS_r31Nn",
        "outputId": "c4bff377-34e9-464d-8268-b7ae8b3ff799"
      },
      "source": [
        "tf.squeeze(tf.argmax(test_labels, axis=-1))"
      ],
      "execution_count": 19,
      "outputs": [
        {
          "output_type": "execute_result",
          "data": {
            "text/plain": [
              "<tf.Tensor: shape=(9000,), dtype=int64, numpy=array([0, 3, 5, ..., 8, 1, 5])>"
            ]
          },
          "metadata": {
            "tags": []
          },
          "execution_count": 19
        }
      ]
    },
    {
      "cell_type": "code",
      "metadata": {
        "id": "WcSdfZW6woco",
        "colab": {
          "base_uri": "https://localhost:8080/"
        },
        "outputId": "2dcd229e-49ad-486e-db2f-78dacfbdacf7"
      },
      "source": [
        "print(sklearn.metrics.accuracy_score(predictions, tf.squeeze(tf.argmax(test_labels, axis=-1))))\r\n",
        "print(sklearn.metrics.classification_report(predictions, tf.squeeze(tf.argmax(test_labels, axis=-1))))\r\n",
        "print(sklearn.metrics.confusion_matrix(predictions, tf.squeeze(tf.argmax(test_labels, axis=-1))))"
      ],
      "execution_count": 20,
      "outputs": [
        {
          "output_type": "stream",
          "text": [
            "0.9013333333333333\n",
            "              precision    recall  f1-score   support\n",
            "\n",
            "           0       0.80      0.88      0.84       815\n",
            "           1       0.98      0.99      0.99       884\n",
            "           2       0.89      0.80      0.84       980\n",
            "           3       0.93      0.90      0.91       938\n",
            "           4       0.81      0.86      0.83       842\n",
            "           5       0.99      0.96      0.98       933\n",
            "           6       0.72      0.72      0.72       899\n",
            "           7       0.94      0.97      0.95       881\n",
            "           8       0.98      0.97      0.97       915\n",
            "           9       0.97      0.96      0.97       913\n",
            "\n",
            "    accuracy                           0.90      9000\n",
            "   macro avg       0.90      0.90      0.90      9000\n",
            "weighted avg       0.90      0.90      0.90      9000\n",
            "\n",
            "[[716   0  11   6   1   0  79   0   1   1]\n",
            " [  0 878   0   4   1   0   0   0   1   0]\n",
            " [ 23   0 788   8  74   0  83   0   4   0]\n",
            " [ 16   7  14 844  30   2  20   0   5   0]\n",
            " [  2   4  37  20 720   0  57   0   2   0]\n",
            " [  1   0   0   0   0 900   0  24   1   7]\n",
            " [127   4  37  22  57   0 650   0   2   0]\n",
            " [  0   0   0   0   0   7   0 852   5  17]\n",
            " [  8   2   2   3   2   0  14   0 884   0]\n",
            " [  0   0   0   0   0   4   0  29   0 880]]\n"
          ],
          "name": "stdout"
        }
      ]
    },
    {
      "cell_type": "code",
      "metadata": {
        "id": "H7gDuMSJ16vL",
        "colab": {
          "base_uri": "https://localhost:8080/",
          "height": 247
        },
        "outputId": "6792522a-4d93-4fcc-802d-63a2b0fb2a97"
      },
      "source": [
        "plot_image(test_images[0])"
      ],
      "execution_count": 21,
      "outputs": [
        {
          "output_type": "display_data",
          "data": {
            "image/png": "[encoded data removed]",
            "text/plain": [
              "<Figure size 432x288 with 1 Axes>"
            ]
          },
          "metadata": {
            "tags": [],
            "needs_background": "light"
          }
        }
      ]
    },
    {
      "cell_type": "code",
      "metadata": {
        "id": "Tu6ww7dDOneN",
        "colab": {
          "base_uri": "https://localhost:8080/",
          "height": 294
        },
        "outputId": "1454edc2-c908-4cd9-a0c8-ca3314a00518"
      },
      "source": [
        "plt.plot(history.history['accuracy'])\r\n",
        "plt.plot(history.history['val_accuracy'])\r\n",
        "plt.title('model accuracy')\r\n",
        "plt.ylabel('accuracy')\r\n",
        "plt.xlabel('epoch')\r\n",
        "plt.legend(['train', 'val'], loc='upper left')\r\n",
        "plt.show()"
      ],
      "execution_count": 22,
      "outputs": [
        {
          "output_type": "display_data",
          "data": {
            "image/png": "[encoded data removed]",
            "text/plain": [
              "<Figure size 432x288 with 1 Axes>"
            ]
          },
          "metadata": {
            "tags": [],
            "needs_background": "light"
          }
        }
      ]
    },
    {
      "cell_type": "code",
      "metadata": {
        "id": "nf1fza-Y0LgO"
      },
      "source": [
        ""
      ],
      "execution_count": 22,
      "outputs": []
    }
  ]
}