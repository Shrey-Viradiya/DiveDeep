{
  "nbformat": 4,
  "nbformat_minor": 0,
  "metadata": {
    "colab": {
      "name": "Prac3.ipynb",
      "provenance": [],
      "collapsed_sections": [],
      "include_colab_link": true
    },
    "kernelspec": {
      "name": "python3",
      "display_name": "Python 3"
    },
    "accelerator": "GPU"
  },
  "cells": [
    {
      "cell_type": "markdown",
      "metadata": {
        "id": "view-in-github",
        "colab_type": "text"
      },
      "source": [
        "<a href=\"https://colab.research.google.com/github/Shrey-Viradiya/DiveDeep/blob/master/Prac4.ipynb\" target=\"_parent\"><img src=\"https://colab.research.google.com/assets/colab-badge.svg\" alt=\"Open In Colab\"/></a>"
      ]
    },
    {
      "cell_type": "markdown",
      "metadata": {
        "id": "xZjju-JjtPQV"
      },
      "source": [
        "# Practical 4"
      ]
    },
    {
      "cell_type": "code",
      "metadata": {
        "colab": {
          "base_uri": "https://localhost:8080/"
        },
        "id": "rqzBEQFTM8W7",
        "outputId": "85234f08-7f96-4803-f60f-746ab8888c0e"
      },
      "source": [
        "!nvidia-smi"
      ],
      "execution_count": 1,
      "outputs": [
        {
          "output_type": "stream",
          "text": [
            "Mon Apr 26 09:17:32 2021       \n",
            "+-----------------------------------------------------------------------------+\n",
            "| NVIDIA-SMI 465.19.01    Driver Version: 460.32.03    CUDA Version: 11.2     |\n",
            "|-------------------------------+----------------------+----------------------+\n",
            "| GPU  Name        Persistence-M| Bus-Id        Disp.A | Volatile Uncorr. ECC |\n",
            "| Fan  Temp  Perf  Pwr:Usage/Cap|         Memory-Usage | GPU-Util  Compute M. |\n",
            "|                               |                      |               MIG M. |\n",
            "|===============================+======================+======================|\n",
            "|   0  Tesla K80           Off  | 00000000:00:04.0 Off |                    0 |\n",
            "| N/A   35C    P8    27W / 149W |      0MiB / 11441MiB |      0%      Default |\n",
            "|                               |                      |                  N/A |\n",
            "+-------------------------------+----------------------+----------------------+\n",
            "                                                                               \n",
            "+-----------------------------------------------------------------------------+\n",
            "| Processes:                                                                  |\n",
            "|  GPU   GI   CI        PID   Type   Process name                  GPU Memory |\n",
            "|        ID   ID                                                   Usage      |\n",
            "|=============================================================================|\n",
            "|  No running processes found                                                 |\n",
            "+-----------------------------------------------------------------------------+\n"
          ],
          "name": "stdout"
        }
      ]
    },
    {
      "cell_type": "markdown",
      "metadata": {
        "id": "9A4ELRAEtUtb"
      },
      "source": [
        "### Shrey Viradiya\n",
        "### 18BCE259"
      ]
    },
    {
      "cell_type": "code",
      "metadata": {
        "id": "88sJENyNs6_x"
      },
      "source": [
        "import tensorflow as tf\n",
        "import matplotlib.pyplot as plt\n",
        "from tensorflow.keras.datasets import fashion_mnist\n",
        "import sklearn.metrics"
      ],
      "execution_count": 2,
      "outputs": []
    },
    {
      "cell_type": "code",
      "metadata": {
        "id": "nymLHkerwkFX"
      },
      "source": [
        "def plot_image(image):\n",
        "    plt.imshow(image.squeeze(), cmap=plt.cm.binary, interpolation=\"nearest\")\n",
        "    plt.axis(\"off\")\n",
        "\n",
        "def plot_color_image(image):\n",
        "    plt.imshow(image.squeeze(), interpolation=\"nearest\")\n",
        "    plt.axis(\"off\")"
      ],
      "execution_count": 3,
      "outputs": []
    },
    {
      "cell_type": "code",
      "metadata": {
        "id": "BgWRy3_BxTvW",
        "outputId": "0f559a7d-b274-4606-a5eb-d9ebd0d978a2",
        "colab": {
          "base_uri": "https://localhost:8080/"
        }
      },
      "source": [
        "(train_images, train_labels), (test_images, test_labels) = fashion_mnist.load_data()\n",
        "train_labels = tf.keras.utils.to_categorical(train_labels)\n",
        "test_labels = tf.keras.utils.to_categorical(test_labels)\n",
        "\n",
        "train_images = train_images.reshape(-1, 28, 28, 1)\n",
        "test_images = test_images.reshape(-1, 28, 28, 1)\n",
        "train_labels = train_labels.reshape(-1, 1, 1, 10)\n",
        "test_labels = test_labels.reshape(-1, 1, 1, 10)\n",
        "\n",
        "valid_images, valid_labels, test_images, test_labels = test_images[0:1000], test_labels[0:1000], test_images[1000:], test_labels[1000:]"
      ],
      "execution_count": 4,
      "outputs": [
        {
          "output_type": "stream",
          "text": [
            "Downloading data from https://storage.googleapis.com/tensorflow/tf-keras-datasets/train-labels-idx1-ubyte.gz\n",
            "32768/29515 [=================================] - 0s 0us/step\n",
            "Downloading data from https://storage.googleapis.com/tensorflow/tf-keras-datasets/train-images-idx3-ubyte.gz\n",
            "26427392/26421880 [==============================] - 0s 0us/step\n",
            "Downloading data from https://storage.googleapis.com/tensorflow/tf-keras-datasets/t10k-labels-idx1-ubyte.gz\n",
            "8192/5148 [===============================================] - 0s 0us/step\n",
            "Downloading data from https://storage.googleapis.com/tensorflow/tf-keras-datasets/t10k-images-idx3-ubyte.gz\n",
            "4423680/4422102 [==============================] - 0s 0us/step\n"
          ],
          "name": "stdout"
        }
      ]
    },
    {
      "cell_type": "code",
      "metadata": {
        "colab": {
          "base_uri": "https://localhost:8080/"
        },
        "id": "Fyb6OqxUxVMG",
        "outputId": "dd517f60-54ed-49d5-9c43-cac557ba1189"
      },
      "source": [
        "train_images.shape"
      ],
      "execution_count": 5,
      "outputs": [
        {
          "output_type": "execute_result",
          "data": {
            "text/plain": [
              "(60000, 28, 28, 1)"
            ]
          },
          "metadata": {
            "tags": []
          },
          "execution_count": 5
        }
      ]
    },
    {
      "cell_type": "code",
      "metadata": {
        "colab": {
          "base_uri": "https://localhost:8080/"
        },
        "id": "AC8BoSNcxckp",
        "outputId": "64ad4ed0-6a0a-4f4e-b9e8-a53fba994be3"
      },
      "source": [
        "len(train_labels)"
      ],
      "execution_count": 6,
      "outputs": [
        {
          "output_type": "execute_result",
          "data": {
            "text/plain": [
              "60000"
            ]
          },
          "metadata": {
            "tags": []
          },
          "execution_count": 6
        }
      ]
    },
    {
      "cell_type": "code",
      "metadata": {
        "colab": {
          "base_uri": "https://localhost:8080/"
        },
        "id": "d4Z26uUaxeDt",
        "outputId": "76b7edc5-344f-4c70-8868-ab28246d7de2"
      },
      "source": [
        "train_labels"
      ],
      "execution_count": 7,
      "outputs": [
        {
          "output_type": "execute_result",
          "data": {
            "text/plain": [
              "array([[[[0., 0., 0., ..., 0., 0., 1.]]],\n",
              "\n",
              "\n",
              "       [[[1., 0., 0., ..., 0., 0., 0.]]],\n",
              "\n",
              "\n",
              "       [[[1., 0., 0., ..., 0., 0., 0.]]],\n",
              "\n",
              "\n",
              "       ...,\n",
              "\n",
              "\n",
              "       [[[0., 0., 0., ..., 0., 0., 0.]]],\n",
              "\n",
              "\n",
              "       [[[1., 0., 0., ..., 0., 0., 0.]]],\n",
              "\n",
              "\n",
              "       [[[0., 0., 0., ..., 0., 0., 0.]]]], dtype=float32)"
            ]
          },
          "metadata": {
            "tags": []
          },
          "execution_count": 7
        }
      ]
    },
    {
      "cell_type": "code",
      "metadata": {
        "colab": {
          "base_uri": "https://localhost:8080/"
        },
        "id": "sg_tVd0uxfw1",
        "outputId": "df167416-eab2-406a-e78b-afd4fedf2eee"
      },
      "source": [
        "train_labels.shape"
      ],
      "execution_count": 8,
      "outputs": [
        {
          "output_type": "execute_result",
          "data": {
            "text/plain": [
              "(60000, 1, 1, 10)"
            ]
          },
          "metadata": {
            "tags": []
          },
          "execution_count": 8
        }
      ]
    },
    {
      "cell_type": "code",
      "metadata": {
        "colab": {
          "base_uri": "https://localhost:8080/"
        },
        "id": "Z_Eh4f99xhTM",
        "outputId": "1f4c25d0-bf51-4269-ecfe-f0e553e352db"
      },
      "source": [
        "test_images.shape"
      ],
      "execution_count": 9,
      "outputs": [
        {
          "output_type": "execute_result",
          "data": {
            "text/plain": [
              "(9000, 28, 28, 1)"
            ]
          },
          "metadata": {
            "tags": []
          },
          "execution_count": 9
        }
      ]
    },
    {
      "cell_type": "code",
      "metadata": {
        "colab": {
          "base_uri": "https://localhost:8080/",
          "height": 248
        },
        "id": "BGiO-lKQxjve",
        "outputId": "afefaf9b-83de-4ed4-9a2f-567437e655d2"
      },
      "source": [
        "plot_image(test_images[0])"
      ],
      "execution_count": 10,
      "outputs": [
        {
          "output_type": "display_data",
          "data": {
            "image/png": "[encoded data removed]",
            "text/plain": [
              "<Figure size 432x288 with 1 Axes>"
            ]
          },
          "metadata": {
            "tags": [],
            "needs_background": "light"
          }
        }
      ]
    },
    {
      "cell_type": "code",
      "metadata": {
        "id": "SbuxdxP8xoX2"
      },
      "source": [
        "train_images = train_images / 255.0\n",
        "test_images = test_images / 255.0"
      ],
      "execution_count": 11,
      "outputs": []
    },
    {
      "cell_type": "code",
      "metadata": {
        "colab": {
          "base_uri": "https://localhost:8080/",
          "height": 594
        },
        "id": "xjkQh-ptxsrd",
        "outputId": "bd27e91a-8727-4e7b-aa51-697c3ba2fa8d"
      },
      "source": [
        "plt.figure(figsize=(10,10))\n",
        "for i in range(25):\n",
        "    plt.subplot(5,5,i+1)\n",
        "    plt.grid(False)\n",
        "    plt.imshow(train_images[i].squeeze(), cmap=plt.cm.binary)\n",
        "plt.show()"
      ],
      "execution_count": 12,
      "outputs": [
        {
          "output_type": "display_data",
          "data": {
            "image/png": "[encoded data removed]",
            "text/plain": [
              "<Figure size 720x720 with 25 Axes>"
            ]
          },
          "metadata": {
            "tags": [],
            "needs_background": "light"
          }
        }
      ]
    },
    {
      "cell_type": "code",
      "metadata": {
        "id": "4NdCYnN4x29x"
      },
      "source": [
        "model = tf.keras.Sequential([\n",
        "    tf.keras.layers.Conv2D(64, (7,7), activation = 'relu', input_shape = (28,28,1)),\n",
        "    tf.keras.layers.MaxPool2D((2,2)),\n",
        "    tf.keras.layers.Conv2D(48, (5,5), activation = 'relu'),\n",
        "    tf.keras.layers.MaxPool2D((2,2)),\n",
        "    tf.keras.layers.Conv2D(32, (3,3), activation = 'relu'),\n",
        "    tf.keras.layers.Conv2D(10, (1,1), activation = 'softmax'),\n",
        "])\n",
        "model.compile(optimizer=tf.keras.optimizers.Adam(3e-4),\n",
        "              loss=\"categorical_crossentropy\",\n",
        "              metrics=['accuracy'])"
      ],
      "execution_count": 13,
      "outputs": []
    },
    {
      "cell_type": "code",
      "metadata": {
        "colab": {
          "base_uri": "https://localhost:8080/"
        },
        "id": "MqzHxWAlz1d6",
        "outputId": "ba3b33b6-a8cd-4104-e6c7-3abd00af75d7"
      },
      "source": [
        "model.summary()"
      ],
      "execution_count": 14,
      "outputs": [
        {
          "output_type": "stream",
          "text": [
            "Model: \"sequential\"\n",
            "_________________________________________________________________\n",
            "Layer (type)                 Output Shape              Param #   \n",
            "=================================================================\n",
            "conv2d (Conv2D)              (None, 22, 22, 64)        3200      \n",
            "_________________________________________________________________\n",
            "max_pooling2d (MaxPooling2D) (None, 11, 11, 64)        0         \n",
            "_________________________________________________________________\n",
            "conv2d_1 (Conv2D)            (None, 7, 7, 48)          76848     \n",
            "_________________________________________________________________\n",
            "max_pooling2d_1 (MaxPooling2 (None, 3, 3, 48)          0         \n",
            "_________________________________________________________________\n",
            "conv2d_2 (Conv2D)            (None, 1, 1, 32)          13856     \n",
            "_________________________________________________________________\n",
            "conv2d_3 (Conv2D)            (None, 1, 1, 10)          330       \n",
            "=================================================================\n",
            "Total params: 94,234\n",
            "Trainable params: 94,234\n",
            "Non-trainable params: 0\n",
            "_________________________________________________________________\n"
          ],
          "name": "stdout"
        }
      ]
    },
    {
      "cell_type": "code",
      "metadata": {
        "colab": {
          "base_uri": "https://localhost:8080/"
        },
        "id": "UENk4BDkyEgI",
        "outputId": "0ce7f576-57c4-485a-af89-77a257782c7d"
      },
      "source": [
        "history = model.fit(train_images, train_labels, epochs=30, validation_data=(valid_images, valid_labels), callbacks=[tf.keras.callbacks.EarlyStopping(monitor='val_accuracy', patience=5)])"
      ],
      "execution_count": 15,
      "outputs": [
        {
          "output_type": "stream",
          "text": [
            "Epoch 1/30\n",
            "1875/1875 [==============================] - 42s 6ms/step - loss: 0.8995 - accuracy: 0.6865 - val_loss: 57.1654 - val_accuracy: 0.8170\n",
            "Epoch 2/30\n",
            "1875/1875 [==============================] - 11s 6ms/step - loss: 0.4656 - accuracy: 0.8332 - val_loss: 47.7739 - val_accuracy: 0.8560\n",
            "Epoch 3/30\n",
            "1875/1875 [==============================] - 11s 6ms/step - loss: 0.3924 - accuracy: 0.8603 - val_loss: 43.6281 - val_accuracy: 0.8520\n",
            "Epoch 4/30\n",
            "1875/1875 [==============================] - 11s 6ms/step - loss: 0.3491 - accuracy: 0.8739 - val_loss: 43.7630 - val_accuracy: 0.8590\n",
            "Epoch 5/30\n",
            "1875/1875 [==============================] - 11s 6ms/step - loss: 0.3263 - accuracy: 0.8824 - val_loss: 41.7716 - val_accuracy: 0.8610\n",
            "Epoch 6/30\n",
            "1875/1875 [==============================] - 11s 6ms/step - loss: 0.3031 - accuracy: 0.8911 - val_loss: 39.5875 - val_accuracy: 0.8790\n",
            "Epoch 7/30\n",
            "1875/1875 [==============================] - 11s 6ms/step - loss: 0.2876 - accuracy: 0.8957 - val_loss: 44.1529 - val_accuracy: 0.8650\n",
            "Epoch 8/30\n",
            "1875/1875 [==============================] - 11s 6ms/step - loss: 0.2754 - accuracy: 0.9002 - val_loss: 45.7693 - val_accuracy: 0.8700\n",
            "Epoch 9/30\n",
            "1875/1875 [==============================] - 11s 6ms/step - loss: 0.2578 - accuracy: 0.9056 - val_loss: 43.8535 - val_accuracy: 0.8640\n",
            "Epoch 10/30\n",
            "1875/1875 [==============================] - 11s 6ms/step - loss: 0.2498 - accuracy: 0.9100 - val_loss: 48.4528 - val_accuracy: 0.8570\n",
            "Epoch 11/30\n",
            "1875/1875 [==============================] - 11s 6ms/step - loss: 0.2432 - accuracy: 0.9116 - val_loss: 47.6304 - val_accuracy: 0.8600\n"
          ],
          "name": "stdout"
        }
      ]
    },
    {
      "cell_type": "code",
      "metadata": {
        "id": "cAHNSZOOyHrQ",
        "colab": {
          "base_uri": "https://localhost:8080/"
        },
        "outputId": "5c750db7-66c3-4ac5-e788-0159510c0768"
      },
      "source": [
        "test_loss, test_acc = model.evaluate(test_images,  test_labels)\n",
        "print('\\nTest accuracy:', test_acc)"
      ],
      "execution_count": 16,
      "outputs": [
        {
          "output_type": "stream",
          "text": [
            "282/282 [==============================] - 1s 4ms/step - loss: 0.3041 - accuracy: 0.8917\n",
            "\n",
            "Test accuracy: 0.8916666507720947\n"
          ],
          "name": "stdout"
        }
      ]
    },
    {
      "cell_type": "code",
      "metadata": {
        "id": "4jDGYFgZyNzH"
      },
      "source": [
        "predictions = tf.squeeze(tf.argmax(model.predict(test_images), axis=-1))"
      ],
      "execution_count": 17,
      "outputs": []
    },
    {
      "cell_type": "code",
      "metadata": {
        "colab": {
          "base_uri": "https://localhost:8080/"
        },
        "id": "S-MkfLDR35SR",
        "outputId": "f036e132-4384-4eb4-d41a-e4cce34743fd"
      },
      "source": [
        "predictions.shape"
      ],
      "execution_count": 18,
      "outputs": [
        {
          "output_type": "execute_result",
          "data": {
            "text/plain": [
              "TensorShape([9000])"
            ]
          },
          "metadata": {
            "tags": []
          },
          "execution_count": 18
        }
      ]
    },
    {
      "cell_type": "code",
      "metadata": {
        "colab": {
          "base_uri": "https://localhost:8080/"
        },
        "id": "PmfkrS_r31Nn",
        "outputId": "c0ce7ead-0af5-457f-cf12-27886197aa66"
      },
      "source": [
        "tf.squeeze(tf.argmax(test_labels, axis=-1))"
      ],
      "execution_count": 19,
      "outputs": [
        {
          "output_type": "execute_result",
          "data": {
            "text/plain": [
              "<tf.Tensor: shape=(9000,), dtype=int64, numpy=array([0, 3, 5, ..., 8, 1, 5])>"
            ]
          },
          "metadata": {
            "tags": []
          },
          "execution_count": 19
        }
      ]
    },
    {
      "cell_type": "code",
      "metadata": {
        "id": "WcSdfZW6woco",
        "colab": {
          "base_uri": "https://localhost:8080/"
        },
        "outputId": "bf31e817-cb72-4728-8699-fb0803debc51"
      },
      "source": [
        "print(sklearn.metrics.accuracy_score(predictions, tf.squeeze(tf.argmax(test_labels, axis=-1))))\n",
        "print(sklearn.metrics.classification_report(predictions, tf.squeeze(tf.argmax(test_labels, axis=-1))))\n",
        "print(sklearn.metrics.confusion_matrix(predictions, tf.squeeze(tf.argmax(test_labels, axis=-1))))"
      ],
      "execution_count": 20,
      "outputs": [
        {
          "output_type": "stream",
          "text": [
            "0.8916666666666667\n",
            "              precision    recall  f1-score   support\n",
            "\n",
            "           0       0.82      0.85      0.83       863\n",
            "           1       0.97      0.99      0.98       877\n",
            "           2       0.90      0.76      0.83      1043\n",
            "           3       0.93      0.88      0.90       960\n",
            "           4       0.81      0.83      0.82       857\n",
            "           5       0.97      0.97      0.97       919\n",
            "           6       0.65      0.76      0.70       769\n",
            "           7       0.92      0.96      0.94       866\n",
            "           8       0.98      0.98      0.98       905\n",
            "           9       0.98      0.94      0.96       941\n",
            "\n",
            "    accuracy                           0.89      9000\n",
            "   macro avg       0.89      0.89      0.89      9000\n",
            "weighted avg       0.90      0.89      0.89      9000\n",
            "\n",
            "[[730   1   8  11   2   0 111   0   0   0]\n",
            " [  0 868   1   3   1   0   2   0   2   0]\n",
            " [ 39   1 797  20  82   0  96   0   8   0]\n",
            " [ 26  18   9 841  37   1  26   0   2   0]\n",
            " [  4   3  41  19 715   0  74   0   1   0]\n",
            " [  1   0   0   0   0 889   0  23   1   5]\n",
            " [ 88   2  33  12  46   0 583   0   4   1]\n",
            " [  0   0   0   0   0  13   0 835   4  14]\n",
            " [  5   2   0   1   2   0  11   0 883   1]\n",
            " [  0   0   0   0   0  10   0  47   0 884]]\n"
          ],
          "name": "stdout"
        }
      ]
    },
    {
      "cell_type": "code",
      "metadata": {
        "id": "H7gDuMSJ16vL",
        "colab": {
          "base_uri": "https://localhost:8080/",
          "height": 248
        },
        "outputId": "4325a812-291d-411e-851f-0565dde5cc68"
      },
      "source": [
        "plot_image(test_images[0])"
      ],
      "execution_count": 21,
      "outputs": [
        {
          "output_type": "display_data",
          "data": {
            "image/png": "[encoded data removed]",
            "text/plain": [
              "<Figure size 432x288 with 1 Axes>"
            ]
          },
          "metadata": {
            "tags": [],
            "needs_background": "light"
          }
        }
      ]
    },
    {
      "cell_type": "code",
      "metadata": {
        "id": "Tu6ww7dDOneN",
        "colab": {
          "base_uri": "https://localhost:8080/",
          "height": 295
        },
        "outputId": "28717647-8177-4de6-fce7-bdbe5e1039e8"
      },
      "source": [
        "plt.plot(history.history['accuracy'])\n",
        "plt.plot(history.history['val_accuracy'])\n",
        "plt.title('model accuracy')\n",
        "plt.ylabel('accuracy')\n",
        "plt.xlabel('epoch')\n",
        "plt.legend(['train', 'val'], loc='upper left')\n",
        "plt.show()"
      ],
      "execution_count": 22,
      "outputs": [
        {
          "output_type": "display_data",
          "data": {
            "image/png": "[encoded data removed]",
            "text/plain": [
              "<Figure size 432x288 with 1 Axes>"
            ]
          },
          "metadata": {
            "tags": [],
            "needs_background": "light"
          }
        }
      ]
    },
    {
      "cell_type": "code",
      "metadata": {
        "id": "nf1fza-Y0LgO"
      },
      "source": [
        "inp = tf.keras.layers.Input((28,28,1))\n",
        "x = tf.keras.layers.Conv2D(64, (7,7), activation = 'relu')(inp)\n",
        "x = tf.keras.layers.MaxPool2D((2,2))(x)\n",
        "x = tf.keras.layers.Conv2D(48, (5,5), activation = 'relu')(x)\n",
        "x = tf.keras.layers.MaxPool2D((2,2))(x)\n",
        "x = tf.keras.layers.Conv2D(32, (3,3), activation = 'relu')(x)\n",
        "output = tf.keras.layers.Conv2D(10, (1,1), activation = 'softmax')(x)\n",
        "\n",
        "model = tf.keras.Model(inputs =[inp], outputs = [output])\n",
        "\n",
        "# model = tf.keras.Sequential([\n",
        "#     tf.keras.layers.Conv2D(64, (7,7), activation = 'relu', input_shape = (28,28,1)),\n",
        "#     tf.keras.layers.MaxPool2D((2,2)),\n",
        "#     tf.keras.layers.Conv2D(48, (5,5), activation = 'relu'),\n",
        "#     tf.keras.layers.MaxPool2D((2,2)),\n",
        "#     tf.keras.layers.Conv2D(32, (3,3), activation = 'relu'),\n",
        "#     tf.keras.layers.Conv2D(10, (1,1), activation = 'softmax'),\n",
        "# ])\n",
        "model.compile(optimizer=tf.keras.optimizers.Adam(3e-4),\n",
        "              loss=\"categorical_crossentropy\",\n",
        "              metrics=['accuracy'])"
      ],
      "execution_count": 26,
      "outputs": []
    },
    {
      "cell_type": "code",
      "metadata": {
        "id": "S3bJ1Whodgsz",
        "outputId": "e30c3df8-40a0-4ad9-eff7-4f887396cabc",
        "colab": {
          "base_uri": "https://localhost:8080/"
        }
      },
      "source": [
        "model.summary()"
      ],
      "execution_count": 27,
      "outputs": [
        {
          "output_type": "stream",
          "text": [
            "Model: \"model_2\"\n",
            "_________________________________________________________________\n",
            "Layer (type)                 Output Shape              Param #   \n",
            "=================================================================\n",
            "input_3 (InputLayer)         [(None, 28, 28, 1)]       0         \n",
            "_________________________________________________________________\n",
            "conv2d_9 (Conv2D)            (None, 22, 22, 64)        3200      \n",
            "_________________________________________________________________\n",
            "max_pooling2d_4 (MaxPooling2 (None, 11, 11, 64)        0         \n",
            "_________________________________________________________________\n",
            "conv2d_10 (Conv2D)           (None, 7, 7, 48)          76848     \n",
            "_________________________________________________________________\n",
            "max_pooling2d_5 (MaxPooling2 (None, 3, 3, 48)          0         \n",
            "_________________________________________________________________\n",
            "conv2d_11 (Conv2D)           (None, 1, 1, 32)          13856     \n",
            "_________________________________________________________________\n",
            "conv2d_12 (Conv2D)           (None, 1, 1, 10)          330       \n",
            "=================================================================\n",
            "Total params: 94,234\n",
            "Trainable params: 94,234\n",
            "Non-trainable params: 0\n",
            "_________________________________________________________________\n"
          ],
          "name": "stdout"
        }
      ]
    },
    {
      "cell_type": "code",
      "metadata": {
        "colab": {
          "base_uri": "https://localhost:8080/"
        },
        "id": "nQaD51-BdmzK",
        "outputId": "997d66cf-46bf-475e-f74c-fca4876344ad"
      },
      "source": [
        "history = model.fit(train_images, train_labels, epochs=30, validation_data=(valid_images, valid_labels), callbacks=[tf.keras.callbacks.EarlyStopping(monitor='val_accuracy', patience=5)])"
      ],
      "execution_count": 28,
      "outputs": [
        {
          "output_type": "stream",
          "text": [
            "Epoch 1/30\n",
            "1875/1875 [==============================] - 12s 6ms/step - loss: 0.9103 - accuracy: 0.6827 - val_loss: 55.1455 - val_accuracy: 0.8230\n",
            "Epoch 2/30\n",
            "1875/1875 [==============================] - 11s 6ms/step - loss: 0.4586 - accuracy: 0.8363 - val_loss: 45.9866 - val_accuracy: 0.8610\n",
            "Epoch 3/30\n",
            "1875/1875 [==============================] - 12s 6ms/step - loss: 0.3865 - accuracy: 0.8642 - val_loss: 45.0156 - val_accuracy: 0.8700\n",
            "Epoch 4/30\n",
            "1875/1875 [==============================] - 11s 6ms/step - loss: 0.3519 - accuracy: 0.8764 - val_loss: 48.6625 - val_accuracy: 0.8680\n",
            "Epoch 5/30\n",
            "1875/1875 [==============================] - 11s 6ms/step - loss: 0.3235 - accuracy: 0.8841 - val_loss: 38.4592 - val_accuracy: 0.8850\n",
            "Epoch 6/30\n",
            "1875/1875 [==============================] - 11s 6ms/step - loss: 0.3056 - accuracy: 0.8901 - val_loss: 38.0985 - val_accuracy: 0.8840\n",
            "Epoch 7/30\n",
            "1875/1875 [==============================] - 11s 6ms/step - loss: 0.2850 - accuracy: 0.8991 - val_loss: 39.8427 - val_accuracy: 0.8860\n",
            "Epoch 8/30\n",
            "1875/1875 [==============================] - 11s 6ms/step - loss: 0.2683 - accuracy: 0.9027 - val_loss: 41.0989 - val_accuracy: 0.8660\n",
            "Epoch 9/30\n",
            "1875/1875 [==============================] - 11s 6ms/step - loss: 0.2541 - accuracy: 0.9090 - val_loss: 40.3854 - val_accuracy: 0.8770\n",
            "Epoch 10/30\n",
            "1875/1875 [==============================] - 11s 6ms/step - loss: 0.2375 - accuracy: 0.9136 - val_loss: 43.6514 - val_accuracy: 0.8800\n",
            "Epoch 11/30\n",
            "1875/1875 [==============================] - 11s 6ms/step - loss: 0.2341 - accuracy: 0.9166 - val_loss: 48.5555 - val_accuracy: 0.8710\n",
            "Epoch 12/30\n",
            "1875/1875 [==============================] - 11s 6ms/step - loss: 0.2193 - accuracy: 0.9200 - val_loss: 42.9411 - val_accuracy: 0.8830\n"
          ],
          "name": "stdout"
        }
      ]
    },
    {
      "cell_type": "code",
      "metadata": {
        "colab": {
          "base_uri": "https://localhost:8080/"
        },
        "id": "RnDWO0fxdmzP",
        "outputId": "4a92ef81-fd4b-47bb-ed31-3e0cd6d7787b"
      },
      "source": [
        "test_loss, test_acc = model.evaluate(test_images,  test_labels)\n",
        "print('\\nTest accuracy:', test_acc)"
      ],
      "execution_count": 29,
      "outputs": [
        {
          "output_type": "stream",
          "text": [
            "282/282 [==============================] - 1s 4ms/step - loss: 0.2893 - accuracy: 0.8964\n",
            "\n",
            "Test accuracy: 0.8964444398880005\n"
          ],
          "name": "stdout"
        }
      ]
    },
    {
      "cell_type": "code",
      "metadata": {
        "id": "66MDloWFdmzQ"
      },
      "source": [
        "predictions = tf.squeeze(tf.argmax(model.predict(test_images), axis=-1))"
      ],
      "execution_count": 30,
      "outputs": []
    },
    {
      "cell_type": "code",
      "metadata": {
        "colab": {
          "base_uri": "https://localhost:8080/"
        },
        "id": "P7NZNWTddmzQ",
        "outputId": "be1f10d3-e62e-4d06-c533-d959d2e9af49"
      },
      "source": [
        "predictions.shape"
      ],
      "execution_count": 31,
      "outputs": [
        {
          "output_type": "execute_result",
          "data": {
            "text/plain": [
              "TensorShape([9000])"
            ]
          },
          "metadata": {
            "tags": []
          },
          "execution_count": 31
        }
      ]
    },
    {
      "cell_type": "code",
      "metadata": {
        "colab": {
          "base_uri": "https://localhost:8080/"
        },
        "id": "BYaVDG_ydmzR",
        "outputId": "2dd2d8ee-792f-4fea-f7d7-659b9964872f"
      },
      "source": [
        "tf.squeeze(tf.argmax(test_labels, axis=-1))"
      ],
      "execution_count": 32,
      "outputs": [
        {
          "output_type": "execute_result",
          "data": {
            "text/plain": [
              "<tf.Tensor: shape=(9000,), dtype=int64, numpy=array([0, 3, 5, ..., 8, 1, 5])>"
            ]
          },
          "metadata": {
            "tags": []
          },
          "execution_count": 32
        }
      ]
    },
    {
      "cell_type": "code",
      "metadata": {
        "colab": {
          "base_uri": "https://localhost:8080/"
        },
        "id": "Ns_iDdyOdmzR",
        "outputId": "0fb284ab-8499-4ee8-fd0b-1807254fc142"
      },
      "source": [
        "print(sklearn.metrics.accuracy_score(predictions, tf.squeeze(tf.argmax(test_labels, axis=-1))))\n",
        "print(sklearn.metrics.classification_report(predictions, tf.squeeze(tf.argmax(test_labels, axis=-1))))\n",
        "print(sklearn.metrics.confusion_matrix(predictions, tf.squeeze(tf.argmax(test_labels, axis=-1))))"
      ],
      "execution_count": 33,
      "outputs": [
        {
          "output_type": "stream",
          "text": [
            "0.8964444444444445\n",
            "              precision    recall  f1-score   support\n",
            "\n",
            "           0       0.83      0.84      0.84       881\n",
            "           1       0.97      1.00      0.98       872\n",
            "           2       0.84      0.84      0.84       888\n",
            "           3       0.91      0.90      0.91       911\n",
            "           4       0.87      0.81      0.84       953\n",
            "           5       0.97      0.98      0.98       909\n",
            "           6       0.68      0.72      0.70       853\n",
            "           7       0.98      0.92      0.95       964\n",
            "           8       0.97      0.97      0.97       912\n",
            "           9       0.93      0.99      0.96       857\n",
            "\n",
            "    accuracy                           0.90      9000\n",
            "   macro avg       0.90      0.90      0.90      9000\n",
            "weighted avg       0.90      0.90      0.90      9000\n",
            "\n",
            "[[744   2  17  15   1   0  99   0   2   1]\n",
            " [  0 869   1   1   0   0   1   0   0   0]\n",
            " [ 11   0 744  12  45   0  69   0   7   0]\n",
            " [ 15  14   9 824  25   0  21   0   3   0]\n",
            " [  3   3  64  25 769   0  85   0   4   0]\n",
            " [  1   1   0   0   0 890   0  12   1   4]\n",
            " [112   5  52  26  42   0 615   0   1   0]\n",
            " [  0   0   0   0   0  18   0 886   5  55]\n",
            " [  7   1   2   4   3   0  13   0 882   0]\n",
            " [  0   0   0   0   0   5   0   7   0 845]]\n"
          ],
          "name": "stdout"
        }
      ]
    },
    {
      "cell_type": "code",
      "metadata": {
        "colab": {
          "base_uri": "https://localhost:8080/",
          "height": 248
        },
        "id": "3h2BMPOtdmzS",
        "outputId": "da796da8-1378-4e42-f6bb-5108c5973774"
      },
      "source": [
        "plot_image(test_images[0])"
      ],
      "execution_count": 34,
      "outputs": [
        {
          "output_type": "display_data",
          "data": {
            "image/png": "[encoded data removed]",
            "text/plain": [
              "<Figure size 432x288 with 1 Axes>"
            ]
          },
          "metadata": {
            "tags": [],
            "needs_background": "light"
          }
        }
      ]
    },
    {
      "cell_type": "code",
      "metadata": {
        "colab": {
          "base_uri": "https://localhost:8080/",
          "height": 295
        },
        "id": "C0YD0igSdmzS",
        "outputId": "c21ee931-13f9-4952-bc86-902779e6ee51"
      },
      "source": [
        "plt.plot(history.history['accuracy'])\n",
        "plt.plot(history.history['val_accuracy'])\n",
        "plt.title('model accuracy')\n",
        "plt.ylabel('accuracy')\n",
        "plt.xlabel('epoch')\n",
        "plt.legend(['train', 'val'], loc='upper left')\n",
        "plt.show()"
      ],
      "execution_count": 35,
      "outputs": [
        {
          "output_type": "display_data",
          "data": {
            "image/png": "[encoded data removed]",
            "text/plain": [
              "<Figure size 432x288 with 1 Axes>"
            ]
          },
          "metadata": {
            "tags": [],
            "needs_background": "light"
          }
        }
      ]
    },
    {
      "cell_type": "code",
      "metadata": {
        "id": "y9hh5sXkfzHw"
      },
      "source": [
        ""
      ],
      "execution_count": null,
      "outputs": []
    }
  ]
}